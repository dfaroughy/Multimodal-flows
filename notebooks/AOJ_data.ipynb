{
 "cells": [
  {
   "cell_type": "code",
   "execution_count": null,
   "id": "dd96a676",
   "metadata": {},
   "outputs": [],
   "source": [
    "import numpy as np\n",
    "import torch\n",
    "import json\n",
    "import matplotlib.pyplot as plt\n",
    "\n",
    "from utils.aoj import AspenOpenJets, JetFeatures \n",
    "\n",
    "num_jets = 100_000\n",
    "max_num_particles = 150\n",
    "\n",
    "aoj = AspenOpenJets(data_dir=\"/home/df630/Multimodal-Bridges/data/aoj\", \n",
    "                    data_files=\"RunG_batch0.h5\")\n",
    "\n",
    "test, _ = aoj(num_jets=num_jets,\n",
    "              download=True,      # takes long time!\n",
    "              max_num_particles=max_num_particles,           \n",
    "              features={\"continuous\": ['pt', 'eta_rel', 'phi_rel'], \"discrete\": \"tokens\"},\n",
    "              pt_order=True,\n",
    "              padding='zeros',\n",
    "              )\n",
    "\n",
    "test = test.squeeze(-1, 'discrete')\n",
    "aoj = JetFeatures(test)  "
   ]
  }
 ],
 "metadata": {
  "language_info": {
   "name": "python"
  }
 },
 "nbformat": 4,
 "nbformat_minor": 5
}
