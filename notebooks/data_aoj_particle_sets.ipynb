{
 "cells": [
  {
   "cell_type": "code",
   "execution_count": 1,
   "metadata": {},
   "outputs": [
    {
     "name": "stderr",
     "output_type": "stream",
     "text": [
      "/home/df630/Multimodal-flows/multimodal_flows/datamodules/aoj.py:87: UserWarning: To copy construct from a tensor, it is recommended to use sourceTensor.detach().clone() or sourceTensor.detach().clone().requires_grad_(True), rather than torch.tensor(sourceTensor).\n",
      "  list_discrete_feats.append(torch.tensor(feats[features[\"discrete\"]]))\n"
     ]
    }
   ],
   "source": [
    "import numpy as np\n",
    "import torch\n",
    "\n",
    "import matplotlib.pyplot as plt\n",
    "from datamodules.aoj import AspenOpenJets \n",
    "\n",
    "aoj = AspenOpenJets(\n",
    "    data_dir=\"/home/df630/Multimodal-Bridges/data/aoj\", data_files=\"RunG_batch0.h5\"\n",
    ")\n",
    "\n",
    "particle_set, _ = aoj(num_jets=10_000,\n",
    "                      download=False,\n",
    "                      features={\"continuous\": None, \"discrete\": \"tokens\"},\n",
    "                      pt_order=True,\n",
    "                      padding='zeros',\n",
    "                      )\n",
    "\n",
    "particle_set.mask = torch.ones_like(particle_set.discrete)\n"
   ]
  },
  {
   "cell_type": "code",
   "execution_count": 10,
   "metadata": {},
   "outputs": [
    {
     "data": {
      "text/plain": [
       "tensor([[1],\n",
       "        [2],\n",
       "        [1],\n",
       "        [1],\n",
       "        [3],\n",
       "        [3],\n",
       "        [1],\n",
       "        [1],\n",
       "        [3],\n",
       "        [2],\n",
       "        [3],\n",
       "        [4],\n",
       "        [4],\n",
       "        [1],\n",
       "        [1],\n",
       "        [1],\n",
       "        [1],\n",
       "        [4],\n",
       "        [4],\n",
       "        [4],\n",
       "        [1],\n",
       "        [3],\n",
       "        [1],\n",
       "        [3],\n",
       "        [1],\n",
       "        [1],\n",
       "        [3],\n",
       "        [1],\n",
       "        [1],\n",
       "        [4],\n",
       "        [2],\n",
       "        [4],\n",
       "        [3],\n",
       "        [4],\n",
       "        [3],\n",
       "        [3],\n",
       "        [1],\n",
       "        [1],\n",
       "        [1],\n",
       "        [3],\n",
       "        [3],\n",
       "        [3],\n",
       "        [1],\n",
       "        [1],\n",
       "        [1],\n",
       "        [3],\n",
       "        [3],\n",
       "        [1],\n",
       "        [4],\n",
       "        [3],\n",
       "        [1],\n",
       "        [4],\n",
       "        [4],\n",
       "        [4],\n",
       "        [4],\n",
       "        [1],\n",
       "        [1],\n",
       "        [4],\n",
       "        [1],\n",
       "        [3],\n",
       "        [4],\n",
       "        [4],\n",
       "        [4],\n",
       "        [3],\n",
       "        [0],\n",
       "        [0],\n",
       "        [0],\n",
       "        [0],\n",
       "        [0],\n",
       "        [0],\n",
       "        [0],\n",
       "        [0],\n",
       "        [0],\n",
       "        [0],\n",
       "        [0],\n",
       "        [0],\n",
       "        [0],\n",
       "        [0],\n",
       "        [0],\n",
       "        [0],\n",
       "        [0],\n",
       "        [0],\n",
       "        [0],\n",
       "        [0],\n",
       "        [0],\n",
       "        [0],\n",
       "        [0],\n",
       "        [0],\n",
       "        [0],\n",
       "        [0],\n",
       "        [0],\n",
       "        [0],\n",
       "        [0],\n",
       "        [0],\n",
       "        [0],\n",
       "        [0],\n",
       "        [0],\n",
       "        [0],\n",
       "        [0],\n",
       "        [0],\n",
       "        [0],\n",
       "        [0],\n",
       "        [0],\n",
       "        [0],\n",
       "        [0],\n",
       "        [0],\n",
       "        [0],\n",
       "        [0],\n",
       "        [0],\n",
       "        [0],\n",
       "        [0],\n",
       "        [0],\n",
       "        [0],\n",
       "        [0],\n",
       "        [0],\n",
       "        [0],\n",
       "        [0],\n",
       "        [0],\n",
       "        [0],\n",
       "        [0],\n",
       "        [0],\n",
       "        [0],\n",
       "        [0],\n",
       "        [0],\n",
       "        [0],\n",
       "        [0],\n",
       "        [0],\n",
       "        [0],\n",
       "        [0],\n",
       "        [0],\n",
       "        [0],\n",
       "        [0],\n",
       "        [0],\n",
       "        [0],\n",
       "        [0],\n",
       "        [0],\n",
       "        [0],\n",
       "        [0],\n",
       "        [0],\n",
       "        [0],\n",
       "        [0],\n",
       "        [0],\n",
       "        [0],\n",
       "        [0],\n",
       "        [0],\n",
       "        [0],\n",
       "        [0],\n",
       "        [0],\n",
       "        [0],\n",
       "        [0]])"
      ]
     },
     "execution_count": 10,
     "metadata": {},
     "output_type": "execute_result"
    }
   ],
   "source": [
    "particle_set.discrete[4]"
   ]
  },
  {
   "cell_type": "code",
   "execution_count": 2,
   "metadata": {},
   "outputs": [
    {
     "data": {
      "text/plain": [
       "<Axes: ylabel='Density'>"
      ]
     },
     "execution_count": 2,
     "metadata": {},
     "output_type": "execute_result"
    },
    {
     "data": {
      "image/png": "[encoded data removed]",
      "text/plain": [
       "<Figure size 640x480 with 1 Axes>"
      ]
     },
     "metadata": {},
     "output_type": "display_data"
    }
   ],
   "source": [
    "import seaborn as sns\n",
    "\n",
    "sns.histplot((particle_set.discrete > 0).sum(dim=1), \n",
    "             discrete=True,\n",
    "             stat=\"density\",\n",
    "             element=\"step\",\n",
    "             )"
   ]
  },
  {
   "cell_type": "code",
   "execution_count": 3,
   "metadata": {},
   "outputs": [],
   "source": [
    "from torch.utils.data import DataLoader, random_split\n",
    "from tensorclass import TensorMultiModal\n",
    "from datamodules.datasets import MultiModalDataset, DataCoupling, data_coupling_collate_fn\n",
    "\n",
    "data = DataCoupling(source=TensorMultiModal(), target=particle_set)\n",
    "dataset = MultiModalDataset(data)\n",
    "batch_size = 128\n",
    "\n",
    "train_size = int(0.8 * len(dataset))\n",
    "val_size   = len(dataset) - train_size\n",
    "\n",
    "train_dataset, val_dataset = random_split(dataset, [train_size, val_size])\n",
    "train_dataloader = DataLoader(train_dataset, batch_size=batch_size, shuffle=True, collate_fn=data_coupling_collate_fn)\n",
    "val_dataloader   = DataLoader(val_dataset,   batch_size=batch_size, shuffle=False, collate_fn=data_coupling_collate_fn)"
   ]
  },
  {
   "cell_type": "code",
   "execution_count": 12,
   "metadata": {},
   "outputs": [],
   "source": [
    "import numpy as np\n",
    "import torch\n",
    "import torch.nn as nn\n",
    "import pytorch_lightning as L\n",
    "from torch.optim.lr_scheduler import CosineAnnealingLR\n",
    "from torch.utils.data import DataLoader, TensorDataset\n",
    "import torch.nn.functional as F\n",
    "from scipy.special import gammaln, gamma, factorial\n",
    "\n",
    "from transformers import GPT2LMHeadModel, GPT2Config\n",
    "\n",
    "class JetGPT2Model(L.LightningModule):\n",
    "    def __init__(\n",
    "        self,\n",
    "        max_seq_length: int = 150,\n",
    "        n_embd=128,\n",
    "        n_inner=None,\n",
    "        n_layer=2,\n",
    "        n_head=1,\n",
    "        activation='gelu_new',\n",
    "        dropout_att=0.1,\n",
    "        dropout_emb=0.1,\n",
    "        dropout_res=0.1,\n",
    "        learning_rate=5e-4,\n",
    "        learning_rate_final=0.0,\n",
    "        top_k=None,\n",
    "        temperature=1.0,\n",
    "        pos_encoding=True,\n",
    "    ):\n",
    "        super().__init__()\n",
    "\n",
    "        # basic config\n",
    "        self.max_seq_length = max_seq_length    # real tokens per jet\n",
    "        self.vocab_size = 8\n",
    "\n",
    "        # model config\n",
    "        self.lr = learning_rate\n",
    "        self.lr_final = learning_rate_final\n",
    "        self.do_sample = True  # sample multinomial\n",
    "        self.temperature = temperature\n",
    "        self.top_k = top_k\n",
    "        self.pos_encoding = pos_encoding\n",
    "\n",
    "        # special tokens:\n",
    "        self.start_token = self.vocab_size + 1\n",
    "        self.end_token = self.vocab_size + 2\n",
    "        self.pad_token = 0   \n",
    "\n",
    "        config = GPT2Config(\n",
    "            vocab_size=self.vocab_size + 3,     # token vocab + BOS + EOS + pads\n",
    "            n_positions=max_seq_length + 2,     # seq with BOS and EOS enpoints\n",
    "            n_ctx=max_seq_length + 2,           # seq with BOS and EOS enpoints\n",
    "            n_embd=n_embd,\n",
    "            n_inner=n_inner if n_inner is not None else 4 * n_embd,\n",
    "            n_layer=n_layer,\n",
    "            n_head=n_head,\n",
    "            activation_function=activation,\n",
    "            attn_pdrop=dropout_att,\n",
    "            embd_pdrop=dropout_emb,\n",
    "            resid_pdrop=dropout_res,\n",
    "            bos_token_id=self.start_token,\n",
    "            eos_token_id=self.end_token,\n",
    "            pad_token_id=self.pad_token,\n",
    "        )\n",
    "\n",
    "        self.model = GPT2LMHeadModel(config)\n",
    "\n",
    "        if not self.pos_encoding:\n",
    "            # If pos_encoding is disabled, zero & freeze GPT-2's pos embeddings\n",
    "            with torch.no_grad():\n",
    "                self.model.transformer.wpe.weight.zero_()\n",
    "            self.model.transformer.wpe.weight.requires_grad = False\n",
    "\n",
    "        self.save_hyperparameters()\n",
    "\n",
    "    #...train/inference methods\n",
    "\n",
    "    def forward(self, input_ids, attention_mask=None):\n",
    "\n",
    "        outputs = self.model(input_ids=input_ids, \n",
    "                             attention_mask=attention_mask\n",
    "                             )\n",
    "        \n",
    "        return outputs.logits\n",
    "\n",
    "    def training_step(self, batch: TensorMultiModal, batch_idx):\n",
    "        input_ids = batch.discrete.squeeze(-1).long(),\n",
    "        mask = (self.input_ids != pad_token).long()\n",
    "        outputs = self.model(input_ids=input_ids,\n",
    "                             attention_mask=mask,\n",
    "                             labels=self._mask_pads(input_ids),\n",
    "                            )\n",
    "\n",
    "        loss = outputs.loss\n",
    "        self.log(\"train_loss\",\n",
    "                 loss,\n",
    "                 on_epoch=True,\n",
    "                 prog_bar=True,\n",
    "                 logger=True,\n",
    "                 sync_dist=True,\n",
    "                 )\n",
    "\n",
    "        return {\"loss\": loss}\n",
    "\n",
    "    def validation_step(self, batch, batch_idx):\n",
    "        input_ids = batch.discrete.squeeze(-1).long(),\n",
    "        mask = (self.input_ids != pad_token).long()\n",
    "        outputs = self.model(input_ids=input_ids,\n",
    "                             attention_mask=mask,\n",
    "                             labels=self._mask_pads(input_ids),\n",
    "                            )\n",
    "\n",
    "        loss = outputs.loss\n",
    "        self.log(\"val_loss\",\n",
    "                 loss,\n",
    "                 on_epoch=True,\n",
    "                 prog_bar=True,\n",
    "                 logger=True,\n",
    "                 sync_dist=True,\n",
    "                 )\n",
    "        return {\"val_loss\": loss}\n",
    "\n",
    "    def predict_step(self, batch, batch_idx, dataloader_idx=0):\n",
    "\n",
    "\n",
    "        preds = self.model.generate(\n",
    "                        input_ids=batch,\n",
    "                        max_new_tokens=self.max_seq_length + 2, \n",
    "                        do_sample=self.do_sample,\n",
    "                        temperature=self.temperature,\n",
    "                        top_k = self.top_k,\n",
    "                        bos_token_id=self.start_token,\n",
    "                        eos_token_id=self.end_token,\n",
    "                        pad_token_id=self.pad_token,\n",
    "                    )\n",
    "\n",
    "        preds = F.pad(preds, (0, self.max_seq_length + 2 - preds.shape[1]), value=self.pad_token)\n",
    "\n",
    "        return preds.detach().cpu()\n",
    " \n",
    "\n",
    "    def configure_optimizers(self):\n",
    "        optimizer = torch.optim.Adam(self.parameters(), lr=self.lr)\n",
    "\n",
    "        scheduler = CosineAnnealingLR(\n",
    "            optimizer,\n",
    "            T_max=self.trainer.max_epochs,    # full cycle length\n",
    "            eta_min=self.lr_final             # final LR\n",
    "        )\n",
    "        return {\n",
    "            \"optimizer\": optimizer,\n",
    "            \"lr_scheduler\": {\n",
    "                \"scheduler\": scheduler,\n",
    "                \"interval\": \"epoch\",   \n",
    "                \"frequency\": 1,\n",
    "                \"strict\": True,\n",
    "            },\n",
    "        }\n",
    "\n",
    "\n",
    "    def _mask_pads(self, labels):\n",
    "        \"\"\" Mask out the padding tokens in the labels.\n",
    "        \"\"\"\n",
    "        labels = labels.clone()\n",
    "        labels[labels == self.pad_token] = -100  # CE ignores\n",
    "        return labels\n"
   ]
  },
  {
   "cell_type": "code",
   "execution_count": 1,
   "metadata": {},
   "outputs": [
    {
     "name": "stderr",
     "output_type": "stream",
     "text": [
      "/home/df630/Multimodal-flows/multimodal_flows/datamodules/aoj.py:87: UserWarning: To copy construct from a tensor, it is recommended to use sourceTensor.detach().clone() or sourceTensor.detach().clone().requires_grad_(True), rather than torch.tensor(sourceTensor).\n",
      "  list_discrete_feats.append(torch.tensor(feats[features[\"discrete\"]]))\n"
     ]
    }
   ],
   "source": [
    "import numpy as np\n",
    "import torch\n",
    "\n",
    "import matplotlib.pyplot as plt\n",
    "from datamodules.aoj import AspenOpenJets \n",
    "from datamodules.utils import jet_set_to_seq\n",
    "\n",
    "aoj = AspenOpenJets(\n",
    "    data_dir=\"/home/df630/Multimodal-Bridges/data/aoj\", data_files=\"RunG_batch0.h5\"\n",
    ")\n",
    "\n",
    "num_jets = 30_000\n",
    "max_num_particles = 150\n",
    "\n",
    "particle_set, _ = aoj(num_jets=num_jets,\n",
    "                      download=False,      \n",
    "                      max_num_particles=max_num_particles,           \n",
    "                      features={\"continuous\": None, \"discrete\": \"tokens\"},\n",
    "                      pt_order=True,\n",
    "                      padding='zeros',\n",
    "                      )\n",
    "\n",
    "particle_seq = jet_set_to_seq(particle_set, vocab_size=8)\n"
   ]
  },
  {
   "cell_type": "code",
   "execution_count": 2,
   "metadata": {},
   "outputs": [],
   "source": [
    "import torch\n",
    "from pytorch_lightning.loggers import CometLogger\n",
    "import pytorch_lightning as L\n",
    "from torch.utils.data import DataLoader, random_split\n",
    "from tensorclass import TensorMultiModal\n",
    "from datamodules.datasets import MultiModalDataset, DataCoupling, data_coupling_collate_fn\n",
    "from model.jetGPT import JetGPT2Model\n",
    "\n",
    "\n",
    "experiment_id = '1515adfa207d4091814263a015ff80ba'\n",
    "gpt = JetGPT2Model.load_from_checkpoint(f\"/home/df630/Multimodal-flows/jet_sequences/{experiment_id}/checkpoints/best.ckpt\", map_location=\"cpu\",)\n"
   ]
  },
  {
   "cell_type": "code",
   "execution_count": 3,
   "metadata": {},
   "outputs": [],
   "source": [
    "prompts = torch.full((num_jets, 1), gpt.start_token, dtype=torch.long)\n",
    "attention_mask = torch.ones_like(prompts)\n",
    "\n",
    "samples = gpt.model.generate(\n",
    "                            input_ids=prompts,\n",
    "                            attention_mask=attention_mask,\n",
    "                            max_new_tokens=gpt.max_seq_length + 2, \n",
    "                            do_sample=True,\n",
    "                            temperature=gpt.temperature,\n",
    "                            top_k=gpt.top_k,\n",
    "                            eos_token_id=gpt.end_token,\n",
    "                            pad_token_id=gpt.pad_token,\n",
    "                            )"
   ]
  },
  {
   "cell_type": "code",
   "execution_count": 28,
   "metadata": {},
   "outputs": [
    {
     "data": {
      "text/plain": [
       "torch.Size([30000, 142])"
      ]
     },
     "execution_count": 28,
     "metadata": {},
     "output_type": "execute_result"
    }
   ],
   "source": [
    "samples.shape"
   ]
  },
  {
   "cell_type": "code",
   "execution_count": 7,
   "metadata": {},
   "outputs": [
    {
     "data": {
      "text/plain": [
       "(tensor(0),\n",
       " tensor(449801),\n",
       " tensor(113845),\n",
       " tensor(423835),\n",
       " tensor(435271),\n",
       " tensor(2004),\n",
       " tensor(2073),\n",
       " tensor(1474),\n",
       " tensor(1389))"
      ]
     },
     "execution_count": 7,
     "metadata": {},
     "output_type": "execute_result"
    }
   ],
   "source": [
    "y = particle_seq.discrete.squeeze(-1).long()\n",
    "(y==0).sum(),(y==1).sum(), (y==2).sum(),(y==3).sum(),(y==4).sum(),(y==5).sum(),(y==6).sum(),(y==7).sum(),(y==8).sum()"
   ]
  },
  {
   "cell_type": "code",
   "execution_count": 6,
   "metadata": {},
   "outputs": [
    {
     "data": {
      "text/plain": [
       "(tensor(0),\n",
       " tensor(455552),\n",
       " tensor(115491),\n",
       " tensor(428383),\n",
       " tensor(443855),\n",
       " tensor(2093),\n",
       " tensor(2070),\n",
       " tensor(1476),\n",
       " tensor(1412))"
      ]
     },
     "execution_count": 6,
     "metadata": {},
     "output_type": "execute_result"
    }
   ],
   "source": [
    "(samples==0).sum(),(samples==1).sum(), (samples==2).sum(), (samples==3).sum(), (samples==4).sum(), (samples==5).sum(), (samples==6).sum(), (samples==7).sum(), (samples==8).sum()"
   ]
  },
  {
   "cell_type": "code",
   "execution_count": null,
   "metadata": {},
   "outputs": [],
   "source": [
    "generator = L.Trainer(accelerator=\"gpu\", \n",
    "                      devices=[0], \n",
    "                      )\n",
    "\n",
    "x = generator.predict(gpt, dataloaders=predict_dataloader)"
   ]
  },
  {
   "cell_type": "code",
   "execution_count": 4,
   "metadata": {},
   "outputs": [],
   "source": [
    "X = torch.cat([xx.discrete for xx in x], dim=1).squeeze(-1).cpu()"
   ]
  },
  {
   "cell_type": "code",
   "execution_count": 12,
   "metadata": {},
   "outputs": [
    {
     "data": {
      "text/plain": [
       "tensor([4, 1, 3, 4, 1, 2, 4, 4, 3, 1, 2, 2, 4, 2, 3, 4, 3, 1, 0, 0, 0, 0, 0, 0,\n",
       "        0, 0, 0, 0, 0, 0, 0, 0, 0, 0, 0, 0, 0, 0, 0, 0, 0, 0, 0, 0, 0, 0, 0, 0,\n",
       "        0, 0, 0, 0, 0, 0, 0, 0, 0, 0, 0, 0, 0, 0, 0, 0, 0, 0, 0, 0, 0, 0, 0, 0,\n",
       "        0, 0, 0, 0, 0, 0, 0, 0, 0, 0, 0, 0, 0, 0, 0, 0, 0, 0, 0, 0, 0, 0, 0, 0,\n",
       "        0, 0, 0, 0, 0, 0, 0, 0, 0, 0, 0, 0, 0, 0, 0, 0, 0, 0, 0, 0, 0, 0, 0, 0,\n",
       "        0, 0, 0, 0, 0, 0, 0, 0, 0, 0, 0, 0, 0, 0, 0, 0, 0, 0, 0, 0, 0, 0, 0, 0,\n",
       "        0, 0, 0, 0, 0, 0])"
      ]
     },
     "execution_count": 12,
     "metadata": {},
     "output_type": "execute_result"
    }
   ],
   "source": [
    "X[1][0]"
   ]
  },
  {
   "cell_type": "code",
   "execution_count": 13,
   "metadata": {},
   "outputs": [
    {
     "data": {
      "text/plain": [
       "tensor([4, 1, 3, 4, 1, 2, 4, 4, 3, 1, 2, 2, 4, 2, 3, 4, 3, 1, 0, 0, 0, 0, 0, 0,\n",
       "        0, 0, 0, 0, 0, 0, 0, 0, 0, 0, 0, 0, 0, 0, 0, 0, 0, 0, 0, 0, 0, 0, 0, 0,\n",
       "        0, 0, 0, 0, 0, 0, 0, 0, 0, 0, 0, 0, 0, 0, 0, 0, 0, 0, 0, 0, 0, 0, 0, 0,\n",
       "        0, 0, 0, 0, 0, 0, 0, 0, 0, 0, 0, 0, 0, 0, 0, 0, 0, 0, 0, 0, 0, 0, 0, 0,\n",
       "        0, 0, 0, 0, 0, 0, 0, 0, 0, 0, 0, 0, 0, 0, 0, 0, 0, 0, 0, 0, 0, 0, 0, 0,\n",
       "        0, 0, 0, 0, 0, 0, 0, 0, 0, 0, 0, 0, 0, 0, 0, 0, 0, 0, 0, 0, 0, 0, 0, 0,\n",
       "        0, 0, 0, 0, 0, 0])"
      ]
     },
     "execution_count": 13,
     "metadata": {},
     "output_type": "execute_result"
    }
   ],
   "source": [
    "X[1][0]"
   ]
  },
  {
   "cell_type": "code",
   "execution_count": 10,
   "metadata": {},
   "outputs": [
    {
     "data": {
      "text/plain": [
       "tensor([ 9,  5,  1,  3,  4,  1,  4,  4,  4,  4,  3,  4,  3,  1,  1,  3,  3,  4,\n",
       "         4,  3,  4,  1,  3,  4,  1,  4,  4,  1,  3,  1,  3,  1,  3,  1,  3,  1,\n",
       "         3,  3,  4,  3,  1,  1,  4,  4, 10, 11, 11, 11, 11, 11, 11, 11, 11, 11,\n",
       "        11, 11, 11, 11, 11, 11, 11, 11, 11, 11, 11, 11, 11, 11, 11, 11, 11, 11,\n",
       "        11, 11, 11, 11, 11, 11, 11, 11, 11, 11, 11, 11, 11, 11, 11, 11, 11, 11,\n",
       "        11, 11, 11, 11, 11, 11, 11, 11, 11, 11, 11, 11, 11, 11, 11, 11, 11, 11,\n",
       "        11, 11, 11, 11, 11, 11, 11, 11, 11, 11, 11, 11, 11, 11, 11, 11, 11, 11,\n",
       "        11, 11, 11, 11, 11, 11, 11, 11, 11, 11, 11, 11, 11, 11, 11, 11])"
      ]
     },
     "execution_count": 10,
     "metadata": {},
     "output_type": "execute_result"
    }
   ],
   "source": [
    "samples[3]"
   ]
  },
  {
   "cell_type": "code",
   "execution_count": 26,
   "metadata": {},
   "outputs": [
    {
     "data": {
      "text/plain": [
       "<Axes: ylabel='Density'>"
      ]
     },
     "execution_count": 26,
     "metadata": {},
     "output_type": "execute_result"
    },
    {
     "data": {
      "image/png": "[encoded data removed]",
      "text/plain": [
       "<Figure size 640x480 with 1 Axes>"
      ]
     },
     "metadata": {},
     "output_type": "display_data"
    }
   ],
   "source": [
    "import seaborn as sns\n",
    "\n",
    "n = 6\n",
    "\n",
    "sns.histplot((particle_seq.discrete == n).sum(dim=1), \n",
    "             discrete=True,\n",
    "             stat=\"density\",\n",
    "             element=\"step\",\n",
    "             fill=False,\n",
    "              log_scale=(False, True),\n",
    "             )\n",
    "\n",
    "\n",
    "sns.histplot((samples == n).sum(dim=1),\n",
    "                discrete=True,\n",
    "                stat=\"density\",\n",
    "                element=\"step\",\n",
    "                fill=False,\n",
    "                log_scale=(False, True),\n",
    "\n",
    "                )\n",
    "\n",
    "# sns.histplot((X[0] == n).sum(dim=1),\n",
    "#                 discrete=True,\n",
    "#                 stat=\"density\",\n",
    "#                 element=\"step\",\n",
    "#                 fill=False,\n",
    "#                 log_scale=(False, True),\n",
    "#                 )"
   ]
  },
  {
   "cell_type": "code",
   "execution_count": 19,
   "metadata": {},
   "outputs": [
    {
     "data": {
      "text/plain": [
       "<Axes: ylabel='Density'>"
      ]
     },
     "execution_count": 19,
     "metadata": {},
     "output_type": "execute_result"
    },
    {
     "data": {
      "image/png": "[encoded data removed]",
      "text/plain": [
       "<Figure size 640x480 with 1 Axes>"
      ]
     },
     "metadata": {},
     "output_type": "display_data"
    }
   ],
   "source": [
    "import seaborn as sns\n",
    "\n",
    "n = 2\n",
    "\n",
    "sns.histplot((particle_set.discrete == n).sum(dim=1), \n",
    "             discrete=True,\n",
    "             stat=\"density\",\n",
    "             element=\"step\",\n",
    "             )\n",
    "\n",
    "\n",
    "sns.histplot((X[1] == n).sum(dim=1),\n",
    "                discrete=True,\n",
    "                stat=\"density\",\n",
    "                element=\"step\",\n",
    "                )\n",
    "\n",
    "sns.histplot((X[0] == n).sum(dim=1),\n",
    "                discrete=True,\n",
    "                stat=\"density\",\n",
    "                element=\"step\",\n",
    "                fill=False,\n",
    "                )"
   ]
  },
  {
   "cell_type": "code",
   "execution_count": 20,
   "metadata": {},
   "outputs": [
    {
     "data": {
      "text/plain": [
       "array([ True, False, False, ..., False, False, False], shape=(150000,))"
      ]
     },
     "execution_count": 20,
     "metadata": {},
     "output_type": "execute_result"
    }
   ],
   "source": [
    "X[1].flatten() == 0"
   ]
  },
  {
   "cell_type": "markdown",
   "metadata": {},
   "source": [
    "## Token ocurrence per jet"
   ]
  },
  {
   "cell_type": "code",
   "execution_count": 4,
   "metadata": {},
   "outputs": [],
   "source": [
    "token_freqs = torch.tensor(\n",
    "    [\n",
    "        (data.isPhoton.sum(dim=1) / data.multiplicity.squeeze(-1)).mean(),\n",
    "        (data.isNeutralHadron.sum(dim=1) / data.multiplicity.squeeze(-1)).mean(),\n",
    "        (data.isNegativeHadron.sum(dim=1) / data.multiplicity.squeeze(-1)).mean(),\n",
    "        (data.isPositiveHadron.sum(dim=1) / data.multiplicity.squeeze(-1)).mean(),\n",
    "        (data.isElectron.sum(dim=1) / data.multiplicity.squeeze(-1)).mean(),\n",
    "        (data.isPositron.sum(dim=1) / data.multiplicity.squeeze(-1)).mean(),\n",
    "        (data.isMuon.sum(dim=1) / data.multiplicity.squeeze(-1)).mean(),\n",
    "        (data.isAntiMuon.sum(dim=1) / data.multiplicity.squeeze(-1)).mean(),\n",
    "    ]\n",
    ")"
   ]
  },
  {
   "cell_type": "code",
   "execution_count": 12,
   "metadata": {},
   "outputs": [
    {
     "name": "stderr",
     "output_type": "stream",
     "text": [
      "`loss_type=None` was set in the config but it is unrecognised.Using the default loss: `ForCausalLMLoss`.\n"
     ]
    },
    {
     "name": "stdout",
     "output_type": "stream",
     "text": [
      "✔ forward OK, loss= 2.0418574810028076\n"
     ]
    }
   ],
   "source": [
    "batch = next(iter(train_dataloader))\n",
    "state = mjb.sample_bridges(batch).to(mjb.device)\n",
    "target = batch.target.discrete.squeeze(-1).to(mjb.device)\n",
    "\n",
    "# run one forward+loss\n",
    "outputs = mjb.model(\n",
    "    input_ids      = state.discrete.squeeze(-1).long(),\n",
    "    attention_mask= state.mask.squeeze(-1).long(),\n",
    "    labels         = target.long(),\n",
    ")\n",
    "print(\"✔ forward OK, loss=\", outputs.loss.item())"
   ]
  },
  {
   "cell_type": "code",
   "execution_count": 7,
   "metadata": {},
   "outputs": [
    {
     "name": "stdout",
     "output_type": "stream",
     "text": [
      "tensor([[ 0., 10.,  3.,  ...,  0.,  0.,  0.],\n",
      "        [ 0., 13.,  1.,  ...,  0.,  0.,  1.],\n",
      "        [ 0.,  3.,  0.,  ...,  0.,  0.,  0.],\n",
      "        ...,\n",
      "        [ 0.,  9.,  1.,  ...,  0.,  1.,  0.],\n",
      "        [ 0.,  6.,  1.,  ...,  0.,  1.,  0.],\n",
      "        [ 0., 29.,  4.,  ...,  0.,  0.,  0.]])\n"
     ]
    },
    {
     "data": {
      "image/png": "[encoded data removed]",
      "text/plain": [
       "<Figure size 1200x300 with 3 Axes>"
      ]
     },
     "metadata": {},
     "output_type": "display_data"
    }
   ],
   "source": [
    "_, ax = plt.subplots(1, 3, figsize=(12, 3))\n",
    "\n",
    "jets.plot_flavor_count_per_jet(\n",
    "    markersize=8,\n",
    "    color=[\n",
    "        \"orange\",\n",
    "        \"orange\",\n",
    "        \"forestgreen\",\n",
    "        \"blue\",\n",
    "        \"blue\",\n",
    "        \"firebrick\",\n",
    "        \"firebrick\",\n",
    "        \"hotpink\",\n",
    "        \"hotpink\",\n",
    "    ],\n",
    "    ax=ax[0],\n",
    ")\n",
    "\n",
    "fill = False\n",
    "alpha = 1 \n",
    "\n",
    "data.histplot('num_Photon',ax=ax[1], fill=fill, alpha=alpha, binrange=(0, 100), binwidth=1,log_scale=(False, True),  stat='density', color='orange',lw=1,  label=r'$\\gamma$')\n",
    "data.histplot(\"num_NeutralHadron\",  ax=ax[1], fill=fill, alpha=alpha, binrange=(0, 100), binwidth=1, log_scale=(False, True),  stat='density', color='forestgreen',lw=1,  label=r'$h^0$')\n",
    "data.histplot(\"num_NegativeHadron\", ax=ax[1], fill=fill, alpha=alpha, binrange=(0, 100), binwidth=1, log_scale=(False, True) , stat='density', color='blue', lw=1, label=r'$h^-$')\n",
    "data.histplot(\"num_PositiveHadron\",  ax=ax[1], fill=fill, alpha=alpha, binrange=(0, 100), binwidth=1, log_scale=(False, True), ls=':', stat='density', color='blue', lw=1, label=r'$h^+$')\n",
    "data.histplot(\"num_Electron\", ax=ax[1], fill=fill, alpha=alpha, binrange=(0, 100),binwidth=1, log_scale=(False, True),  stat='density', color='firebrick', lw=1,  label=r'$e^-$')\n",
    "data.histplot(\"num_Positron\", ax=ax[1], fill=fill, alpha=alpha, binrange=(0, 100),binwidth=1, log_scale=(False, True),  stat='density', color='firebrick', lw=1, ls=':', label=r'$e^+$')\n",
    "data.histplot(\"num_Muon\", ax=ax[1], fill=fill, alpha=alpha, binrange=(0, 100),binwidth=1, log_scale=(False, True),  stat='density', color='hotpink', lw=1, label=r'$\\mu^-$')\n",
    "data.histplot(\"num_AntiMuon\", ax=ax[1], fill=fill, alpha=alpha, binrange=(0, 100),binwidth=1, log_scale=(False, True),  stat='density', color='hotpink', lw=1, ls=':', label=r'$\\mu^+$')\n",
    "data.histplot(\"charge\", discrete=True, ax=ax[2], alpha=0.25, label=\"electric charge\", stat='density', )\n",
    "\n",
    "ax[0].set_xlim(-0.5,7.5)\n",
    "ax[0].set_ylim(0.01,100)\n",
    "ax[1].set_ylim(1e-5,10)\n",
    "ax[1].set_xlim(-1,65)\n",
    "ax[2].set_ylim(0.0,0.13)\n",
    "\n",
    "ax[0].set_xlabel('particle flavor', fontsize=12)\n",
    "ax[1].set_xlabel('particle multiplicity $N$', fontsize=12)\n",
    "ax[1].set_ylabel('density', fontsize=10)\n",
    "ax[2].set_xlabel('jet electric charge', fontsize=12)\n",
    "ax[2].set_ylabel('density', fontsize=10)\n",
    "ax[1].legend(fontsize=12, loc=\"upper right\", handletextpad=0.5, handlelength=1., labelspacing=0.1)\n",
    "\n",
    "plt.tight_layout()\n",
    "plt.savefig(\"particle_discrete_feats.png\", dpi=1000)\n",
    "\n",
    "\n",
    "plt.show()\n",
    "\n"
   ]
  },
  {
   "cell_type": "code",
   "execution_count": null,
   "metadata": {},
   "outputs": [],
   "source": [
    "sets.histplot(\"num_Photon\", fill=False, discrete=True,  stat='density', color='blue', lw=1, label=r'$p_T$')"
   ]
  },
  {
   "cell_type": "code",
   "execution_count": null,
   "metadata": {},
   "outputs": [],
   "source": [
    "particle_sets.histplot(\"numElectrons\", discrete=True,  stat='density', color='blue', lw=1, label=r'$p_T$')"
   ]
  },
  {
   "cell_type": "code",
   "execution_count": null,
   "metadata": {},
   "outputs": [],
   "source": [
    "import numpy as np\n",
    "import torch\n",
    "\n",
    "import matplotlib.pyplot as plt\n",
    "from datamodules.aoj import AspenOpenJets\n",
    "\n",
    "aoj = AspenOpenJets(\n",
    "    data_dir=\"/home/df630/Multimodal-Bridges/data/aoj\", data_files=\"RunG_batch0.h5\"\n",
    ")\n",
    "\n",
    "particle_set, _ = aoj(\n",
    "    num_jets=10_000,\n",
    "    download=False,\n",
    "    features={\"continuous\":None, \"discrete\": \"tokens\"},\n",
    ")\n"
   ]
  }
 ],
 "metadata": {
  "kernelspec": {
   "display_name": "markov_bridges",
   "language": "python",
   "name": "python3"
  },
  "language_info": {
   "codemirror_mode": {
    "name": "ipython",
    "version": 3
   },
   "file_extension": ".py",
   "mimetype": "text/x-python",
   "name": "python",
   "nbconvert_exporter": "python",
   "pygments_lexer": "ipython3",
   "version": "3.11.12"
  },
  "orig_nbformat": 4
 },
 "nbformat": 4,
 "nbformat_minor": 2
}
