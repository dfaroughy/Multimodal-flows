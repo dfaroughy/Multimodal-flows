{
 "cells": [
  {
   "cell_type": "code",
   "execution_count": 15,
   "metadata": {},
   "outputs": [
    {
     "name": "stderr",
     "output_type": "stream",
     "text": [
      "/home/df630/Multimodal-flows/multimodal_flows/utils/aoj.py:85: UserWarning: To copy construct from a tensor, it is recommended to use sourceTensor.detach().clone() or sourceTensor.detach().clone().requires_grad_(True), rather than torch.tensor(sourceTensor).\n",
      "  list_discrete_feats.append(torch.tensor(feats[features[\"discrete\"]]))\n"
     ]
    }
   ],
   "source": [
    "import numpy as np\n",
    "import torch\n",
    "\n",
    "import matplotlib.pyplot as plt\n",
    "from utils.aoj import AspenOpenJets \n",
    "from utils.datasets import jet_set_to_seq\n",
    "\n",
    "aoj = AspenOpenJets(\n",
    "    data_dir=\"/home/df630/Multimodal-Bridges/data/aoj\", data_files=\"RunG_batch1.h5\"\n",
    ")\n",
    "\n",
    "num_jets = 50_000\n",
    "max_num_particles = 150\n",
    "\n",
    "data, metadata = aoj(num_jets=num_jets,\n",
    "                      download=False,      \n",
    "                      max_num_particles=max_num_particles,           \n",
    "                      features={\"continuous\": ['pt', 'eta_rel', 'phi_rel'], \"discrete\": \"tokens\"},\n",
    "                      pt_order=True,\n",
    "                      padding='zeros',\n",
    "                      )\n"
   ]
  },
  {
   "cell_type": "code",
   "execution_count": 1,
   "metadata": {},
   "outputs": [
    {
     "name": "stderr",
     "output_type": "stream",
     "text": [
      "/home/df630/Multimodal-flows/multimodal_flows/utils/aoj.py:85: UserWarning: To copy construct from a tensor, it is recommended to use sourceTensor.detach().clone() or sourceTensor.detach().clone().requires_grad_(True), rather than torch.tensor(sourceTensor).\n",
      "  list_discrete_feats.append(torch.tensor(feats[features[\"discrete\"]]))\n"
     ]
    },
    {
     "ename": "TypeError",
     "evalue": "unsupported operand type(s) for *: 'TensorMultiModal' and 'Tensor'",
     "output_type": "error",
     "traceback": [
      "\u001b[31m---------------------------------------------------------------------------\u001b[39m",
      "\u001b[31mTypeError\u001b[39m                                 Traceback (most recent call last)",
      "\u001b[36mCell\u001b[39m\u001b[36m \u001b[39m\u001b[32mIn[1]\u001b[39m\u001b[32m, line 43\u001b[39m\n\u001b[32m     40\u001b[39m data = DataCoupling(source=source, target=TensorMultiModal())\n\u001b[32m     42\u001b[39m sample = mmf.simulate_dynamics(data)\n\u001b[32m---> \u001b[39m\u001b[32m43\u001b[39m sample = \u001b[43msample\u001b[49m\u001b[43m.\u001b[49m\u001b[43mtarget\u001b[49m\u001b[43m.\u001b[49m\u001b[43mdetach\u001b[49m\u001b[43m(\u001b[49m\u001b[43m)\u001b[49m\u001b[43m.\u001b[49m\u001b[43mcpu\u001b[49m\u001b[43m(\u001b[49m\u001b[43m)\u001b[49m\u001b[43m \u001b[49m\u001b[43m*\u001b[49m\u001b[43m \u001b[49m\u001b[43mtest\u001b[49m\u001b[43m.\u001b[49m\u001b[43mmask\u001b[49m\u001b[43m.\u001b[49m\u001b[43mcpu\u001b[49m\u001b[43m(\u001b[49m\u001b[43m)\u001b[49m\n\u001b[32m     46\u001b[39m plot_flavor_feats(sample, \n\u001b[32m     47\u001b[39m                   test, \n\u001b[32m     48\u001b[39m                   path_dir=\u001b[33mf\u001b[39m\u001b[33m\"\u001b[39m\u001b[38;5;132;01m{\u001b[39;00mconfig.dir\u001b[38;5;132;01m}\u001b[39;00m\u001b[33m/\u001b[39m\u001b[38;5;132;01m{\u001b[39;00mconfig.project\u001b[38;5;132;01m}\u001b[39;00m\u001b[33m/\u001b[39m\u001b[38;5;132;01m{\u001b[39;00mconfig.experiment_id\u001b[38;5;132;01m}\u001b[39;00m\u001b[33m\"\u001b[39m)\n",
      "\u001b[31mTypeError\u001b[39m: unsupported operand type(s) for *: 'TensorMultiModal' and 'Tensor'"
     ]
    }
   ],
   "source": [
    "import numpy as np\n",
    "import torch\n",
    "from argparse import ArgumentParser\n",
    "from pytorch_lightning.loggers import CometLogger\n",
    "import pytorch_lightning as L\n",
    "import matplotlib.pyplot as plt\n",
    "from torch.utils.data import DataLoader, random_split\n",
    "from transformers import GPT2Config\n",
    "\n",
    "from utils.tensorclass import TensorMultiModal\n",
    "from utils.aoj import AspenOpenJets \n",
    "from utils.datasets import MultiModalDataset, DataCoupling, data_coupling_collate_fn\n",
    "from utils.callbacks import GPTGeneratorCallback\n",
    "from model.MMF import MultiModalFlowBridge\n",
    "\n",
    "\n",
    "experiment_id = \"efb5ee16ee754d639dfd041b33e8883c\"\n",
    "num_jets = 100\n",
    "\n",
    "mmf = MultiModalFlowBridge.load_from_checkpoint(f\"/home/df630/Multimodal-flows/jet_sequences/{experiment_id}/checkpoints/best.ckpt\")\n",
    "mmf.num_timesteps = 100\n",
    "#...dataset & dataloaders:\n",
    "\n",
    "\n",
    "aoj = AspenOpenJets(data_dir=\"/home/df630/Multimodal-Bridges/data/aoj\", data_files=\"RunG_batch1.h5\")\n",
    "test, _ = aoj(num_jets=num_jets,\n",
    "                download=False,\n",
    "                features={\"continuous\": ['pt', 'eta_rel', 'phi_rel'], \"discrete\": \"tokens\"},\n",
    "                pt_order=True,\n",
    "                padding='zeros')\n",
    "\n",
    "\n",
    "gauss_noise = torch.randn_like(test.continuous) * test.mask\n",
    "cat_noise = torch.randint_like(test.discrete, 1, mmf.vocab_size) * test.mask\n",
    "t0 = torch.full((len(cat_noise),), mmf.time_eps)  # (B) t_0=eps\n",
    "\n",
    "source = TensorMultiModal(continuous=gauss_noise, discrete=cat_noise, mask=test.mask.clone(), time=t0)\n",
    "source = source.to(mmf.device)\n",
    "\n",
    "data = DataCoupling(source=source, target=TensorMultiModal())\n",
    "\n",
    "sample = mmf.simulate_dynamics(data)\n",
    "sample = sample.target.detach().cpu() * test.mask.cpu()\n",
    "\n",
    "\n",
    "plot_flavor_feats(sample, \n",
    "                  test, \n",
    "                  path_dir=f\"{config.dir}/{config.project}/{config.experiment_id}\")"
   ]
  },
  {
   "cell_type": "code",
   "execution_count": 13,
   "metadata": {},
   "outputs": [
    {
     "data": {
      "text/plain": [
       "tensor(33, device='cuda:0')"
      ]
     },
     "execution_count": 13,
     "metadata": {},
     "output_type": "execute_result"
    }
   ],
   "source": [
    "sample.target.mask[0].sum()"
   ]
  },
  {
   "cell_type": "code",
   "execution_count": 16,
   "metadata": {},
   "outputs": [
    {
     "data": {
      "text/plain": [
       "tensor([[3],\n",
       "        [1],\n",
       "        [1],\n",
       "        [4],\n",
       "        [3],\n",
       "        [3],\n",
       "        [4],\n",
       "        [3],\n",
       "        [3],\n",
       "        [3],\n",
       "        [1],\n",
       "        [1],\n",
       "        [4],\n",
       "        [1],\n",
       "        [3],\n",
       "        [3],\n",
       "        [4],\n",
       "        [4],\n",
       "        [3],\n",
       "        [3],\n",
       "        [4],\n",
       "        [4],\n",
       "        [3],\n",
       "        [3],\n",
       "        [1],\n",
       "        [3],\n",
       "        [4],\n",
       "        [4],\n",
       "        [3],\n",
       "        [3],\n",
       "        [2],\n",
       "        [1],\n",
       "        [4],\n",
       "        [3],\n",
       "        [3],\n",
       "        [3],\n",
       "        [3],\n",
       "        [3],\n",
       "        [3],\n",
       "        [3],\n",
       "        [3],\n",
       "        [1],\n",
       "        [1],\n",
       "        [4],\n",
       "        [3],\n",
       "        [3],\n",
       "        [3],\n",
       "        [3],\n",
       "        [3],\n",
       "        [1],\n",
       "        [3],\n",
       "        [1],\n",
       "        [3],\n",
       "        [4],\n",
       "        [3],\n",
       "        [3],\n",
       "        [1],\n",
       "        [1],\n",
       "        [1],\n",
       "        [3],\n",
       "        [4],\n",
       "        [3],\n",
       "        [1],\n",
       "        [3],\n",
       "        [3],\n",
       "        [3],\n",
       "        [3],\n",
       "        [4],\n",
       "        [4],\n",
       "        [4],\n",
       "        [1],\n",
       "        [1],\n",
       "        [3],\n",
       "        [3],\n",
       "        [1],\n",
       "        [1],\n",
       "        [1],\n",
       "        [3],\n",
       "        [3],\n",
       "        [4],\n",
       "        [1],\n",
       "        [3],\n",
       "        [3],\n",
       "        [4],\n",
       "        [1],\n",
       "        [3],\n",
       "        [3],\n",
       "        [3],\n",
       "        [1],\n",
       "        [3],\n",
       "        [3],\n",
       "        [4],\n",
       "        [3],\n",
       "        [3],\n",
       "        [1],\n",
       "        [4],\n",
       "        [3],\n",
       "        [3],\n",
       "        [1],\n",
       "        [3],\n",
       "        [3],\n",
       "        [3],\n",
       "        [1],\n",
       "        [3],\n",
       "        [3],\n",
       "        [3],\n",
       "        [1],\n",
       "        [1],\n",
       "        [3],\n",
       "        [3],\n",
       "        [3],\n",
       "        [4],\n",
       "        [1],\n",
       "        [3],\n",
       "        [4],\n",
       "        [3],\n",
       "        [3],\n",
       "        [4],\n",
       "        [3],\n",
       "        [1],\n",
       "        [3],\n",
       "        [3],\n",
       "        [4],\n",
       "        [3],\n",
       "        [3],\n",
       "        [4],\n",
       "        [3],\n",
       "        [3],\n",
       "        [3],\n",
       "        [4],\n",
       "        [1],\n",
       "        [1],\n",
       "        [3],\n",
       "        [3],\n",
       "        [4],\n",
       "        [1],\n",
       "        [3],\n",
       "        [3],\n",
       "        [4],\n",
       "        [1],\n",
       "        [3],\n",
       "        [1],\n",
       "        [1],\n",
       "        [4],\n",
       "        [4],\n",
       "        [3],\n",
       "        [4],\n",
       "        [4],\n",
       "        [1],\n",
       "        [3]], device='cuda:0')"
      ]
     },
     "execution_count": 16,
     "metadata": {},
     "output_type": "execute_result"
    }
   ],
   "source": [
    "sample.target.discrete[0]"
   ]
  },
  {
   "cell_type": "code",
   "execution_count": 19,
   "metadata": {},
   "outputs": [
    {
     "data": {
      "text/plain": [
       "tensor([1.0000, 1.0000, 1.0000, 1.0000, 1.0000, 1.0000, 1.0000, 1.0000, 1.0000,\n",
       "        1.0000, 1.0000, 1.0000, 1.0000, 1.0000, 1.0000, 1.0000, 1.0000, 1.0000,\n",
       "        1.0000, 1.0000, 1.0000, 1.0000, 1.0000, 1.0000, 1.0000, 1.0000, 1.0000,\n",
       "        1.0000, 1.0000, 1.0000, 1.0000, 1.0000, 1.0000, 1.0000, 1.0000, 1.0000,\n",
       "        1.0000, 1.0000, 1.0000, 1.0000, 1.0000, 1.0000, 1.0000, 1.0000, 1.0000,\n",
       "        1.0000, 1.0000, 1.0000, 1.0000, 1.0000, 1.0000, 1.0000, 1.0000, 1.0000,\n",
       "        1.0000, 1.0000, 1.0000, 1.0000, 1.0000, 1.0000, 1.0000, 1.0000, 1.0000,\n",
       "        1.0000, 1.0000, 1.0000, 1.0000, 1.0000, 1.0000, 1.0000, 1.0000, 1.0000,\n",
       "        1.0000, 1.0000, 1.0000, 1.0000, 1.0000, 1.0000, 1.0000, 1.0000, 1.0000,\n",
       "        1.0000, 1.0000, 1.0000, 1.0000, 1.0000, 1.0000, 1.0000, 1.0000, 1.0000,\n",
       "        1.0000, 1.0000, 1.0000, 1.0000, 1.0000, 1.0000, 1.0000, 1.0000, 1.0000,\n",
       "        1.0000], device='cuda:0')"
      ]
     },
     "execution_count": 19,
     "metadata": {},
     "output_type": "execute_result"
    }
   ],
   "source": [
    "sample.target.time"
   ]
  },
  {
   "cell_type": "code",
   "execution_count": 21,
   "metadata": {},
   "outputs": [
    {
     "data": {
      "text/plain": [
       "TensorMultiModal(time=tensor([1.0000, 1.0000, 1.0000, 1.0000, 1.0000, 1.0000, 1.0000, 1.0000, 1.0000,\n",
       "        1.0000, 1.0000, 1.0000, 1.0000, 1.0000, 1.0000, 1.0000, 1.0000, 1.0000,\n",
       "        1.0000, 1.0000, 1.0000, 1.0000, 1.0000, 1.0000, 1.0000, 1.0000, 1.0000,\n",
       "        1.0000, 1.0000, 1.0000, 1.0000, 1.0000, 1.0000, 1.0000, 1.0000, 1.0000,\n",
       "        1.0000, 1.0000, 1.0000, 1.0000, 1.0000, 1.0000, 1.0000, 1.0000, 1.0000,\n",
       "        1.0000, 1.0000, 1.0000, 1.0000, 1.0000, 1.0000, 1.0000, 1.0000, 1.0000,\n",
       "        1.0000, 1.0000, 1.0000, 1.0000, 1.0000, 1.0000, 1.0000, 1.0000, 1.0000,\n",
       "        1.0000, 1.0000, 1.0000, 1.0000, 1.0000, 1.0000, 1.0000, 1.0000, 1.0000,\n",
       "        1.0000, 1.0000, 1.0000, 1.0000, 1.0000, 1.0000, 1.0000, 1.0000, 1.0000,\n",
       "        1.0000, 1.0000, 1.0000, 1.0000, 1.0000, 1.0000, 1.0000, 1.0000, 1.0000,\n",
       "        1.0000, 1.0000, 1.0000, 1.0000, 1.0000, 1.0000, 1.0000, 1.0000, 1.0000,\n",
       "        1.0000], device='cuda:0'), continuous=tensor([[[ 0.5134,  2.7654, -0.8759],\n",
       "         [ 1.6249,  0.9941, -0.3159],\n",
       "         [ 2.4998, -0.6491,  0.3628],\n",
       "         ...,\n",
       "         [ 4.4843, -1.2207,  0.3159],\n",
       "         [ 4.4843, -1.2207,  0.3159],\n",
       "         [ 4.4843, -1.2207,  0.3159]],\n",
       "\n",
       "        [[ 0.1496,  2.7147,  1.8450],\n",
       "         [-0.0235,  2.2387, -0.2691],\n",
       "         [-0.0211,  4.3101,  2.2515],\n",
       "         ...,\n",
       "         [ 4.4843, -1.2207,  0.3159],\n",
       "         [ 4.4843, -1.2207,  0.3159],\n",
       "         [ 4.4843, -1.2207,  0.3159]],\n",
       "\n",
       "        [[ 0.3300,  0.3345, -5.5521],\n",
       "         [ 1.2457,  0.1730,  0.1911],\n",
       "         [ 0.1308, -5.0097, -3.9963],\n",
       "         ...,\n",
       "         [ 4.4843, -1.2207,  0.3159],\n",
       "         [ 4.4843, -1.2207,  0.3159],\n",
       "         [ 4.4843, -1.2207,  0.3159]],\n",
       "\n",
       "        ...,\n",
       "\n",
       "        [[ 0.0430, -3.3480,  1.4674],\n",
       "         [-0.0181, -1.2107,  2.9714],\n",
       "         [ 2.0912, -0.1229, -0.4603],\n",
       "         ...,\n",
       "         [ 4.4843, -1.2207,  0.3159],\n",
       "         [ 4.4843, -1.2207,  0.3159],\n",
       "         [ 4.4843, -1.2207,  0.3159]],\n",
       "\n",
       "        [[ 2.7209, -0.9156, -2.0708],\n",
       "         [ 0.0086, -1.2998, -0.6586],\n",
       "         [-0.1743, -0.6864, -3.0457],\n",
       "         ...,\n",
       "         [ 4.4843, -1.2207,  0.3159],\n",
       "         [ 4.4843, -1.2207,  0.3159],\n",
       "         [ 4.4843, -1.2207,  0.3159]],\n",
       "\n",
       "        [[ 3.8645,  0.2445, -0.5464],\n",
       "         [ 0.8694,  1.4365, -0.0636],\n",
       "         [ 0.8100, -0.2141,  0.3031],\n",
       "         ...,\n",
       "         [ 4.4843, -1.2207,  0.3159],\n",
       "         [ 4.4843, -1.2207,  0.3159],\n",
       "         [ 4.4843, -1.2207,  0.3159]]], device='cuda:0'), discrete=tensor([[[3],\n",
       "         [1],\n",
       "         [1],\n",
       "         ...,\n",
       "         [4],\n",
       "         [1],\n",
       "         [3]],\n",
       "\n",
       "        [[1],\n",
       "         [2],\n",
       "         [4],\n",
       "         ...,\n",
       "         [3],\n",
       "         [1],\n",
       "         [1]],\n",
       "\n",
       "        [[3],\n",
       "         [2],\n",
       "         [3],\n",
       "         ...,\n",
       "         [1],\n",
       "         [3],\n",
       "         [3]],\n",
       "\n",
       "        ...,\n",
       "\n",
       "        [[2],\n",
       "         [4],\n",
       "         [1],\n",
       "         ...,\n",
       "         [3],\n",
       "         [3],\n",
       "         [3]],\n",
       "\n",
       "        [[3],\n",
       "         [4],\n",
       "         [4],\n",
       "         ...,\n",
       "         [4],\n",
       "         [3],\n",
       "         [1]],\n",
       "\n",
       "        [[1],\n",
       "         [2],\n",
       "         [1],\n",
       "         ...,\n",
       "         [3],\n",
       "         [3],\n",
       "         [1]]], device='cuda:0'), mask=tensor([[[1],\n",
       "         [1],\n",
       "         [1],\n",
       "         ...,\n",
       "         [0],\n",
       "         [0],\n",
       "         [0]],\n",
       "\n",
       "        [[1],\n",
       "         [1],\n",
       "         [1],\n",
       "         ...,\n",
       "         [0],\n",
       "         [0],\n",
       "         [0]],\n",
       "\n",
       "        [[1],\n",
       "         [1],\n",
       "         [1],\n",
       "         ...,\n",
       "         [0],\n",
       "         [0],\n",
       "         [0]],\n",
       "\n",
       "        ...,\n",
       "\n",
       "        [[1],\n",
       "         [1],\n",
       "         [1],\n",
       "         ...,\n",
       "         [0],\n",
       "         [0],\n",
       "         [0]],\n",
       "\n",
       "        [[1],\n",
       "         [1],\n",
       "         [1],\n",
       "         ...,\n",
       "         [0],\n",
       "         [0],\n",
       "         [0]],\n",
       "\n",
       "        [[1],\n",
       "         [1],\n",
       "         [1],\n",
       "         ...,\n",
       "         [0],\n",
       "         [0],\n",
       "         [0]]], device='cuda:0'))"
      ]
     },
     "execution_count": 21,
     "metadata": {},
     "output_type": "execute_result"
    }
   ],
   "source": [
    "sample.target"
   ]
  },
  {
   "cell_type": "code",
   "execution_count": 20,
   "metadata": {},
   "outputs": [
    {
     "ename": "RuntimeError",
     "evalue": "output with shape [100] doesn't match the broadcast shape [100, 150, 100]",
     "output_type": "error",
     "traceback": [
      "\u001b[31m---------------------------------------------------------------------------\u001b[39m",
      "\u001b[31mRuntimeError\u001b[39m                              Traceback (most recent call last)",
      "\u001b[36mCell\u001b[39m\u001b[36m \u001b[39m\u001b[32mIn[20]\u001b[39m\u001b[32m, line 2\u001b[39m\n\u001b[32m      1\u001b[39m sample.target.unsqueeze(-\u001b[32m1\u001b[39m, \u001b[33m'\u001b[39m\u001b[33mtime\u001b[39m\u001b[33m'\u001b[39m)\n\u001b[32m----> \u001b[39m\u001b[32m2\u001b[39m \u001b[43msample\u001b[49m\u001b[43m.\u001b[49m\u001b[43mtarget\u001b[49m\u001b[43m.\u001b[49m\u001b[43mapply_mask\u001b[49m\u001b[43m(\u001b[49m\u001b[43m)\u001b[49m\n\u001b[32m      3\u001b[39m sample.target[\u001b[32m0\u001b[39m]\n",
      "\u001b[36mFile \u001b[39m\u001b[32m~/Multimodal-flows/multimodal_flows/utils/tensorclass.py:99\u001b[39m, in \u001b[36mTensorMultiModal.apply_mask\u001b[39m\u001b[34m(self, condition)\u001b[39m\n\u001b[32m     97\u001b[39m \u001b[38;5;28;01mdef\u001b[39;00m\u001b[38;5;250m \u001b[39m\u001b[34mapply_mask\u001b[39m(\u001b[38;5;28mself\u001b[39m, condition=\u001b[38;5;28;01mNone\u001b[39;00m):\n\u001b[32m     98\u001b[39m     \u001b[38;5;28;01mif\u001b[39;00m \u001b[33m\"\u001b[39m\u001b[33mtime\u001b[39m\u001b[33m\"\u001b[39m \u001b[38;5;129;01min\u001b[39;00m \u001b[38;5;28mself\u001b[39m.available_modes():\n\u001b[32m---> \u001b[39m\u001b[32m99\u001b[39m         \u001b[38;5;28;43mself\u001b[39;49m\u001b[43m.\u001b[49m\u001b[43mtime\u001b[49m\u001b[43m \u001b[49m\u001b[43m*\u001b[49m\u001b[43m=\u001b[49m\u001b[43m \u001b[49m\u001b[38;5;28;43mself\u001b[39;49m\u001b[43m.\u001b[49m\u001b[43mmask\u001b[49m\u001b[43m \u001b[49m\u001b[38;5;28;43;01mif\u001b[39;49;00m\u001b[43m \u001b[49m\u001b[43mcondition\u001b[49m\u001b[43m \u001b[49m\u001b[38;5;129;43;01mis\u001b[39;49;00m\u001b[43m \u001b[49m\u001b[38;5;28;43;01mNone\u001b[39;49;00m\u001b[43m \u001b[49m\u001b[38;5;28;43;01melse\u001b[39;49;00m\u001b[43m \u001b[49m\u001b[43mcondition\u001b[49m\n\u001b[32m    100\u001b[39m     \u001b[38;5;28;01mif\u001b[39;00m \u001b[33m\"\u001b[39m\u001b[33mcontinuous\u001b[39m\u001b[33m\"\u001b[39m \u001b[38;5;129;01min\u001b[39;00m \u001b[38;5;28mself\u001b[39m.available_modes():\n\u001b[32m    101\u001b[39m         \u001b[38;5;28mself\u001b[39m.continuous *= \u001b[38;5;28mself\u001b[39m.mask \u001b[38;5;28;01mif\u001b[39;00m condition \u001b[38;5;129;01mis\u001b[39;00m \u001b[38;5;28;01mNone\u001b[39;00m \u001b[38;5;28;01melse\u001b[39;00m condition\n",
      "\u001b[31mRuntimeError\u001b[39m: output with shape [100] doesn't match the broadcast shape [100, 150, 100]"
     ]
    }
   ],
   "source": [
    "sample.target.unsqueeze(-1, 'time')\n",
    "sample.target.apply_mask()\n",
    "sample.target[0]"
   ]
  },
  {
   "cell_type": "code",
   "execution_count": 15,
   "metadata": {},
   "outputs": [
    {
     "data": {
      "text/plain": [
       "<Axes: ylabel='Density'>"
      ]
     },
     "execution_count": 15,
     "metadata": {},
     "output_type": "execute_result"
    },
    {
     "data": {
      "image/png": "[encoded data removed]",
      "text/plain": [
       "<Figure size 640x480 with 1 Axes>"
      ]
     },
     "metadata": {},
     "output_type": "display_data"
    }
   ],
   "source": [
    "import seaborn as sns\n",
    "\n",
    "sns.histplot((data.continuous[...,0].flatten()[:300_000]),\n",
    "             stat=\"density\",\n",
    "             element=\"step\",\n",
    "             log_scale=(True,False),\n",
    "             )"
   ]
  },
  {
   "cell_type": "code",
   "execution_count": null,
   "metadata": {},
   "outputs": [],
   "source": [
    "import seaborn as sns\n",
    "\n",
    "sns.histplot((data.continuous[...,0].flatten()[:300_00]),\n",
    "             stat=\"density\",\n",
    "             element=\"step\",\n",
    "             )"
   ]
  },
  {
   "cell_type": "code",
   "execution_count": 2,
   "metadata": {},
   "outputs": [
    {
     "data": {
      "text/plain": [
       "<Axes: ylabel='Density'>"
      ]
     },
     "execution_count": 2,
     "metadata": {},
     "output_type": "execute_result"
    },
    {
     "data": {
      "image/png": "[encoded data removed]",
      "text/plain": [
       "<Figure size 640x480 with 1 Axes>"
      ]
     },
     "metadata": {},
     "output_type": "display_data"
    }
   ],
   "source": [
    "import seaborn as sns\n",
    "\n",
    "sns.histplot((particle_set.discrete > 0).sum(dim=1), \n",
    "             discrete=True,\n",
    "             stat=\"density\",\n",
    "             element=\"step\",\n",
    "             )"
   ]
  },
  {
   "cell_type": "code",
   "execution_count": 47,
   "metadata": {},
   "outputs": [
    {
     "ename": "ModuleNotFoundError",
     "evalue": "No module named 'tensorclass'",
     "output_type": "error",
     "traceback": [
      "\u001b[31m---------------------------------------------------------------------------\u001b[39m",
      "\u001b[31mModuleNotFoundError\u001b[39m                       Traceback (most recent call last)",
      "\u001b[36mCell\u001b[39m\u001b[36m \u001b[39m\u001b[32mIn[47]\u001b[39m\u001b[32m, line 5\u001b[39m\n\u001b[32m      3\u001b[39m \u001b[38;5;28;01mimport\u001b[39;00m\u001b[38;5;250m \u001b[39m\u001b[34;01mpytorch_lightning\u001b[39;00m\u001b[38;5;250m \u001b[39m\u001b[38;5;28;01mas\u001b[39;00m\u001b[38;5;250m \u001b[39m\u001b[34;01mL\u001b[39;00m\n\u001b[32m      4\u001b[39m \u001b[38;5;28;01mfrom\u001b[39;00m\u001b[38;5;250m \u001b[39m\u001b[34;01mtorch\u001b[39;00m\u001b[34;01m.\u001b[39;00m\u001b[34;01mutils\u001b[39;00m\u001b[34;01m.\u001b[39;00m\u001b[34;01mdata\u001b[39;00m\u001b[38;5;250m \u001b[39m\u001b[38;5;28;01mimport\u001b[39;00m DataLoader, random_split\n\u001b[32m----> \u001b[39m\u001b[32m5\u001b[39m \u001b[38;5;28;01mfrom\u001b[39;00m\u001b[38;5;250m \u001b[39m\u001b[34;01mtensorclass\u001b[39;00m\u001b[38;5;250m \u001b[39m\u001b[38;5;28;01mimport\u001b[39;00m TensorMultiModal\n\u001b[32m      6\u001b[39m \u001b[38;5;28;01mfrom\u001b[39;00m\u001b[38;5;250m \u001b[39m\u001b[34;01mdatamodules\u001b[39;00m\u001b[34;01m.\u001b[39;00m\u001b[34;01mdatasets\u001b[39;00m\u001b[38;5;250m \u001b[39m\u001b[38;5;28;01mimport\u001b[39;00m MultiModalDataset, DataCoupling, data_coupling_collate_fn\n\u001b[32m      7\u001b[39m \u001b[38;5;28;01mfrom\u001b[39;00m\u001b[38;5;250m \u001b[39m\u001b[34;01mmodel\u001b[39;00m\u001b[34;01m.\u001b[39;00m\u001b[34;01mGPT\u001b[39;00m\u001b[38;5;250m \u001b[39m\u001b[38;5;28;01mimport\u001b[39;00m JetFlavorSeqGPT\n",
      "\u001b[31mModuleNotFoundError\u001b[39m: No module named 'tensorclass'"
     ]
    }
   ],
   "source": [
    "import torch\n",
    "from pytorch_lightning.loggers import CometLogger\n",
    "import pytorch_lightning as L\n",
    "from torch.utils.data import DataLoader, random_split\n",
    "from tensorclass import TensorMultiModal\n",
    "from datamodules.datasets import MultiModalDataset, DataCoupling, data_coupling_collate_fn\n",
    "from model.GPT import JetFlavorSeqGPT\n",
    "\n",
    "\n",
    "experiment_id = 'efb5ee16ee754d639dfd041b33e8883c'\n",
    "gpt = JetFlavorSeqGPT.load_from_checkpoint(f\"/home/df630/Multimodal-flows/jet_sequences/{experiment_id}/checkpoints/best.ckpt\", map_location=\"cpu\",)\n"
   ]
  },
  {
   "cell_type": "code",
   "execution_count": 53,
   "metadata": {},
   "outputs": [],
   "source": [
    "import torch.nn.functional as F\n",
    "\n",
    "prompts = torch.full((1000, 1), gpt.start_token, dtype=torch.long)\n",
    "attention_mask = torch.ones_like(prompts)\n",
    "\n",
    "samples = gpt.model.generate(\n",
    "                            input_ids=prompts,\n",
    "                            attention_mask=attention_mask,\n",
    "                            max_new_tokens=gpt.max_seq_length + 2, \n",
    "                            do_sample=True,\n",
    "                            temperature=gpt.temperature,\n",
    "                            top_k=gpt.top_k,\n",
    "                            eos_token_id=gpt.end_token,\n",
    "                            pad_token_id=gpt.pad_token,\n",
    "                            )\n",
    "\n",
    "preds = F.pad(samples, (0, gpt.max_seq_length + 2 - samples.shape[1]), value=gpt.pad_token)\n",
    "preds = torch.where(preds >= gpt.start_token, 0, preds)[:, 1:-1]  # remove start token"
   ]
  },
  {
   "cell_type": "code",
   "execution_count": 54,
   "metadata": {},
   "outputs": [
    {
     "data": {
      "text/plain": [
       "tensor([[3, 3, 4,  ..., 0, 0, 0],\n",
       "        [3, 2, 1,  ..., 0, 0, 0],\n",
       "        [3, 1, 4,  ..., 0, 0, 0],\n",
       "        ...,\n",
       "        [3, 2, 1,  ..., 0, 0, 0],\n",
       "        [1, 3, 3,  ..., 0, 0, 0],\n",
       "        [4, 1, 3,  ..., 0, 0, 0]])"
      ]
     },
     "execution_count": 54,
     "metadata": {},
     "output_type": "execute_result"
    }
   ],
   "source": [
    "preds"
   ]
  },
  {
   "cell_type": "code",
   "execution_count": 3,
   "metadata": {},
   "outputs": [
    {
     "data": {
      "text/plain": [
       "torch.Size([500000, 150])"
      ]
     },
     "execution_count": 3,
     "metadata": {},
     "output_type": "execute_result"
    }
   ],
   "source": [
    "sample = np.load('/home/df630/Multimodal-flows/jet_sequences/sample.npy')\n",
    "sample = torch.from_numpy(sample).long()\n",
    "sample.shape"
   ]
  },
  {
   "cell_type": "code",
   "execution_count": 34,
   "metadata": {},
   "outputs": [
    {
     "data": {
      "image/png": "[encoded data removed]",
      "text/plain": [
       "<Figure size 1000x350 with 8 Axes>"
      ]
     },
     "metadata": {},
     "output_type": "display_data"
    }
   ],
   "source": [
    "import seaborn as sns\n",
    "\n",
    "fig, ax = plt.subplots(2, 4, figsize=(10,3.5))\n",
    "\n",
    "sns.histplot((particle_set.discrete == 1).sum(dim=1), discrete=True, stat=\"density\", element=\"step\", fill=True, ax=ax[0, 0], lw=0.0)\n",
    "sns.histplot((sample == 1).sum(dim=1), discrete=True, stat=\"density\",element=\"step\", fill=False, ax=ax[0, 0], lw=0.75)\n",
    "ax[0, 0].set_xlabel(r\"$N_{\\gamma}$\")\n",
    "\n",
    "sns.histplot((particle_set.discrete == 2).sum(dim=1), discrete=True, stat=\"density\",element=\"step\", fill=True, ax=ax[0, 1],lw=0.0)\n",
    "sns.histplot((sample == 2).sum(dim=1), discrete=True, stat=\"density\",element=\"step\", fill=False, ax=ax[0, 1],lw=0.75)\n",
    "ax[0, 1].set_xlabel(r\"$N_{h^0}$\")\n",
    "\n",
    "sns.histplot((particle_set.discrete == 3).sum(dim=1), discrete=True, stat=\"density\",element=\"step\", fill=True, ax=ax[0, 2],lw=0.0)\n",
    "sns.histplot((sample == 3).sum(dim=1), discrete=True, stat=\"density\",element=\"step\", fill=False, ax=ax[0, 2],lw=0.75)\n",
    "ax[0, 2].set_xlabel(r\"$N_{h^{-}}$\")\n",
    "\n",
    "sns.histplot((particle_set.discrete == 4).sum(dim=1), discrete=True, stat=\"density\",element=\"step\", fill=True, ax=ax[0, 3],lw=0.0)\n",
    "sns.histplot((sample == 4).sum(dim=1), discrete=True, stat=\"density\",element=\"step\", fill=False, ax=ax[0, 3],lw=0.75)\n",
    "ax[0, 3].set_xlabel(r\"$N_{h^{+}}$\")\n",
    "\n",
    "sns.histplot((particle_set.discrete == 5).sum(dim=1), discrete=True, stat=\"density\",element=\"step\", fill=True, ax=ax[1, 0],lw=0.0)\n",
    "sns.histplot((sample == 5).sum(dim=1), discrete=True, stat=\"density\",element=\"step\", fill=False, ax=ax[1, 0],lw=0.75)\n",
    "ax[1, 0].set_xlabel(r\"$N_{e^{-}}$\")\n",
    "\n",
    "sns.histplot((particle_set.discrete == 6).sum(dim=1), discrete=True, stat=\"density\",element=\"step\", fill=True, ax=ax[1, 1],lw=0.0)\n",
    "sns.histplot((sample == 6).sum(dim=1), discrete=True, stat=\"density\",element=\"step\", fill=False, ax=ax[1, 1],lw=0.75)\n",
    "ax[1, 1].set_xlabel(r\"$N_{e^{+}}$\")\n",
    "\n",
    "sns.histplot((particle_set.discrete == 7).sum(dim=1), discrete=True, stat=\"density\",element=\"step\", fill=True, ax=ax[1, 2],lw=0.0)\n",
    "sns.histplot((sample == 7).sum(dim=1), discrete=True, stat=\"density\",element=\"step\", fill=False, ax=ax[1, 2],lw=0.75)\n",
    "ax[1, 2].set_xlabel(r\"$N_{\\mu^{-}}$\")\n",
    "\n",
    "sns.histplot((particle_set.discrete == 8).sum(dim=1), discrete=True, stat=\"density\",element=\"step\", fill=True, ax=ax[1, 3],lw=0.0)\n",
    "sns.histplot((sample == 8).sum(dim=1), discrete=True, stat=\"density\",element=\"step\", fill=False, ax=ax[1, 3],lw=0.75)\n",
    "ax[1, 3].set_xlabel(r\"$N_{\\mu^{+}}$\")\n",
    "\n",
    "plt.tight_layout()\n",
    "for a in ax.flatten():\n",
    "    a.legend([], [], frameon=False)\n",
    "plt.show()\n"
   ]
  },
  {
   "cell_type": "code",
   "execution_count": 49,
   "metadata": {},
   "outputs": [
    {
     "data": {
      "image/png": "[encoded data removed]",
      "text/plain": [
       "<Figure size 800x350 with 6 Axes>"
      ]
     },
     "metadata": {},
     "output_type": "display_data"
    }
   ],
   "source": [
    "import seaborn as sns\n",
    "\n",
    "fig, ax = plt.subplots(2, 3, figsize=(8,3.5))\n",
    "\n",
    "sns.histplot((particle_set.discrete > 0).sum(dim=1), discrete=True, stat=\"density\", element=\"step\", fill=True, ax=ax[0, 0], lw=0.0)\n",
    "sns.histplot((sample > 0).sum(dim=1), discrete=True, stat=\"density\",element=\"step\", fill=False, ax=ax[0, 0], lw=0.75)\n",
    "ax[0, 0].set_xlabel(r\"$N$\")\n",
    "\n",
    "sns.histplot(((particle_set.discrete > 1) & (particle_set.discrete < 5)).sum(dim=1), discrete=True, stat=\"density\",element=\"step\", fill=True, ax=ax[0, 1],lw=0.0)\n",
    "sns.histplot(((sample > 1) & (sample < 5)).sum(dim=1), discrete=True, stat=\"density\",element=\"step\", fill=False, ax=ax[0, 1],lw=0.75)\n",
    "ax[0, 1].set_xlabel(r\"$N_{\\rm had}$\")\n",
    "\n",
    "sns.histplot((particle_set.discrete > 4).sum(dim=1), discrete=True, stat=\"density\",element=\"step\", fill=True, ax=ax[0, 2],lw=0.0)\n",
    "sns.histplot((sample > 4).sum(dim=1), discrete=True, stat=\"density\",element=\"step\", fill=False, ax=ax[0, 2],lw=0.75)\n",
    "ax[0, 2].set_xlabel(r\"$N_{\\rm lep}$\")\n",
    "\n",
    "sns.histplot(((particle_set.discrete == 1) | (particle_set.discrete == 2)).sum(dim=1), discrete=True, stat=\"density\",element=\"step\", fill=True, ax=ax[1, 0],lw=0.0)\n",
    "sns.histplot(((sample == 1) | (sample == 2)).sum(dim=1), discrete=True, stat=\"density\",element=\"step\", fill=False, ax=ax[1, 0],lw=0.75)\n",
    "ax[1, 0].set_xlabel(r\"$N_{0}$\")\n",
    "\n",
    "sns.histplot(((particle_set.discrete == 3) | (particle_set.discrete == 5) | (particle_set.discrete == 7)).sum(dim=1), discrete=True, stat=\"density\",element=\"step\", fill=True, ax=ax[1, 1],lw=0.0)\n",
    "sns.histplot(((sample == 3) | (sample == 5) | (sample == 7)).sum(dim=1), discrete=True, stat=\"density\",element=\"step\", fill=False, ax=ax[1, 1],lw=0.75)\n",
    "ax[1, 1].set_xlabel(r\"$N_{-}$\")\n",
    "\n",
    "sns.histplot(((particle_set.discrete == 4) | (particle_set.discrete == 6) | (particle_set.discrete == 8)).sum(dim=1), discrete=True, stat=\"density\",element=\"step\", fill=True, ax=ax[1, 2],lw=0.0)\n",
    "sns.histplot(((sample == 4) | (sample == 6) | (sample == 8)).sum(dim=1), discrete=True, stat=\"density\",element=\"step\", fill=False, ax=ax[1, 2],lw=0.75)\n",
    "ax[1, 2].set_xlabel(r\"$N_{+}$\")\n",
    "\n",
    "\n",
    "plt.tight_layout()\n",
    "for a in ax.flatten():\n",
    "    a.legend([], [], frameon=False)\n",
    "plt.show()"
   ]
  },
  {
   "cell_type": "markdown",
   "metadata": {},
   "source": [
    "## Token ocurrence per jet"
   ]
  },
  {
   "cell_type": "code",
   "execution_count": 4,
   "metadata": {},
   "outputs": [],
   "source": [
    "token_freqs = torch.tensor(\n",
    "    [\n",
    "        (data.isPhoton.sum(dim=1) / data.multiplicity.squeeze(-1)).mean(),\n",
    "        (data.isNeutralHadron.sum(dim=1) / data.multiplicity.squeeze(-1)).mean(),\n",
    "        (data.isNegativeHadron.sum(dim=1) / data.multiplicity.squeeze(-1)).mean(),\n",
    "        (data.isPositiveHadron.sum(dim=1) / data.multiplicity.squeeze(-1)).mean(),\n",
    "        (data.isElectron.sum(dim=1) / data.multiplicity.squeeze(-1)).mean(),\n",
    "        (data.isPositron.sum(dim=1) / data.multiplicity.squeeze(-1)).mean(),\n",
    "        (data.isMuon.sum(dim=1) / data.multiplicity.squeeze(-1)).mean(),\n",
    "        (data.isAntiMuon.sum(dim=1) / data.multiplicity.squeeze(-1)).mean(),\n",
    "    ]\n",
    ")"
   ]
  },
  {
   "cell_type": "code",
   "execution_count": 12,
   "metadata": {},
   "outputs": [
    {
     "name": "stderr",
     "output_type": "stream",
     "text": [
      "`loss_type=None` was set in the config but it is unrecognised.Using the default loss: `ForCausalLMLoss`.\n"
     ]
    },
    {
     "name": "stdout",
     "output_type": "stream",
     "text": [
      "✔ forward OK, loss= 2.0418574810028076\n"
     ]
    }
   ],
   "source": [
    "batch = next(iter(train_dataloader))\n",
    "state = mjb.sample_bridges(batch).to(mjb.device)\n",
    "target = batch.target.discrete.squeeze(-1).to(mjb.device)\n",
    "\n",
    "# run one forward+loss\n",
    "outputs = mjb.model(\n",
    "    input_ids      = state.discrete.squeeze(-1).long(),\n",
    "    attention_mask= state.mask.squeeze(-1).long(),\n",
    "    labels         = target.long(),\n",
    ")\n",
    "print(\"✔ forward OK, loss=\", outputs.loss.item())"
   ]
  },
  {
   "cell_type": "code",
   "execution_count": 7,
   "metadata": {},
   "outputs": [
    {
     "name": "stdout",
     "output_type": "stream",
     "text": [
      "tensor([[ 0., 10.,  3.,  ...,  0.,  0.,  0.],\n",
      "        [ 0., 13.,  1.,  ...,  0.,  0.,  1.],\n",
      "        [ 0.,  3.,  0.,  ...,  0.,  0.,  0.],\n",
      "        ...,\n",
      "        [ 0.,  9.,  1.,  ...,  0.,  1.,  0.],\n",
      "        [ 0.,  6.,  1.,  ...,  0.,  1.,  0.],\n",
      "        [ 0., 29.,  4.,  ...,  0.,  0.,  0.]])\n"
     ]
    },
    {
     "data": {
      "image/png": "[encoded data removed]",
      "text/plain": [
       "<Figure size 1200x300 with 3 Axes>"
      ]
     },
     "metadata": {},
     "output_type": "display_data"
    }
   ],
   "source": [
    "_, ax = plt.subplots(1, 3, figsize=(12, 3))\n",
    "\n",
    "jets.plot_flavor_count_per_jet(\n",
    "    markersize=8,\n",
    "    color=[\n",
    "        \"orange\",\n",
    "        \"orange\",\n",
    "        \"forestgreen\",\n",
    "        \"blue\",\n",
    "        \"blue\",\n",
    "        \"firebrick\",\n",
    "        \"firebrick\",\n",
    "        \"hotpink\",\n",
    "        \"hotpink\",\n",
    "    ],\n",
    "    ax=ax[0],\n",
    ")\n",
    "\n",
    "fill = False\n",
    "alpha = 1 \n",
    "\n",
    "data.histplot('num_Photon',ax=ax[1], fill=fill, alpha=alpha, binrange=(0, 100), binwidth=1,log_scale=(False, True),  stat='density', color='orange',lw=1,  label=r'$\\gamma$')\n",
    "data.histplot(\"num_NeutralHadron\",  ax=ax[1], fill=fill, alpha=alpha, binrange=(0, 100), binwidth=1, log_scale=(False, True),  stat='density', color='forestgreen',lw=1,  label=r'$h^0$')\n",
    "data.histplot(\"num_NegativeHadron\", ax=ax[1], fill=fill, alpha=alpha, binrange=(0, 100), binwidth=1, log_scale=(False, True) , stat='density', color='blue', lw=1, label=r'$h^-$')\n",
    "data.histplot(\"num_PositiveHadron\",  ax=ax[1], fill=fill, alpha=alpha, binrange=(0, 100), binwidth=1, log_scale=(False, True), ls=':', stat='density', color='blue', lw=1, label=r'$h^+$')\n",
    "data.histplot(\"num_Electron\", ax=ax[1], fill=fill, alpha=alpha, binrange=(0, 100),binwidth=1, log_scale=(False, True),  stat='density', color='firebrick', lw=1,  label=r'$e^-$')\n",
    "data.histplot(\"num_Positron\", ax=ax[1], fill=fill, alpha=alpha, binrange=(0, 100),binwidth=1, log_scale=(False, True),  stat='density', color='firebrick', lw=1, ls=':', label=r'$e^+$')\n",
    "data.histplot(\"num_Muon\", ax=ax[1], fill=fill, alpha=alpha, binrange=(0, 100),binwidth=1, log_scale=(False, True),  stat='density', color='hotpink', lw=1, label=r'$\\mu^-$')\n",
    "data.histplot(\"num_AntiMuon\", ax=ax[1], fill=fill, alpha=alpha, binrange=(0, 100),binwidth=1, log_scale=(False, True),  stat='density', color='hotpink', lw=1, ls=':', label=r'$\\mu^+$')\n",
    "data.histplot(\"charge\", discrete=True, ax=ax[2], alpha=0.25, label=\"electric charge\", stat='density', )\n",
    "\n",
    "ax[0].set_xlim(-0.5,7.5)\n",
    "ax[0].set_ylim(0.01,100)\n",
    "ax[1].set_ylim(1e-5,10)\n",
    "ax[1].set_xlim(-1,65)\n",
    "ax[2].set_ylim(0.0,0.13)\n",
    "\n",
    "ax[0].set_xlabel('particle flavor', fontsize=12)\n",
    "ax[1].set_xlabel('particle multiplicity $N$', fontsize=12)\n",
    "ax[1].set_ylabel('density', fontsize=10)\n",
    "ax[2].set_xlabel('jet electric charge', fontsize=12)\n",
    "ax[2].set_ylabel('density', fontsize=10)\n",
    "ax[1].legend(fontsize=12, loc=\"upper right\", handletextpad=0.5, handlelength=1., labelspacing=0.1)\n",
    "\n",
    "plt.tight_layout()\n",
    "plt.savefig(\"particle_discrete_feats.png\", dpi=1000)\n",
    "\n",
    "\n",
    "plt.show()\n",
    "\n"
   ]
  },
  {
   "cell_type": "code",
   "execution_count": null,
   "metadata": {},
   "outputs": [],
   "source": [
    "sets.histplot(\"num_Photon\", fill=False, discrete=True,  stat='density', color='blue', lw=1, label=r'$p_T$')"
   ]
  },
  {
   "cell_type": "code",
   "execution_count": null,
   "metadata": {},
   "outputs": [],
   "source": [
    "particle_sets.histplot(\"numElectrons\", discrete=True,  stat='density', color='blue', lw=1, label=r'$p_T$')"
   ]
  },
  {
   "cell_type": "code",
   "execution_count": null,
   "metadata": {},
   "outputs": [],
   "source": [
    "import numpy as np\n",
    "import torch\n",
    "\n",
    "import matplotlib.pyplot as plt\n",
    "from datamodules.aoj import AspenOpenJets\n",
    "\n",
    "aoj = AspenOpenJets(\n",
    "    data_dir=\"/home/df630/Multimodal-Bridges/data/aoj\", data_files=\"RunG_batch0.h5\"\n",
    ")\n",
    "\n",
    "particle_set, _ = aoj(\n",
    "    num_jets=10_000,\n",
    "    download=False,\n",
    "    features={\"continuous\":None, \"discrete\": \"tokens\"},\n",
    ")\n"
   ]
  }
 ],
 "metadata": {
  "kernelspec": {
   "display_name": "markov_bridges",
   "language": "python",
   "name": "python3"
  },
  "language_info": {
   "codemirror_mode": {
    "name": "ipython",
    "version": 3
   },
   "file_extension": ".py",
   "mimetype": "text/x-python",
   "name": "python",
   "nbconvert_exporter": "python",
   "pygments_lexer": "ipython3",
   "version": "3.11.12"
  },
  "orig_nbformat": 4
 },
 "nbformat": 4,
 "nbformat_minor": 2
}
