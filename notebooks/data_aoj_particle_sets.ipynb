{
 "cells": [
  {
   "cell_type": "code",
   "execution_count": 4,
   "metadata": {},
   "outputs": [
    {
     "name": "stderr",
     "output_type": "stream",
     "text": [
      "/home/df630/Multimodal-flows/multimodal_flows/datamodules/aoj.py:87: UserWarning: To copy construct from a tensor, it is recommended to use sourceTensor.detach().clone() or sourceTensor.detach().clone().requires_grad_(True), rather than torch.tensor(sourceTensor).\n",
      "  list_discrete_feats.append(torch.tensor(feats[features[\"discrete\"]]))\n"
     ]
    }
   ],
   "source": [
    "import numpy as np\n",
    "import torch\n",
    "\n",
    "import matplotlib.pyplot as plt\n",
    "from datamodules.aoj import AspenOpenJets \n",
    "\n",
    "aoj = AspenOpenJets(\n",
    "    data_dir=\"/home/df630/Multimodal-Bridges/data/aoj\", data_files=\"RunG_batch0.h5\"\n",
    ")\n",
    "\n",
    "particle_set, _ = aoj(num_jets=10_000,\n",
    "                      download=False,\n",
    "                      features={\"continuous\": None, \"discrete\": \"tokens\"},\n",
    "                      pt_order=True,\n",
    "                      padding='zeros',\n",
    "                      )\n",
    "\n",
    "particle_set.mask = torch.ones_like(particle_set.discrete)\n"
   ]
  },
  {
   "cell_type": "code",
   "execution_count": 5,
   "metadata": {},
   "outputs": [
    {
     "data": {
      "text/plain": [
       "<Axes: ylabel='Density'>"
      ]
     },
     "execution_count": 5,
     "metadata": {},
     "output_type": "execute_result"
    },
    {
     "data": {
      "image/png": "[encoded data removed]",
      "text/plain": [
       "<Figure size 640x480 with 1 Axes>"
      ]
     },
     "metadata": {},
     "output_type": "display_data"
    }
   ],
   "source": [
    "import seaborn as sns\n",
    "\n",
    "sns.histplot((particle_set.discrete > 0).sum(dim=1), \n",
    "             discrete=True,\n",
    "             stat=\"density\",\n",
    "             element=\"step\",\n",
    "             )"
   ]
  },
  {
   "cell_type": "code",
   "execution_count": 46,
   "metadata": {},
   "outputs": [
    {
     "data": {
      "text/plain": [
       "tensor([[[ True],\n",
       "         [ True],\n",
       "         [ True],\n",
       "         ...,\n",
       "         [False],\n",
       "         [False],\n",
       "         [False]],\n",
       "\n",
       "        [[ True],\n",
       "         [ True],\n",
       "         [ True],\n",
       "         ...,\n",
       "         [False],\n",
       "         [False],\n",
       "         [False]],\n",
       "\n",
       "        [[ True],\n",
       "         [ True],\n",
       "         [ True],\n",
       "         ...,\n",
       "         [False],\n",
       "         [False],\n",
       "         [False]],\n",
       "\n",
       "        ...,\n",
       "\n",
       "        [[ True],\n",
       "         [ True],\n",
       "         [ True],\n",
       "         ...,\n",
       "         [False],\n",
       "         [False],\n",
       "         [False]],\n",
       "\n",
       "        [[ True],\n",
       "         [ True],\n",
       "         [ True],\n",
       "         ...,\n",
       "         [False],\n",
       "         [False],\n",
       "         [False]],\n",
       "\n",
       "        [[ True],\n",
       "         [ True],\n",
       "         [ True],\n",
       "         ...,\n",
       "         [False],\n",
       "         [False],\n",
       "         [False]]])"
      ]
     },
     "execution_count": 46,
     "metadata": {},
     "output_type": "execute_result"
    }
   ],
   "source": [
    "particle_set.discrete > 0"
   ]
  },
  {
   "cell_type": "code",
   "execution_count": 10,
   "metadata": {},
   "outputs": [
    {
     "data": {
      "text/plain": [
       "TensorMultiModal(time=None, continuous=None, discrete=tensor([[[1],\n",
       "         [1],\n",
       "         [3],\n",
       "         ...,\n",
       "         [0],\n",
       "         [0],\n",
       "         [0]],\n",
       "\n",
       "        [[4],\n",
       "         [3],\n",
       "         [4],\n",
       "         ...,\n",
       "         [0],\n",
       "         [0],\n",
       "         [0]],\n",
       "\n",
       "        [[4],\n",
       "         [1],\n",
       "         [3],\n",
       "         ...,\n",
       "         [0],\n",
       "         [0],\n",
       "         [0]],\n",
       "\n",
       "        ...,\n",
       "\n",
       "        [[4],\n",
       "         [1],\n",
       "         [3],\n",
       "         ...,\n",
       "         [0],\n",
       "         [0],\n",
       "         [0]],\n",
       "\n",
       "        [[3],\n",
       "         [3],\n",
       "         [1],\n",
       "         ...,\n",
       "         [0],\n",
       "         [0],\n",
       "         [0]],\n",
       "\n",
       "        [[1],\n",
       "         [4],\n",
       "         [3],\n",
       "         ...,\n",
       "         [0],\n",
       "         [0],\n",
       "         [0]]]), mask=tensor([[[1],\n",
       "         [1],\n",
       "         [1],\n",
       "         ...,\n",
       "         [1],\n",
       "         [1],\n",
       "         [1]],\n",
       "\n",
       "        [[1],\n",
       "         [1],\n",
       "         [1],\n",
       "         ...,\n",
       "         [1],\n",
       "         [1],\n",
       "         [1]],\n",
       "\n",
       "        [[1],\n",
       "         [1],\n",
       "         [1],\n",
       "         ...,\n",
       "         [1],\n",
       "         [1],\n",
       "         [1]],\n",
       "\n",
       "        ...,\n",
       "\n",
       "        [[1],\n",
       "         [1],\n",
       "         [1],\n",
       "         ...,\n",
       "         [1],\n",
       "         [1],\n",
       "         [1]],\n",
       "\n",
       "        [[1],\n",
       "         [1],\n",
       "         [1],\n",
       "         ...,\n",
       "         [1],\n",
       "         [1],\n",
       "         [1]],\n",
       "\n",
       "        [[1],\n",
       "         [1],\n",
       "         [1],\n",
       "         ...,\n",
       "         [1],\n",
       "         [1],\n",
       "         [1]]]))"
      ]
     },
     "execution_count": 10,
     "metadata": {},
     "output_type": "execute_result"
    }
   ],
   "source": [
    "data.target"
   ]
  },
  {
   "cell_type": "code",
   "execution_count": 14,
   "metadata": {},
   "outputs": [
    {
     "data": {
      "text/plain": [
       "TensorMultiModal(time=None, continuous=None, discrete=tensor([[[1],\n",
       "         [1],\n",
       "         [3],\n",
       "         ...,\n",
       "         [0],\n",
       "         [0],\n",
       "         [0]],\n",
       "\n",
       "        [[4],\n",
       "         [3],\n",
       "         [4],\n",
       "         ...,\n",
       "         [0],\n",
       "         [0],\n",
       "         [0]],\n",
       "\n",
       "        [[4],\n",
       "         [1],\n",
       "         [3],\n",
       "         ...,\n",
       "         [0],\n",
       "         [0],\n",
       "         [0]],\n",
       "\n",
       "        ...,\n",
       "\n",
       "        [[4],\n",
       "         [1],\n",
       "         [3],\n",
       "         ...,\n",
       "         [0],\n",
       "         [0],\n",
       "         [0]],\n",
       "\n",
       "        [[3],\n",
       "         [3],\n",
       "         [1],\n",
       "         ...,\n",
       "         [0],\n",
       "         [0],\n",
       "         [0]],\n",
       "\n",
       "        [[1],\n",
       "         [4],\n",
       "         [3],\n",
       "         ...,\n",
       "         [0],\n",
       "         [0],\n",
       "         [0]]]), mask=tensor([[[1],\n",
       "         [1],\n",
       "         [1],\n",
       "         ...,\n",
       "         [1],\n",
       "         [1],\n",
       "         [1]],\n",
       "\n",
       "        [[1],\n",
       "         [1],\n",
       "         [1],\n",
       "         ...,\n",
       "         [1],\n",
       "         [1],\n",
       "         [1]],\n",
       "\n",
       "        [[1],\n",
       "         [1],\n",
       "         [1],\n",
       "         ...,\n",
       "         [1],\n",
       "         [1],\n",
       "         [1]],\n",
       "\n",
       "        ...,\n",
       "\n",
       "        [[1],\n",
       "         [1],\n",
       "         [1],\n",
       "         ...,\n",
       "         [1],\n",
       "         [1],\n",
       "         [1]],\n",
       "\n",
       "        [[1],\n",
       "         [1],\n",
       "         [1],\n",
       "         ...,\n",
       "         [1],\n",
       "         [1],\n",
       "         [1]],\n",
       "\n",
       "        [[1],\n",
       "         [1],\n",
       "         [1],\n",
       "         ...,\n",
       "         [1],\n",
       "         [1],\n",
       "         [1]]]))"
      ]
     },
     "execution_count": 14,
     "metadata": {},
     "output_type": "execute_result"
    }
   ],
   "source": [
    "dataset.data.target"
   ]
  },
  {
   "cell_type": "code",
   "execution_count": 6,
   "metadata": {},
   "outputs": [
    {
     "ename": "ValueError",
     "evalue": "num_samples should be a positive integer value, but got num_samples=0",
     "output_type": "error",
     "traceback": [
      "\u001b[31m---------------------------------------------------------------------------\u001b[39m",
      "\u001b[31mValueError\u001b[39m                                Traceback (most recent call last)",
      "\u001b[36mCell\u001b[39m\u001b[36m \u001b[39m\u001b[32mIn[6]\u001b[39m\u001b[32m, line 13\u001b[39m\n\u001b[32m     10\u001b[39m val_size   = \u001b[38;5;28mlen\u001b[39m(dataset) - train_size\n\u001b[32m     12\u001b[39m train_dataset, val_dataset = random_split(dataset, [train_size, val_size])\n\u001b[32m---> \u001b[39m\u001b[32m13\u001b[39m train_dataloader = \u001b[43mDataLoader\u001b[49m\u001b[43m(\u001b[49m\u001b[43mtrain_dataset\u001b[49m\u001b[43m,\u001b[49m\u001b[43m \u001b[49m\u001b[43mbatch_size\u001b[49m\u001b[43m=\u001b[49m\u001b[43mbatch_size\u001b[49m\u001b[43m,\u001b[49m\u001b[43m \u001b[49m\u001b[43mshuffle\u001b[49m\u001b[43m=\u001b[49m\u001b[38;5;28;43;01mTrue\u001b[39;49;00m\u001b[43m,\u001b[49m\u001b[43m \u001b[49m\u001b[43mcollate_fn\u001b[49m\u001b[43m=\u001b[49m\u001b[43mdata_coupling_collate_fn\u001b[49m\u001b[43m)\u001b[49m\n\u001b[32m     14\u001b[39m val_dataloader   = DataLoader(val_dataset,   batch_size=batch_size, shuffle=\u001b[38;5;28;01mFalse\u001b[39;00m, collate_fn=data_coupling_collate_fn)\n",
      "\u001b[36mFile \u001b[39m\u001b[32m~/.conda/envs/multiflows/lib/python3.11/site-packages/torch/utils/data/dataloader.py:385\u001b[39m, in \u001b[36mDataLoader.__init__\u001b[39m\u001b[34m(self, dataset, batch_size, shuffle, sampler, batch_sampler, num_workers, collate_fn, pin_memory, drop_last, timeout, worker_init_fn, multiprocessing_context, generator, prefetch_factor, persistent_workers, pin_memory_device, in_order)\u001b[39m\n\u001b[32m    383\u001b[39m \u001b[38;5;28;01melse\u001b[39;00m:  \u001b[38;5;66;03m# map-style\u001b[39;00m\n\u001b[32m    384\u001b[39m     \u001b[38;5;28;01mif\u001b[39;00m shuffle:\n\u001b[32m--> \u001b[39m\u001b[32m385\u001b[39m         sampler = \u001b[43mRandomSampler\u001b[49m\u001b[43m(\u001b[49m\u001b[43mdataset\u001b[49m\u001b[43m,\u001b[49m\u001b[43m \u001b[49m\u001b[43mgenerator\u001b[49m\u001b[43m=\u001b[49m\u001b[43mgenerator\u001b[49m\u001b[43m)\u001b[49m  \u001b[38;5;66;03m# type: ignore[arg-type]\u001b[39;00m\n\u001b[32m    386\u001b[39m     \u001b[38;5;28;01melse\u001b[39;00m:\n\u001b[32m    387\u001b[39m         sampler = SequentialSampler(dataset)  \u001b[38;5;66;03m# type: ignore[arg-type]\u001b[39;00m\n",
      "\u001b[36mFile \u001b[39m\u001b[32m~/.conda/envs/multiflows/lib/python3.11/site-packages/torch/utils/data/sampler.py:156\u001b[39m, in \u001b[36mRandomSampler.__init__\u001b[39m\u001b[34m(self, data_source, replacement, num_samples, generator)\u001b[39m\n\u001b[32m    151\u001b[39m     \u001b[38;5;28;01mraise\u001b[39;00m \u001b[38;5;167;01mTypeError\u001b[39;00m(\n\u001b[32m    152\u001b[39m         \u001b[33mf\u001b[39m\u001b[33m\"\u001b[39m\u001b[33mreplacement should be a boolean value, but got replacement=\u001b[39m\u001b[38;5;132;01m{\u001b[39;00m\u001b[38;5;28mself\u001b[39m.replacement\u001b[38;5;132;01m}\u001b[39;00m\u001b[33m\"\u001b[39m\n\u001b[32m    153\u001b[39m     )\n\u001b[32m    155\u001b[39m \u001b[38;5;28;01mif\u001b[39;00m \u001b[38;5;129;01mnot\u001b[39;00m \u001b[38;5;28misinstance\u001b[39m(\u001b[38;5;28mself\u001b[39m.num_samples, \u001b[38;5;28mint\u001b[39m) \u001b[38;5;129;01mor\u001b[39;00m \u001b[38;5;28mself\u001b[39m.num_samples <= \u001b[32m0\u001b[39m:\n\u001b[32m--> \u001b[39m\u001b[32m156\u001b[39m     \u001b[38;5;28;01mraise\u001b[39;00m \u001b[38;5;167;01mValueError\u001b[39;00m(\n\u001b[32m    157\u001b[39m         \u001b[33mf\u001b[39m\u001b[33m\"\u001b[39m\u001b[33mnum_samples should be a positive integer value, but got num_samples=\u001b[39m\u001b[38;5;132;01m{\u001b[39;00m\u001b[38;5;28mself\u001b[39m.num_samples\u001b[38;5;132;01m}\u001b[39;00m\u001b[33m\"\u001b[39m\n\u001b[32m    158\u001b[39m     )\n",
      "\u001b[31mValueError\u001b[39m: num_samples should be a positive integer value, but got num_samples=0"
     ]
    }
   ],
   "source": [
    "from torch.utils.data import DataLoader, random_split\n",
    "from tensorclass import TensorMultiModal\n",
    "from datamodules.datasets import MultiModalDataset, DataCoupling, data_coupling_collate_fn\n",
    "\n",
    "data = DataCoupling(source=TensorMultiModal(), target=particle_set)\n",
    "dataset = MultiModalDataset(data)\n",
    "batch_size = 128\n",
    "\n",
    "train_size = int(0.8 * len(dataset))\n",
    "val_size   = len(dataset) - train_size\n",
    "\n",
    "train_dataset, val_dataset = random_split(dataset, [train_size, val_size])\n",
    "train_dataloader = DataLoader(train_dataset, batch_size=batch_size, shuffle=True, collate_fn=data_coupling_collate_fn)\n",
    "val_dataloader   = DataLoader(val_dataset,   batch_size=batch_size, shuffle=False, collate_fn=data_coupling_collate_fn)"
   ]
  },
  {
   "cell_type": "code",
   "execution_count": 4,
   "metadata": {},
   "outputs": [],
   "source": [
    "import torch\n",
    "\n",
    "from transformers import GPT2LMHeadModel, GPT2Config\n",
    "\n",
    "class PermutationInvariantGPT2LMHeadModel(GPT2LMHeadModel):\n",
    "    \"\"\"\n",
    "    A GPT2LMHeadModel with the causal mask removed (i.e. attention is\n",
    "    fully permutation-invariant).  Everything else (positional embeddings,\n",
    "    layer structure, LM head, etc.) is identical to vanilla GPT-2.\n",
    "    \"\"\"\n",
    "\n",
    "    def __init__(self, config: GPT2Config):\n",
    "        super().__init__(config)\n",
    "        # Overwrite each layer's causal bias buffer so that it's all 1s\n",
    "        # (so no positions get masked out)\n",
    "        for block in self.transformer.h:\n",
    "            # `block.attn.bias` is a buffer of shape [1,1,seq_len,seq_len]\n",
    "            # the lower‐triangular mask.  Fill it with ones → no masking.\n",
    "            block.attn.bias.data.fill_(1)\n",
    "\n",
    "        # Re-initialize weights if you like, or keep pretrained ones:\n",
    "        # self.init_weights()\n",
    "\n",
    "\n",
    "    def forward(\n",
    "        self,\n",
    "        input_ids=None,\n",
    "        past_key_values=None,\n",
    "        attention_mask=None,\n",
    "        token_type_ids=None,\n",
    "        position_ids=None,\n",
    "        head_mask=None,\n",
    "        inputs_embeds=None,\n",
    "        **kwargs\n",
    "    ):\n",
    "        \"\"\"\n",
    "        Same signature as GPT2LMHeadModel, but any causal masking\n",
    "        has been neutralized.  You can still optionally pass an\n",
    "        `attention_mask` for padding or other custom masks.\n",
    "        \"\"\"\n",
    "        return super().forward(\n",
    "            input_ids=input_ids,\n",
    "            past_key_values=past_key_values,\n",
    "            attention_mask=attention_mask,\n",
    "            token_type_ids=token_type_ids,\n",
    "            position_ids=position_ids,\n",
    "            head_mask=head_mask,\n",
    "            inputs_embeds=inputs_embeds,\n",
    "            **kwargs\n",
    "        )"
   ]
  },
  {
   "cell_type": "code",
   "execution_count": null,
   "metadata": {},
   "outputs": [],
   "source": [
    "import torch\n",
    "import torch.nn as nn\n",
    "import pytorch_lightning as L\n",
    "from typing import List, Tuple, Dict, Union\n",
    "\n",
    "from torch.optim.lr_scheduler import CosineAnnealingLR\n",
    "\n",
    "from tensorclass import TensorMultiModal\n",
    "from datamodules.datasets import DataCoupling\n",
    "\n",
    "from model.solvers import DiscreteSolver\n",
    "from model.bridges import TelegraphBridge\n",
    "from model.thermostats import Thermostat\n",
    "\n",
    "class ConstantThermostat(Thermostat):\n",
    "    ''' beta(r) = const.\n",
    "    '''\n",
    "    def _integral(self, t0, t1):\n",
    "        return t1 - t0\n",
    "\n",
    "\n",
    "class MarkovJumpBridge(L.LightningModule):\n",
    "    \"\"\"Bridge-Matching model for multi-modal data\"\"\"\n",
    "\n",
    "    def __init__(self, \n",
    "                 gamma=0.075, \n",
    "                 vocab_size=9,\n",
    "                 num_jets=30000,\n",
    "                 max_num_particles=150,\n",
    "                 lr_final=0.0001,\n",
    "                 lr=0.001,\n",
    "                 max_epochs=100,\n",
    "                 time_eps=1e-5,\n",
    "                 ):\n",
    "        super().__init__()\n",
    "\n",
    "        self.gamma = gamma\n",
    "        self.vocab_size = vocab_size\n",
    "        self.path_snapshots_idx = True\n",
    "        self.num_jets = num_jets\n",
    "        self.max_num_particles = max_num_particles\n",
    "        self.lr_final = lr_final\n",
    "        self.lr = lr\n",
    "        self.max_epochs = max_epochs\n",
    "        self.time_eps = time_eps\n",
    "\n",
    "        thermostat = ConstantThermostat(self.gamma , self.vocab_size)\n",
    "\n",
    "        self.telegraph_bridge = TelegraphBridge(gamma=self.gamma ,\n",
    "                                                vocab_size=self.vocab_size,\n",
    "                                                thermostat_fn=thermostat,\n",
    "                                                )\n",
    "        self.save_hyperparameters()\n",
    "\n",
    "        config = GPT2Config(vocab_size=self.vocab_size, \n",
    "                            n_positions=self.max_num_particles,  \n",
    "                            n_ctx=self.max_num_particles,  \n",
    "                            n_embd=128,\n",
    "                            n_layer=4,\n",
    "                            n_head=4,\n",
    "                            activation_function='gelu_new',\n",
    "                            attn_pdrop=0.1,\n",
    "                            embd_pdrop=0.1,\n",
    "                            resid_pdrop=0.1,\n",
    "                        )\n",
    "\n",
    "        self.model = PermutationInvariantGPT2LMHeadModel(config)\n",
    "\n",
    "    # ...Lightning functions\n",
    "\n",
    "    def forward(self, state: TensorMultiModal, batch: DataCoupling) -> TensorMultiModal:\n",
    "        \n",
    "        return self.model(input_ids=state.discrete.squeeze(-1).long(), \n",
    "                          attention_mask=state.mask.squeeze(-1).long(),\n",
    "                          )\n",
    "        \n",
    "    def training_step(self, batch: DataCoupling, batch_idx) -> Dict[str, torch.Tensor]:\n",
    "\n",
    "        state = self.sample_bridges(batch)\n",
    "        state = state.to(self.device)\n",
    "        target = batch.target.discrete.squeeze(-1).to(self.device)\n",
    "\n",
    "        print(state.discrete.shape, state.mask.shape, target.shape)\n",
    "        \n",
    "\n",
    "        outputs = self.model(input_ids=state.discrete.squeeze(-1).long(),\n",
    "                             attention_mask=state.mask.squeeze(-1).long(),\n",
    "                             labels=target,\n",
    "                            )\n",
    "        loss = outputs.loss\n",
    "\n",
    "        return {\"loss\": loss}\n",
    "\n",
    "    def validation_step(self, batch: DataCoupling, batch_idx) -> Dict[str, torch.Tensor]:\n",
    "        state = self.sample_bridges(batch)\n",
    "        state = state.to(self.device)\n",
    "        target = batch.target.discrete.squeeze(-1).to(self.device)\n",
    "\n",
    "        outputs = self.model(input_ids=state.discrete.squeeze(-1).long(),\n",
    "                             attention_mask=state.mask.squeeze(-1).long(),\n",
    "                             labels=target.long(),\n",
    "                            )\n",
    "        loss = outputs.loss\n",
    "\n",
    "        return {\"val_loss\": loss}\n",
    "\n",
    "    def predict_step(\n",
    "        self, batch: DataCoupling, batch_idx\n",
    "    ) -> Tuple[TensorMultiModal, TensorMultiModal, TensorMultiModal]:\n",
    "\n",
    "        \"\"\"generate target data from source by solving EOMs\n",
    "        \"\"\"\n",
    "\n",
    "        source_tokens = torch.randint(0, \n",
    "                                      self.vocab_size, \n",
    "                                      (self.num_jets, self.max_num_particles, 1), \n",
    "                                      device=self.device)\n",
    "\n",
    "        mask = torch.ones((self.num_jets, \n",
    "                           self.max_num_particles, 1), \n",
    "                           device=self.device).long()\n",
    "\n",
    "        batch.source = self.sample_source(\n",
    "                shape=batch.target.shape, device=self.device, sample_masks=False\n",
    "            )\n",
    "\n",
    "        source_state = TensorMultiModal(\n",
    "            torch.zeros_like(mask),\n",
    "            None,\n",
    "            source_tokens,\n",
    "            mask,\n",
    "        )  # t=0\n",
    "\n",
    "        paths = self.simulate_dynamics(source_state, batch)  # still preprocessed!\n",
    "\n",
    "        return paths.detach().cpu()\n",
    "\n",
    "    def configure_optimizers(self):\n",
    "        optimizer = torch.optim.Adam(self.parameters(), lr=self.lr)\n",
    "\n",
    "        scheduler = CosineAnnealingLR(\n",
    "            optimizer,\n",
    "            T_max=self.max_epochs,    # full cycle length\n",
    "            eta_min=self.lr_final             # final LR\n",
    "        )\n",
    "        return {\n",
    "            \"optimizer\": optimizer,\n",
    "            \"lr_scheduler\": {\n",
    "                \"scheduler\": scheduler,\n",
    "                \"interval\": \"epoch\",   \n",
    "                \"frequency\": 1,\n",
    "                \"strict\": True,\n",
    "            },\n",
    "        }\n",
    "\n",
    "    # ...Model functions\n",
    "\n",
    "    def sample_bridges(self, batch: DataCoupling) -> TensorMultiModal:\n",
    "        \"\"\"sample stochastic bridges\n",
    "        \"\"\"\n",
    "\n",
    "        eps = self.time_eps  # min time resolution\n",
    "        t = eps + (1 - eps) * torch.rand(len(batch), device=self.device)\n",
    "        time = self.reshape_time_dim_like(t, batch)\n",
    "\n",
    "        source_tokens = torch.randint(0, self.vocab_size, (len(batch), self.max_num_particles, 1), device=self.device)\n",
    "        mask = torch.ones((len(batch), \n",
    "                           self.max_num_particles, 1), \n",
    "                           device=self.device).long()\n",
    "\n",
    "        batch.source = TensorMultiModal(None, None, source_tokens, mask)\n",
    "        noisy_tokens = self.telegraph_bridge.sample(time, batch)\n",
    "\n",
    "        return TensorMultiModal(time, None, noisy_tokens, mask)\n",
    "\n",
    "    def simulate_dynamics(\n",
    "        self, state: TensorMultiModal, batch: DataCoupling\n",
    "    ) -> TensorMultiModal:\n",
    "        \"\"\"generate target data from source input using trained dynamics\n",
    "        returns the final state of the bridge at the end of the time interval\n",
    "        \"\"\"\n",
    "        eps = self.config.model.time_eps  # min time resolution\n",
    "        steps = self.config.model.num_timesteps\n",
    "        time_steps = torch.linspace(eps, 1.0 - eps, steps, device=self.device)\n",
    "        delta_t = (time_steps[-1] - time_steps[0]) / (len(time_steps) - 1)\n",
    "\n",
    "        solver_discrete = DiscreteSolver(self.config, model=self)\n",
    "\n",
    "        paths = [state.clone()]  # append t=0 source\n",
    "\n",
    "        for i, t in enumerate(time_steps):\n",
    "            is_last_step = (i == len(time_steps) - 1)\n",
    "            state.time = torch.full((len(batch), 1), t.item(), device=self.device)\n",
    "            state = solver_discrete.fwd_step(state, batch, delta_t, is_last_step)\n",
    "            state.broadcast_time()  # (B,1) -> (B,D,1)\n",
    "            \n",
    "            if isinstance(self.path_snapshots_idx, list):\n",
    "                for i in self.path_history_idx:\n",
    "                    paths.append(state.clone())\n",
    "\n",
    "        # if state.has_discrete:\n",
    "        #     max_rate = torch.max(rates, dim=2)[1]\n",
    "        #     state.discrete = max_rate.unsqueeze(-1)\n",
    "\n",
    "        paths.append(state)  # append t=1 generated target\n",
    "        paths = TensorMultiModal.stack(paths, dim=0)\n",
    "        return paths\n",
    "\n",
    "    def reshape_time_dim_like(self, t, state: Union[TensorMultiModal, DataCoupling]):\n",
    "        if isinstance(t, (float, int)):\n",
    "            return t\n",
    "        else:\n",
    "            return t.reshape(-1, *([1] * (state.ndim - 1)))\n"
   ]
  },
  {
   "cell_type": "code",
   "execution_count": null,
   "metadata": {},
   "outputs": [],
   "source": [
    "import numpy as np\n",
    "import pandas as pd\n",
    "import torch\n",
    "import os\n",
    "from pathlib import Path\n",
    "import awkward as ak\n",
    "import vector\n",
    "import fastjet\n",
    "import yaml\n",
    "import matplotlib.pyplot as plt\n",
    "from matplotlib.gridspec import GridSpec\n",
    "import seaborn as sns\n",
    "\n",
    "from pytorch_lightning.callbacks import Callback\n",
    "from lightning.pytorch.utilities import rank_zero_only\n",
    "from sklearn.metrics import roc_curve, auc\n",
    "\n",
    "from datamodule_jetclass import JetSequence\n",
    "\n",
    "vector.register_awkward()\n",
    "\n",
    "# TODO TODO\n",
    "\n",
    "class GeneratorCallback(Callback):\n",
    "    def __init__(self, config):\n",
    "        super().__init__()\n",
    "        self.config = config\n",
    "        self.experiment_dir = Path(f'{config.dir}/{config.project_name}/{config.experiment_id}')\n",
    "        self.jet_type = config.jet_type\n",
    "        self.data_dir = f'{config.dir}/JetClass' \n",
    "        self.tag = config.tag\n",
    "        self.max_seq_length=config.max_seq_length\n",
    "\n",
    "    def on_predict_start(self, trainer, pl_module):\n",
    "        self.batched_data = []\n",
    "        self.predict_type = trainer.model.predict_type\n",
    "        self.start_token = trainer.model.start_token\n",
    "        self.end_token = trainer.model.end_token\n",
    "        self.pad_token = trainer.model.pad_token\n",
    "        self.file_name = f'{self.predict_type}_{self.jet_type}_seq_{self.tag}'\n",
    "\n",
    "    def on_predict_batch_end(self, trainer, pl_module, outputs, batch, batch_idx, dataloader_idx):\n",
    "        self.batched_data.append(outputs)\n",
    "\n",
    "    def on_predict_end(self, trainer, pl_module):\n",
    "        rank = trainer.global_rank\n",
    "\n",
    "        self._save_results_local(rank)\n",
    "        trainer.strategy.barrier()  # wait for all ranks to finish\n",
    "\n",
    "        if trainer.is_global_zero:\n",
    "            self._gather_results_global(trainer)\n",
    "            self._clean_temp_files()\n",
    "\n",
    "    def _save_results_local(self, rank):\n",
    "        data = torch.cat(self.batched_data, dim=0)\n",
    "        random = np.random.randint(0, 1000)\n",
    "        path = f\"{self.experiment_dir}/{self.predict_type}_temp_data_{rank}_{random}.pt\"\n",
    "        torch.save(data, path)\n",
    "\n",
    "    @rank_zero_only\n",
    "    def _gather_results_global(self, trainer):\n",
    "        \n",
    "        os.mkdir(f'{self.experiment_dir}/{self.predict_type}_results_{self.tag}')\n",
    "\n",
    "        with open(f'{self.experiment_dir}/{self.predict_type}_results_{self.tag}/configs.yaml' , 'w' ) as outfile:\n",
    "            yaml.dump( self.config.__dict__, outfile, sort_keys=False)\n",
    "\n",
    "        temp_files = self.experiment_dir.glob(f\"{self.predict_type}_temp_data_*_*.pt\")\n",
    "        data_tokens = torch.cat([torch.load(str(f)) for f in temp_files], dim=0)\n",
    "\n",
    "        print(f'INFO: first event: {data_tokens[0]}')\n",
    "\n",
    "        np.save(f'{self.experiment_dir}/{self.predict_type}_results_{self.tag}/{self.file_name}_tokens.npy', data_tokens)\n",
    "        print(f'\\nINFO: generated {data_tokens.shape[0]} jet sequences')\n",
    "        print(f'INFO: data saved in {self.experiment_dir}/{self.predict_type}_results_{self.tag}')\n",
    "\n",
    "        Jets = JetSequence()\n",
    "        data_tokens = torch.where(data_tokens>=self.start_token, -1 * torch.ones_like(data_tokens), data_tokens)\n",
    "        data_binned = binnify(Jets.seq_to_bins_decoding(data_tokens[:, 1:]), self.data_dir) # rm start token\n",
    "\n",
    "        np.save(f'{self.experiment_dir}/{self.predict_type}_results_{self.tag}/{self.file_name}_binned.npy', data_binned)\n",
    "        print(f'INFO: saved binned jets with shape {data_binned.shape}')\n",
    "\n",
    "        if self.config.plots:\n",
    "            print('INFO: plotting results...')\n",
    "            self._plot_results(data_binned, \n",
    "                            path=f'{self.experiment_dir}/{self.predict_type}_results_{self.tag}', \n",
    "                            N=100_000\n",
    "                            )\n",
    "\n",
    "    def _clean_temp_files(self):\n",
    "        for f in self.experiment_dir.glob(f\"{self.predict_type}_temp_data_*_*.pt\"):\n",
    "            f.unlink()\n"
   ]
  },
  {
   "cell_type": "code",
   "execution_count": null,
   "metadata": {},
   "outputs": [],
   "source": []
  },
  {
   "cell_type": "code",
   "execution_count": null,
   "metadata": {},
   "outputs": [],
   "source": []
  },
  {
   "cell_type": "code",
   "execution_count": 2,
   "metadata": {},
   "outputs": [
    {
     "name": "stderr",
     "output_type": "stream",
     "text": [
      "/home/df630/Multimodal-flows/multimodal_flows/datamodules/aoj.py:87: UserWarning: To copy construct from a tensor, it is recommended to use sourceTensor.detach().clone() or sourceTensor.detach().clone().requires_grad_(True), rather than torch.tensor(sourceTensor).\n",
      "  list_discrete_feats.append(torch.tensor(feats[features[\"discrete\"]]))\n"
     ]
    }
   ],
   "source": [
    "import numpy as np\n",
    "import torch\n",
    "\n",
    "import matplotlib.pyplot as plt\n",
    "from datamodules.aoj import AspenOpenJets \n",
    "\n",
    "aoj = AspenOpenJets(\n",
    "    data_dir=\"/home/df630/Multimodal-Bridges/data/aoj\", data_files=\"RunG_batch0.h5\"\n",
    ")\n",
    "\n",
    "particle_set, _ = aoj(num_jets=3_000,\n",
    "                      download=False,\n",
    "                      features={\"continuous\": None, \"discrete\": \"tokens\"},\n",
    "                      pt_order=True,\n",
    "                      padding='zeros',\n",
    "                      )\n",
    "\n",
    "particle_set.mask = torch.ones_like(particle_set.discrete)\n"
   ]
  },
  {
   "cell_type": "code",
   "execution_count": 23,
   "metadata": {},
   "outputs": [
    {
     "data": {
      "text/plain": [
       "tensor([1, 1, 3, 4, 4, 2, 3, 3, 3, 3, 2, 3, 1, 4, 2, 1, 4, 4, 3, 4, 4, 4, 3, 1,\n",
       "        3, 1, 1, 3, 1, 1, 3, 3, 3, 3, 1, 3, 0, 0, 0, 0, 0, 0, 0, 0, 0, 0, 0, 0,\n",
       "        0, 0, 0, 0, 0, 0, 0, 0, 0, 0, 0, 0, 0, 0, 0, 0, 0, 0, 0, 0, 0, 0, 0, 0,\n",
       "        0, 0, 0, 0, 0, 0, 0, 0, 0, 0, 0, 0, 0, 0, 0, 0, 0, 0, 0, 0, 0, 0, 0, 0,\n",
       "        0, 0, 0, 0, 0, 0, 0, 0, 0, 0, 0, 0, 0, 0, 0, 0, 0, 0, 0, 0, 0, 0, 0, 0,\n",
       "        0, 0, 0, 0, 0, 0, 0, 0, 0, 0, 0, 0, 0, 0, 0, 0, 0, 0, 0, 0, 0, 0, 0, 0,\n",
       "        0, 0, 0, 0, 0, 0])"
      ]
     },
     "execution_count": 23,
     "metadata": {},
     "output_type": "execute_result"
    }
   ],
   "source": [
    "particle_set.discrete[0].squeeze(-1)"
   ]
  },
  {
   "cell_type": "code",
   "execution_count": 1,
   "metadata": {},
   "outputs": [],
   "source": [
    "import torch\n",
    "from pytorch_lightning.loggers import CometLogger\n",
    "import pytorch_lightning as L\n",
    "from torch.utils.data import DataLoader, random_split\n",
    "from tensorclass import TensorMultiModal\n",
    "from datamodules.datasets import MultiModalDataset, DataCoupling, data_coupling_collate_fn\n",
    "from model.multimodal_bridge_matching import MarkovJumpBridge\n",
    "\n",
    "\n",
    "experiment_id = '62ddb0e522d945a7982785b40f7ed96a'\n",
    "vocab_size = 9\n",
    "num_jets = 3000\n",
    "max_num_particles = 150\n",
    "batch_size=100\n",
    "\n",
    "mjb = MarkovJumpBridge.load_from_checkpoint(f\"/home/df630/Multimodal-flows/results/jet_sequences/{experiment_id}/checkpoints/best.ckpt\", map_location=\"cpu\",)\n"
   ]
  },
  {
   "cell_type": "code",
   "execution_count": 2,
   "metadata": {},
   "outputs": [],
   "source": [
    "noise = torch.randint(0, vocab_size, (num_jets, max_num_particles, 1))\n",
    "mask = torch.ones((num_jets, max_num_particles, 1))\n",
    "source = TensorMultiModal(discrete=noise, mask=mask)\n",
    "\n",
    "data = DataCoupling(source=source, target=TensorMultiModal())\n",
    "dataset = MultiModalDataset(data)\n",
    "predict_dataloader   = DataLoader(dataset, batch_size=batch_size, shuffle=False, collate_fn=data_coupling_collate_fn)\n"
   ]
  },
  {
   "cell_type": "code",
   "execution_count": 3,
   "metadata": {},
   "outputs": [
    {
     "name": "stderr",
     "output_type": "stream",
     "text": [
      "Using default `ModelCheckpoint`. Consider installing `litmodels` package to enable `LitModelCheckpoint` for automatic upload to the Lightning model registry.\n",
      "GPU available: True (cuda), used: True\n",
      "TPU available: False, using: 0 TPU cores\n",
      "HPU available: False, using: 0 HPUs\n",
      "LOCAL_RANK: 0 - CUDA_VISIBLE_DEVICES: [0,1,2,3]\n",
      "/home/df630/.conda/envs/multiflows/lib/python3.11/site-packages/pytorch_lightning/trainer/connectors/data_connector.py:425: The 'predict_dataloader' does not have many workers which may be a bottleneck. Consider increasing the value of the `num_workers` argument` to `num_workers=19` in the `DataLoader` to improve performance.\n"
     ]
    },
    {
     "data": {
      "application/vnd.jupyter.widget-view+json": {
       "model_id": "ab04723c0fcd44abb573a030d040e0a6",
       "version_major": 2,
       "version_minor": 0
      },
      "text/plain": [
       "Predicting: |          | 0/? [00:00<?, ?it/s]"
      ]
     },
     "metadata": {},
     "output_type": "display_data"
    },
    {
     "name": "stdout",
     "output_type": "stream",
     "text": [
      "INFO: Simulating 1000 steps\n"
     ]
    },
    {
     "ename": "AttributeError",
     "evalue": "'CausalLMOutputWithCrossAttentions' object has no attribute 'softmax'",
     "output_type": "error",
     "traceback": [
      "\u001b[31m---------------------------------------------------------------------------\u001b[39m",
      "\u001b[31mAttributeError\u001b[39m                            Traceback (most recent call last)",
      "\u001b[36mCell\u001b[39m\u001b[36m \u001b[39m\u001b[32mIn[3]\u001b[39m\u001b[32m, line 5\u001b[39m\n\u001b[32m      1\u001b[39m generator = L.Trainer(accelerator=\u001b[33m\"\u001b[39m\u001b[33mgpu\u001b[39m\u001b[33m\"\u001b[39m, \n\u001b[32m      2\u001b[39m                       devices=[\u001b[32m0\u001b[39m], \n\u001b[32m      3\u001b[39m                       )\n\u001b[32m----> \u001b[39m\u001b[32m5\u001b[39m x = \u001b[43mgenerator\u001b[49m\u001b[43m.\u001b[49m\u001b[43mpredict\u001b[49m\u001b[43m(\u001b[49m\u001b[43mmjb\u001b[49m\u001b[43m,\u001b[49m\u001b[43m \u001b[49m\u001b[43mdataloaders\u001b[49m\u001b[43m=\u001b[49m\u001b[43mpredict_dataloader\u001b[49m\u001b[43m)\u001b[49m\n",
      "\u001b[36mFile \u001b[39m\u001b[32m~/.conda/envs/multiflows/lib/python3.11/site-packages/pytorch_lightning/trainer/trainer.py:887\u001b[39m, in \u001b[36mTrainer.predict\u001b[39m\u001b[34m(self, model, dataloaders, datamodule, return_predictions, ckpt_path)\u001b[39m\n\u001b[32m    885\u001b[39m \u001b[38;5;28mself\u001b[39m.state.status = TrainerStatus.RUNNING\n\u001b[32m    886\u001b[39m \u001b[38;5;28mself\u001b[39m.predicting = \u001b[38;5;28;01mTrue\u001b[39;00m\n\u001b[32m--> \u001b[39m\u001b[32m887\u001b[39m \u001b[38;5;28;01mreturn\u001b[39;00m \u001b[43mcall\u001b[49m\u001b[43m.\u001b[49m\u001b[43m_call_and_handle_interrupt\u001b[49m\u001b[43m(\u001b[49m\n\u001b[32m    888\u001b[39m \u001b[43m    \u001b[49m\u001b[38;5;28;43mself\u001b[39;49m\u001b[43m,\u001b[49m\u001b[43m \u001b[49m\u001b[38;5;28;43mself\u001b[39;49m\u001b[43m.\u001b[49m\u001b[43m_predict_impl\u001b[49m\u001b[43m,\u001b[49m\u001b[43m \u001b[49m\u001b[43mmodel\u001b[49m\u001b[43m,\u001b[49m\u001b[43m \u001b[49m\u001b[43mdataloaders\u001b[49m\u001b[43m,\u001b[49m\u001b[43m \u001b[49m\u001b[43mdatamodule\u001b[49m\u001b[43m,\u001b[49m\u001b[43m \u001b[49m\u001b[43mreturn_predictions\u001b[49m\u001b[43m,\u001b[49m\u001b[43m \u001b[49m\u001b[43mckpt_path\u001b[49m\n\u001b[32m    889\u001b[39m \u001b[43m\u001b[49m\u001b[43m)\u001b[49m\n",
      "\u001b[36mFile \u001b[39m\u001b[32m~/.conda/envs/multiflows/lib/python3.11/site-packages/pytorch_lightning/trainer/call.py:48\u001b[39m, in \u001b[36m_call_and_handle_interrupt\u001b[39m\u001b[34m(trainer, trainer_fn, *args, **kwargs)\u001b[39m\n\u001b[32m     46\u001b[39m     \u001b[38;5;28;01mif\u001b[39;00m trainer.strategy.launcher \u001b[38;5;129;01mis\u001b[39;00m \u001b[38;5;129;01mnot\u001b[39;00m \u001b[38;5;28;01mNone\u001b[39;00m:\n\u001b[32m     47\u001b[39m         \u001b[38;5;28;01mreturn\u001b[39;00m trainer.strategy.launcher.launch(trainer_fn, *args, trainer=trainer, **kwargs)\n\u001b[32m---> \u001b[39m\u001b[32m48\u001b[39m     \u001b[38;5;28;01mreturn\u001b[39;00m \u001b[43mtrainer_fn\u001b[49m\u001b[43m(\u001b[49m\u001b[43m*\u001b[49m\u001b[43margs\u001b[49m\u001b[43m,\u001b[49m\u001b[43m \u001b[49m\u001b[43m*\u001b[49m\u001b[43m*\u001b[49m\u001b[43mkwargs\u001b[49m\u001b[43m)\u001b[49m\n\u001b[32m     50\u001b[39m \u001b[38;5;28;01mexcept\u001b[39;00m _TunerExitException:\n\u001b[32m     51\u001b[39m     _call_teardown_hook(trainer)\n",
      "\u001b[36mFile \u001b[39m\u001b[32m~/.conda/envs/multiflows/lib/python3.11/site-packages/pytorch_lightning/trainer/trainer.py:928\u001b[39m, in \u001b[36mTrainer._predict_impl\u001b[39m\u001b[34m(self, model, dataloaders, datamodule, return_predictions, ckpt_path)\u001b[39m\n\u001b[32m    924\u001b[39m     download_model_from_registry(ckpt_path, \u001b[38;5;28mself\u001b[39m)\n\u001b[32m    925\u001b[39m ckpt_path = \u001b[38;5;28mself\u001b[39m._checkpoint_connector._select_ckpt_path(\n\u001b[32m    926\u001b[39m     \u001b[38;5;28mself\u001b[39m.state.fn, ckpt_path, model_provided=model_provided, model_connected=\u001b[38;5;28mself\u001b[39m.lightning_module \u001b[38;5;129;01mis\u001b[39;00m \u001b[38;5;129;01mnot\u001b[39;00m \u001b[38;5;28;01mNone\u001b[39;00m\n\u001b[32m    927\u001b[39m )\n\u001b[32m--> \u001b[39m\u001b[32m928\u001b[39m results = \u001b[38;5;28;43mself\u001b[39;49m\u001b[43m.\u001b[49m\u001b[43m_run\u001b[49m\u001b[43m(\u001b[49m\u001b[43mmodel\u001b[49m\u001b[43m,\u001b[49m\u001b[43m \u001b[49m\u001b[43mckpt_path\u001b[49m\u001b[43m=\u001b[49m\u001b[43mckpt_path\u001b[49m\u001b[43m)\u001b[49m\n\u001b[32m    930\u001b[39m \u001b[38;5;28;01massert\u001b[39;00m \u001b[38;5;28mself\u001b[39m.state.stopped\n\u001b[32m    931\u001b[39m \u001b[38;5;28mself\u001b[39m.predicting = \u001b[38;5;28;01mFalse\u001b[39;00m\n",
      "\u001b[36mFile \u001b[39m\u001b[32m~/.conda/envs/multiflows/lib/python3.11/site-packages/pytorch_lightning/trainer/trainer.py:1012\u001b[39m, in \u001b[36mTrainer._run\u001b[39m\u001b[34m(self, model, ckpt_path)\u001b[39m\n\u001b[32m   1007\u001b[39m \u001b[38;5;28mself\u001b[39m._signal_connector.register_signal_handlers()\n\u001b[32m   1009\u001b[39m \u001b[38;5;66;03m# ----------------------------\u001b[39;00m\n\u001b[32m   1010\u001b[39m \u001b[38;5;66;03m# RUN THE TRAINER\u001b[39;00m\n\u001b[32m   1011\u001b[39m \u001b[38;5;66;03m# ----------------------------\u001b[39;00m\n\u001b[32m-> \u001b[39m\u001b[32m1012\u001b[39m results = \u001b[38;5;28;43mself\u001b[39;49m\u001b[43m.\u001b[49m\u001b[43m_run_stage\u001b[49m\u001b[43m(\u001b[49m\u001b[43m)\u001b[49m\n\u001b[32m   1014\u001b[39m \u001b[38;5;66;03m# ----------------------------\u001b[39;00m\n\u001b[32m   1015\u001b[39m \u001b[38;5;66;03m# POST-Training CLEAN UP\u001b[39;00m\n\u001b[32m   1016\u001b[39m \u001b[38;5;66;03m# ----------------------------\u001b[39;00m\n\u001b[32m   1017\u001b[39m log.debug(\u001b[33mf\u001b[39m\u001b[33m\"\u001b[39m\u001b[38;5;132;01m{\u001b[39;00m\u001b[38;5;28mself\u001b[39m.\u001b[34m__class__\u001b[39m.\u001b[34m__name__\u001b[39m\u001b[38;5;132;01m}\u001b[39;00m\u001b[33m: trainer tearing down\u001b[39m\u001b[33m\"\u001b[39m)\n",
      "\u001b[36mFile \u001b[39m\u001b[32m~/.conda/envs/multiflows/lib/python3.11/site-packages/pytorch_lightning/trainer/trainer.py:1051\u001b[39m, in \u001b[36mTrainer._run_stage\u001b[39m\u001b[34m(self)\u001b[39m\n\u001b[32m   1049\u001b[39m     \u001b[38;5;28;01mreturn\u001b[39;00m \u001b[38;5;28mself\u001b[39m._evaluation_loop.run()\n\u001b[32m   1050\u001b[39m \u001b[38;5;28;01mif\u001b[39;00m \u001b[38;5;28mself\u001b[39m.predicting:\n\u001b[32m-> \u001b[39m\u001b[32m1051\u001b[39m     \u001b[38;5;28;01mreturn\u001b[39;00m \u001b[38;5;28;43mself\u001b[39;49m\u001b[43m.\u001b[49m\u001b[43mpredict_loop\u001b[49m\u001b[43m.\u001b[49m\u001b[43mrun\u001b[49m\u001b[43m(\u001b[49m\u001b[43m)\u001b[49m\n\u001b[32m   1052\u001b[39m \u001b[38;5;28;01mif\u001b[39;00m \u001b[38;5;28mself\u001b[39m.training:\n\u001b[32m   1053\u001b[39m     \u001b[38;5;28;01mwith\u001b[39;00m isolate_rng():\n",
      "\u001b[36mFile \u001b[39m\u001b[32m~/.conda/envs/multiflows/lib/python3.11/site-packages/pytorch_lightning/loops/utilities.py:179\u001b[39m, in \u001b[36m_no_grad_context.<locals>._decorator\u001b[39m\u001b[34m(self, *args, **kwargs)\u001b[39m\n\u001b[32m    177\u001b[39m     context_manager = torch.no_grad\n\u001b[32m    178\u001b[39m \u001b[38;5;28;01mwith\u001b[39;00m context_manager():\n\u001b[32m--> \u001b[39m\u001b[32m179\u001b[39m     \u001b[38;5;28;01mreturn\u001b[39;00m \u001b[43mloop_run\u001b[49m\u001b[43m(\u001b[49m\u001b[38;5;28;43mself\u001b[39;49m\u001b[43m,\u001b[49m\u001b[43m \u001b[49m\u001b[43m*\u001b[49m\u001b[43margs\u001b[49m\u001b[43m,\u001b[49m\u001b[43m \u001b[49m\u001b[43m*\u001b[49m\u001b[43m*\u001b[49m\u001b[43mkwargs\u001b[49m\u001b[43m)\u001b[49m\n",
      "\u001b[36mFile \u001b[39m\u001b[32m~/.conda/envs/multiflows/lib/python3.11/site-packages/pytorch_lightning/loops/prediction_loop.py:125\u001b[39m, in \u001b[36m_PredictionLoop.run\u001b[39m\u001b[34m(self)\u001b[39m\n\u001b[32m    123\u001b[39m     \u001b[38;5;28mself\u001b[39m.batch_progress.is_last_batch = data_fetcher.done\n\u001b[32m    124\u001b[39m     \u001b[38;5;66;03m# run step hooks\u001b[39;00m\n\u001b[32m--> \u001b[39m\u001b[32m125\u001b[39m     \u001b[38;5;28;43mself\u001b[39;49m\u001b[43m.\u001b[49m\u001b[43m_predict_step\u001b[49m\u001b[43m(\u001b[49m\u001b[43mbatch\u001b[49m\u001b[43m,\u001b[49m\u001b[43m \u001b[49m\u001b[43mbatch_idx\u001b[49m\u001b[43m,\u001b[49m\u001b[43m \u001b[49m\u001b[43mdataloader_idx\u001b[49m\u001b[43m,\u001b[49m\u001b[43m \u001b[49m\u001b[43mdataloader_iter\u001b[49m\u001b[43m)\u001b[49m\n\u001b[32m    126\u001b[39m \u001b[38;5;28;01mexcept\u001b[39;00m \u001b[38;5;167;01mStopIteration\u001b[39;00m:\n\u001b[32m    127\u001b[39m     \u001b[38;5;66;03m# this needs to wrap the `*_step` call too (not just `next`) for `dataloader_iter` support\u001b[39;00m\n\u001b[32m    128\u001b[39m     \u001b[38;5;28;01mbreak\u001b[39;00m\n",
      "\u001b[36mFile \u001b[39m\u001b[32m~/.conda/envs/multiflows/lib/python3.11/site-packages/pytorch_lightning/loops/prediction_loop.py:255\u001b[39m, in \u001b[36m_PredictionLoop._predict_step\u001b[39m\u001b[34m(self, batch, batch_idx, dataloader_idx, dataloader_iter)\u001b[39m\n\u001b[32m    249\u001b[39m \u001b[38;5;66;03m# configure step_kwargs\u001b[39;00m\n\u001b[32m    250\u001b[39m step_args = (\n\u001b[32m    251\u001b[39m     \u001b[38;5;28mself\u001b[39m._build_step_args_from_hook_kwargs(hook_kwargs, \u001b[33m\"\u001b[39m\u001b[33mpredict_step\u001b[39m\u001b[33m\"\u001b[39m)\n\u001b[32m    252\u001b[39m     \u001b[38;5;28;01mif\u001b[39;00m \u001b[38;5;129;01mnot\u001b[39;00m using_dataloader_iter\n\u001b[32m    253\u001b[39m     \u001b[38;5;28;01melse\u001b[39;00m (dataloader_iter,)\n\u001b[32m    254\u001b[39m )\n\u001b[32m--> \u001b[39m\u001b[32m255\u001b[39m predictions = \u001b[43mcall\u001b[49m\u001b[43m.\u001b[49m\u001b[43m_call_strategy_hook\u001b[49m\u001b[43m(\u001b[49m\u001b[43mtrainer\u001b[49m\u001b[43m,\u001b[49m\u001b[43m \u001b[49m\u001b[33;43m\"\u001b[39;49m\u001b[33;43mpredict_step\u001b[39;49m\u001b[33;43m\"\u001b[39;49m\u001b[43m,\u001b[49m\u001b[43m \u001b[49m\u001b[43m*\u001b[49m\u001b[43mstep_args\u001b[49m\u001b[43m)\u001b[49m\n\u001b[32m    256\u001b[39m \u001b[38;5;28;01mif\u001b[39;00m predictions \u001b[38;5;129;01mis\u001b[39;00m \u001b[38;5;28;01mNone\u001b[39;00m:\n\u001b[32m    257\u001b[39m     \u001b[38;5;28mself\u001b[39m._warning_cache.warn(\u001b[33m\"\u001b[39m\u001b[33mpredict returned None if it was on purpose, ignore this warning...\u001b[39m\u001b[33m\"\u001b[39m)\n",
      "\u001b[36mFile \u001b[39m\u001b[32m~/.conda/envs/multiflows/lib/python3.11/site-packages/pytorch_lightning/trainer/call.py:328\u001b[39m, in \u001b[36m_call_strategy_hook\u001b[39m\u001b[34m(trainer, hook_name, *args, **kwargs)\u001b[39m\n\u001b[32m    325\u001b[39m     \u001b[38;5;28;01mreturn\u001b[39;00m \u001b[38;5;28;01mNone\u001b[39;00m\n\u001b[32m    327\u001b[39m \u001b[38;5;28;01mwith\u001b[39;00m trainer.profiler.profile(\u001b[33mf\u001b[39m\u001b[33m\"\u001b[39m\u001b[33m[Strategy]\u001b[39m\u001b[38;5;132;01m{\u001b[39;00mtrainer.strategy.\u001b[34m__class__\u001b[39m.\u001b[34m__name__\u001b[39m\u001b[38;5;132;01m}\u001b[39;00m\u001b[33m.\u001b[39m\u001b[38;5;132;01m{\u001b[39;00mhook_name\u001b[38;5;132;01m}\u001b[39;00m\u001b[33m\"\u001b[39m):\n\u001b[32m--> \u001b[39m\u001b[32m328\u001b[39m     output = \u001b[43mfn\u001b[49m\u001b[43m(\u001b[49m\u001b[43m*\u001b[49m\u001b[43margs\u001b[49m\u001b[43m,\u001b[49m\u001b[43m \u001b[49m\u001b[43m*\u001b[49m\u001b[43m*\u001b[49m\u001b[43mkwargs\u001b[49m\u001b[43m)\u001b[49m\n\u001b[32m    330\u001b[39m \u001b[38;5;66;03m# restore current_fx when nested context\u001b[39;00m\n\u001b[32m    331\u001b[39m pl_module._current_fx_name = prev_fx_name\n",
      "\u001b[36mFile \u001b[39m\u001b[32m~/.conda/envs/multiflows/lib/python3.11/site-packages/pytorch_lightning/strategies/strategy.py:438\u001b[39m, in \u001b[36mStrategy.predict_step\u001b[39m\u001b[34m(self, *args, **kwargs)\u001b[39m\n\u001b[32m    436\u001b[39m \u001b[38;5;28;01mif\u001b[39;00m \u001b[38;5;28mself\u001b[39m.model != \u001b[38;5;28mself\u001b[39m.lightning_module:\n\u001b[32m    437\u001b[39m     \u001b[38;5;28;01mreturn\u001b[39;00m \u001b[38;5;28mself\u001b[39m._forward_redirection(\u001b[38;5;28mself\u001b[39m.model, \u001b[38;5;28mself\u001b[39m.lightning_module, \u001b[33m\"\u001b[39m\u001b[33mpredict_step\u001b[39m\u001b[33m\"\u001b[39m, *args, **kwargs)\n\u001b[32m--> \u001b[39m\u001b[32m438\u001b[39m \u001b[38;5;28;01mreturn\u001b[39;00m \u001b[38;5;28;43mself\u001b[39;49m\u001b[43m.\u001b[49m\u001b[43mlightning_module\u001b[49m\u001b[43m.\u001b[49m\u001b[43mpredict_step\u001b[49m\u001b[43m(\u001b[49m\u001b[43m*\u001b[49m\u001b[43margs\u001b[49m\u001b[43m,\u001b[49m\u001b[43m \u001b[49m\u001b[43m*\u001b[49m\u001b[43m*\u001b[49m\u001b[43mkwargs\u001b[49m\u001b[43m)\u001b[49m\n",
      "\u001b[36mFile \u001b[39m\u001b[32m~/Multimodal-flows/multimodal_flows/model/multimodal_bridge_matching.py:138\u001b[39m, in \u001b[36mMarkovJumpBridge.predict_step\u001b[39m\u001b[34m(self, batch, batch_idx)\u001b[39m\n\u001b[32m    131\u001b[39m \u001b[38;5;28;01mdef\u001b[39;00m\u001b[38;5;250m \u001b[39m\u001b[34mpredict_step\u001b[39m(\n\u001b[32m    132\u001b[39m     \u001b[38;5;28mself\u001b[39m, batch: DataCoupling, batch_idx\n\u001b[32m    133\u001b[39m ) -> Tuple[TensorMultiModal, TensorMultiModal, TensorMultiModal]:\n\u001b[32m    135\u001b[39m \u001b[38;5;250m    \u001b[39m\u001b[33;03m\"\"\"generate target data from source by solving EOMs\u001b[39;00m\n\u001b[32m    136\u001b[39m \u001b[33;03m    \"\"\"\u001b[39;00m\n\u001b[32m--> \u001b[39m\u001b[32m138\u001b[39m     paths = \u001b[38;5;28;43mself\u001b[39;49m\u001b[43m.\u001b[49m\u001b[43msimulate_dynamics\u001b[49m\u001b[43m(\u001b[49m\u001b[43mbatch\u001b[49m\u001b[43m.\u001b[49m\u001b[43msource\u001b[49m\u001b[43m)\u001b[49m  \u001b[38;5;66;03m# still preprocessed!\u001b[39;00m\n\u001b[32m    140\u001b[39m     \u001b[38;5;28;01mreturn\u001b[39;00m paths.detach().cpu()\n",
      "\u001b[36mFile \u001b[39m\u001b[32m~/Multimodal-flows/multimodal_flows/model/multimodal_bridge_matching.py:204\u001b[39m, in \u001b[36mMarkovJumpBridge.simulate_dynamics\u001b[39m\u001b[34m(self, state)\u001b[39m\n\u001b[32m    201\u001b[39m is_last_step = (i == \u001b[38;5;28mlen\u001b[39m(time_steps) - \u001b[32m1\u001b[39m)\n\u001b[32m    203\u001b[39m state.time = torch.full((\u001b[38;5;28mlen\u001b[39m(state), \u001b[32m1\u001b[39m), t.item(), device=\u001b[38;5;28mself\u001b[39m.device)            \n\u001b[32m--> \u001b[39m\u001b[32m204\u001b[39m state = \u001b[43msolver_discrete\u001b[49m\u001b[43m.\u001b[49m\u001b[43mfwd_step\u001b[49m\u001b[43m(\u001b[49m\u001b[43mstate\u001b[49m\u001b[43m,\u001b[49m\u001b[43m \u001b[49m\u001b[43mdelta_t\u001b[49m\u001b[43m,\u001b[49m\u001b[43m \u001b[49m\u001b[43mis_last_step\u001b[49m\u001b[43m)\u001b[49m\n\u001b[32m    205\u001b[39m state.broadcast_time() \n\u001b[32m    207\u001b[39m \u001b[38;5;28;01mif\u001b[39;00m \u001b[38;5;28misinstance\u001b[39m(\u001b[38;5;28mself\u001b[39m.path_snapshots_idx, \u001b[38;5;28mlist\u001b[39m):\n",
      "\u001b[36mFile \u001b[39m\u001b[32m~/Multimodal-flows/multimodal_flows/model/solvers.py:49\u001b[39m, in \u001b[36mDiscreteSolver.fwd_step\u001b[39m\u001b[34m(self, state, delta_t, last_step)\u001b[39m\n\u001b[32m     46\u001b[39m     \u001b[38;5;28;01mreturn\u001b[39;00m \u001b[38;5;28mself\u001b[39m.tauleap_step(state, delta_t, last_step)\n\u001b[32m     48\u001b[39m \u001b[38;5;28;01melif\u001b[39;00m \u001b[38;5;28mself\u001b[39m.method == \u001b[33m\"\u001b[39m\u001b[33meuler\u001b[39m\u001b[33m\"\u001b[39m:\n\u001b[32m---> \u001b[39m\u001b[32m49\u001b[39m     \u001b[38;5;28;01mreturn\u001b[39;00m \u001b[38;5;28;43mself\u001b[39;49m\u001b[43m.\u001b[49m\u001b[43meuler_step\u001b[49m\u001b[43m(\u001b[49m\u001b[43mstate\u001b[49m\u001b[43m,\u001b[49m\u001b[43m \u001b[49m\u001b[43mdelta_t\u001b[49m\u001b[43m,\u001b[49m\u001b[43m \u001b[49m\u001b[43mlast_step\u001b[49m\u001b[43m)\u001b[49m\n\u001b[32m     51\u001b[39m \u001b[38;5;28;01melif\u001b[39;00m \u001b[38;5;28mself\u001b[39m.method == \u001b[33m\"\u001b[39m\u001b[33mmidpoint\u001b[39m\u001b[33m\"\u001b[39m:\n\u001b[32m     52\u001b[39m     \u001b[38;5;28;01mreturn\u001b[39;00m \u001b[38;5;28mself\u001b[39m.midpoint_step(state, delta_t, last_step)\n",
      "\u001b[36mFile \u001b[39m\u001b[32m~/Multimodal-flows/multimodal_flows/model/solvers.py:86\u001b[39m, in \u001b[36mDiscreteSolver.euler_step\u001b[39m\u001b[34m(self, state, delta_t, last_step)\u001b[39m\n\u001b[32m     84\u001b[39m \u001b[38;5;28;01mdef\u001b[39;00m\u001b[38;5;250m \u001b[39m\u001b[34meuler_step\u001b[39m(\u001b[38;5;28mself\u001b[39m, state, delta_t, last_step=\u001b[38;5;28;01mFalse\u001b[39;00m):\n\u001b[32m     85\u001b[39m     heads = \u001b[38;5;28mself\u001b[39m.model(state, batch=\u001b[38;5;28;01mNone\u001b[39;00m) \n\u001b[32m---> \u001b[39m\u001b[32m86\u001b[39m     rates = \u001b[38;5;28;43mself\u001b[39;49m\u001b[43m.\u001b[49m\u001b[43mmodel\u001b[49m\u001b[43m.\u001b[49m\u001b[43mbridge_discrete\u001b[49m\u001b[43m.\u001b[49m\u001b[43mrate\u001b[49m\u001b[43m(\u001b[49m\u001b[43mstate\u001b[49m\u001b[43m,\u001b[49m\u001b[43m \u001b[49m\u001b[43mheads\u001b[49m\u001b[43m)\u001b[49m\n\u001b[32m     88\u001b[39m     \u001b[38;5;66;03m# off diagonal probs:\u001b[39;00m\n\u001b[32m     89\u001b[39m     state.discrete = state.discrete.squeeze(-\u001b[32m1\u001b[39m)\n",
      "\u001b[36mFile \u001b[39m\u001b[32m~/Multimodal-flows/multimodal_flows/model/bridges.py:150\u001b[39m, in \u001b[36mRandomTelegraphBridge.rate\u001b[39m\u001b[34m(self, state, logits)\u001b[39m\n\u001b[32m    142\u001b[39m k = state.discrete\n\u001b[32m    144\u001b[39m \u001b[38;5;28;01massert\u001b[39;00m (k >= \u001b[32m0\u001b[39m).all() \u001b[38;5;129;01mand\u001b[39;00m (k < \u001b[38;5;28mself\u001b[39m.vocab_size).all(), (\n\u001b[32m    145\u001b[39m     \u001b[33m\"\u001b[39m\u001b[33mValues in `k` outside of bound! k_min=\u001b[39m\u001b[38;5;132;01m{}\u001b[39;00m\u001b[33m, k_max=\u001b[39m\u001b[38;5;132;01m{}\u001b[39;00m\u001b[33m\"\u001b[39m.format(\n\u001b[32m    146\u001b[39m         k.min(), k.max()\n\u001b[32m    147\u001b[39m     )\n\u001b[32m    148\u001b[39m )\n\u001b[32m--> \u001b[39m\u001b[32m150\u001b[39m qx = \u001b[43msoftmax\u001b[49m\u001b[43m(\u001b[49m\u001b[43mlogits\u001b[49m\u001b[43m,\u001b[49m\u001b[43m \u001b[49m\u001b[43mdim\u001b[49m\u001b[43m=\u001b[49m\u001b[32;43m2\u001b[39;49m\u001b[43m)\u001b[49m \u001b[38;5;66;03m# transition probabilities to all states\u001b[39;00m\n\u001b[32m    151\u001b[39m qy = torch.gather(qx, \u001b[32m2\u001b[39m, k.long())  \u001b[38;5;66;03m# current state prob\u001b[39;00m\n\u001b[32m    153\u001b[39m \u001b[38;5;66;03m# ...Telegraph process rates:\u001b[39;00m\n",
      "\u001b[36mFile \u001b[39m\u001b[32m~/.conda/envs/multiflows/lib/python3.11/site-packages/torch/nn/functional.py:2140\u001b[39m, in \u001b[36msoftmax\u001b[39m\u001b[34m(input, dim, _stacklevel, dtype)\u001b[39m\n\u001b[32m   2138\u001b[39m     dim = _get_softmax_dim(\u001b[33m\"\u001b[39m\u001b[33msoftmax\u001b[39m\u001b[33m\"\u001b[39m, \u001b[38;5;28minput\u001b[39m.dim(), _stacklevel)\n\u001b[32m   2139\u001b[39m \u001b[38;5;28;01mif\u001b[39;00m dtype \u001b[38;5;129;01mis\u001b[39;00m \u001b[38;5;28;01mNone\u001b[39;00m:\n\u001b[32m-> \u001b[39m\u001b[32m2140\u001b[39m     ret = \u001b[38;5;28;43minput\u001b[39;49m\u001b[43m.\u001b[49m\u001b[43msoftmax\u001b[49m(dim)\n\u001b[32m   2141\u001b[39m \u001b[38;5;28;01melse\u001b[39;00m:\n\u001b[32m   2142\u001b[39m     ret = \u001b[38;5;28minput\u001b[39m.softmax(dim, dtype=dtype)\n",
      "\u001b[31mAttributeError\u001b[39m: 'CausalLMOutputWithCrossAttentions' object has no attribute 'softmax'"
     ]
    }
   ],
   "source": [
    "generator = L.Trainer(accelerator=\"gpu\", \n",
    "                      devices=[0], \n",
    "                      )\n",
    "\n",
    "x = generator.predict(mjb, dataloaders=predict_dataloader)"
   ]
  },
  {
   "cell_type": "code",
   "execution_count": 6,
   "metadata": {},
   "outputs": [],
   "source": [
    "X = torch.cat([xx.discrete for xx in x], dim=1).squeeze(-1).cpu()"
   ]
  },
  {
   "cell_type": "code",
   "execution_count": 7,
   "metadata": {},
   "outputs": [
    {
     "data": {
      "text/plain": [
       "tensor([4, 3, 3, 4, 3, 1, 4, 4, 4, 2, 2, 1, 4, 3, 1, 3, 3, 4, 4, 3, 1, 3, 1, 4,\n",
       "        4, 3, 2, 3, 1, 0, 1, 4, 1, 0, 0, 0, 0, 0, 0, 0, 0, 0, 0, 0, 0, 0, 0, 0,\n",
       "        0, 0, 0, 0, 0, 0, 0, 0, 0, 0, 0, 0, 0, 0, 0, 0, 0, 0, 0, 0, 0, 0, 0, 0,\n",
       "        0, 0, 0, 0, 0, 0, 0, 0, 0, 0, 0, 0, 0, 0, 0, 0, 0, 0, 0, 0, 0, 0, 0, 0,\n",
       "        0, 0, 0, 0, 0, 0, 0, 0, 0, 0, 0, 0, 0, 0, 0, 0, 0, 0, 0, 0, 0, 0, 0, 0,\n",
       "        0, 0, 0, 0, 0, 0, 0, 0, 0, 0, 0, 0, 0, 0, 0, 0, 0, 0, 0, 0, 0, 0, 0, 0,\n",
       "        0, 0, 0, 0, 0, 0])"
      ]
     },
     "execution_count": 7,
     "metadata": {},
     "output_type": "execute_result"
    }
   ],
   "source": [
    "X[1][0]"
   ]
  },
  {
   "cell_type": "code",
   "execution_count": 10,
   "metadata": {},
   "outputs": [
    {
     "data": {
      "text/plain": [
       "tensor([4, 4, 3, 1, 3, 1, 4, 4, 3, 3, 4, 4, 0, 3, 3, 1, 4, 3, 2, 4, 4, 1, 3, 1,\n",
       "        3, 3, 0, 0, 0, 0, 0, 0, 0, 0, 0, 0, 7, 0, 0, 0, 7, 0, 0, 0, 2, 0, 0, 0,\n",
       "        0, 0, 0, 0, 8, 0, 0, 0, 0, 0, 6, 0, 0, 0, 0, 0, 0, 0, 0, 0, 0, 0, 0, 0,\n",
       "        0, 0, 0, 0, 0, 0, 0, 0, 0, 0, 0, 5, 0, 0, 0, 0, 0, 0, 0, 0, 0, 7, 0, 0,\n",
       "        0, 0, 0, 0, 0, 0, 7, 0, 0, 0, 0, 0, 0, 0, 0, 0, 0, 0, 3, 0, 0, 0, 0, 8,\n",
       "        0, 0, 0, 0, 0, 3, 0, 0, 0, 0, 0, 0, 0, 2, 0, 0, 0, 0, 0, 0, 3, 0, 5, 0,\n",
       "        0, 0, 0, 0, 0, 0])"
      ]
     },
     "execution_count": 10,
     "metadata": {},
     "output_type": "execute_result"
    }
   ],
   "source": [
    "X[1][0]"
   ]
  },
  {
   "cell_type": "code",
   "execution_count": 28,
   "metadata": {},
   "outputs": [
    {
     "data": {
      "text/plain": [
       "<Axes: ylabel='Density'>"
      ]
     },
     "execution_count": 28,
     "metadata": {},
     "output_type": "execute_result"
    },
    {
     "data": {
      "image/png": "[encoded data removed]",
      "text/plain": [
       "<Figure size 640x480 with 1 Axes>"
      ]
     },
     "metadata": {},
     "output_type": "display_data"
    }
   ],
   "source": [
    "import seaborn as sns\n",
    "\n",
    "n = 3\n",
    "\n",
    "sns.histplot((particle_set.discrete == n).sum(dim=1), \n",
    "             discrete=True,\n",
    "             stat=\"density\",\n",
    "             element=\"step\",\n",
    "             )\n",
    "\n",
    "\n",
    "sns.histplot((X[1] == n).sum(dim=1),\n",
    "                discrete=True,\n",
    "                stat=\"density\",\n",
    "                element=\"step\",\n",
    "                )\n",
    "\n",
    "sns.histplot((X[0] == n).sum(dim=1),\n",
    "                discrete=True,\n",
    "                stat=\"density\",\n",
    "                element=\"step\",\n",
    "                fill=False,\n",
    "                )"
   ]
  },
  {
   "cell_type": "code",
   "execution_count": 20,
   "metadata": {},
   "outputs": [
    {
     "data": {
      "text/plain": [
       "array([ True, False, False, ..., False, False, False], shape=(150000,))"
      ]
     },
     "execution_count": 20,
     "metadata": {},
     "output_type": "execute_result"
    }
   ],
   "source": [
    "X[1].flatten() == 0"
   ]
  },
  {
   "cell_type": "markdown",
   "metadata": {},
   "source": [
    "## Token ocurrence per jet"
   ]
  },
  {
   "cell_type": "code",
   "execution_count": 4,
   "metadata": {},
   "outputs": [],
   "source": [
    "token_freqs = torch.tensor(\n",
    "    [\n",
    "        (data.isPhoton.sum(dim=1) / data.multiplicity.squeeze(-1)).mean(),\n",
    "        (data.isNeutralHadron.sum(dim=1) / data.multiplicity.squeeze(-1)).mean(),\n",
    "        (data.isNegativeHadron.sum(dim=1) / data.multiplicity.squeeze(-1)).mean(),\n",
    "        (data.isPositiveHadron.sum(dim=1) / data.multiplicity.squeeze(-1)).mean(),\n",
    "        (data.isElectron.sum(dim=1) / data.multiplicity.squeeze(-1)).mean(),\n",
    "        (data.isPositron.sum(dim=1) / data.multiplicity.squeeze(-1)).mean(),\n",
    "        (data.isMuon.sum(dim=1) / data.multiplicity.squeeze(-1)).mean(),\n",
    "        (data.isAntiMuon.sum(dim=1) / data.multiplicity.squeeze(-1)).mean(),\n",
    "    ]\n",
    ")"
   ]
  },
  {
   "cell_type": "code",
   "execution_count": 12,
   "metadata": {},
   "outputs": [
    {
     "name": "stderr",
     "output_type": "stream",
     "text": [
      "`loss_type=None` was set in the config but it is unrecognised.Using the default loss: `ForCausalLMLoss`.\n"
     ]
    },
    {
     "name": "stdout",
     "output_type": "stream",
     "text": [
      "✔ forward OK, loss= 2.0418574810028076\n"
     ]
    }
   ],
   "source": [
    "batch = next(iter(train_dataloader))\n",
    "state = mjb.sample_bridges(batch).to(mjb.device)\n",
    "target = batch.target.discrete.squeeze(-1).to(mjb.device)\n",
    "\n",
    "# run one forward+loss\n",
    "outputs = mjb.model(\n",
    "    input_ids      = state.discrete.squeeze(-1).long(),\n",
    "    attention_mask= state.mask.squeeze(-1).long(),\n",
    "    labels         = target.long(),\n",
    ")\n",
    "print(\"✔ forward OK, loss=\", outputs.loss.item())"
   ]
  },
  {
   "cell_type": "code",
   "execution_count": 7,
   "metadata": {},
   "outputs": [
    {
     "name": "stdout",
     "output_type": "stream",
     "text": [
      "tensor([[ 0., 10.,  3.,  ...,  0.,  0.,  0.],\n",
      "        [ 0., 13.,  1.,  ...,  0.,  0.,  1.],\n",
      "        [ 0.,  3.,  0.,  ...,  0.,  0.,  0.],\n",
      "        ...,\n",
      "        [ 0.,  9.,  1.,  ...,  0.,  1.,  0.],\n",
      "        [ 0.,  6.,  1.,  ...,  0.,  1.,  0.],\n",
      "        [ 0., 29.,  4.,  ...,  0.,  0.,  0.]])\n"
     ]
    },
    {
     "data": {
      "image/png": "[encoded data removed]",
      "text/plain": [
       "<Figure size 1200x300 with 3 Axes>"
      ]
     },
     "metadata": {},
     "output_type": "display_data"
    }
   ],
   "source": [
    "_, ax = plt.subplots(1, 3, figsize=(12, 3))\n",
    "\n",
    "jets.plot_flavor_count_per_jet(\n",
    "    markersize=8,\n",
    "    color=[\n",
    "        \"orange\",\n",
    "        \"orange\",\n",
    "        \"forestgreen\",\n",
    "        \"blue\",\n",
    "        \"blue\",\n",
    "        \"firebrick\",\n",
    "        \"firebrick\",\n",
    "        \"hotpink\",\n",
    "        \"hotpink\",\n",
    "    ],\n",
    "    ax=ax[0],\n",
    ")\n",
    "\n",
    "fill = False\n",
    "alpha = 1 \n",
    "\n",
    "data.histplot('num_Photon',ax=ax[1], fill=fill, alpha=alpha, binrange=(0, 100), binwidth=1,log_scale=(False, True),  stat='density', color='orange',lw=1,  label=r'$\\gamma$')\n",
    "data.histplot(\"num_NeutralHadron\",  ax=ax[1], fill=fill, alpha=alpha, binrange=(0, 100), binwidth=1, log_scale=(False, True),  stat='density', color='forestgreen',lw=1,  label=r'$h^0$')\n",
    "data.histplot(\"num_NegativeHadron\", ax=ax[1], fill=fill, alpha=alpha, binrange=(0, 100), binwidth=1, log_scale=(False, True) , stat='density', color='blue', lw=1, label=r'$h^-$')\n",
    "data.histplot(\"num_PositiveHadron\",  ax=ax[1], fill=fill, alpha=alpha, binrange=(0, 100), binwidth=1, log_scale=(False, True), ls=':', stat='density', color='blue', lw=1, label=r'$h^+$')\n",
    "data.histplot(\"num_Electron\", ax=ax[1], fill=fill, alpha=alpha, binrange=(0, 100),binwidth=1, log_scale=(False, True),  stat='density', color='firebrick', lw=1,  label=r'$e^-$')\n",
    "data.histplot(\"num_Positron\", ax=ax[1], fill=fill, alpha=alpha, binrange=(0, 100),binwidth=1, log_scale=(False, True),  stat='density', color='firebrick', lw=1, ls=':', label=r'$e^+$')\n",
    "data.histplot(\"num_Muon\", ax=ax[1], fill=fill, alpha=alpha, binrange=(0, 100),binwidth=1, log_scale=(False, True),  stat='density', color='hotpink', lw=1, label=r'$\\mu^-$')\n",
    "data.histplot(\"num_AntiMuon\", ax=ax[1], fill=fill, alpha=alpha, binrange=(0, 100),binwidth=1, log_scale=(False, True),  stat='density', color='hotpink', lw=1, ls=':', label=r'$\\mu^+$')\n",
    "data.histplot(\"charge\", discrete=True, ax=ax[2], alpha=0.25, label=\"electric charge\", stat='density', )\n",
    "\n",
    "ax[0].set_xlim(-0.5,7.5)\n",
    "ax[0].set_ylim(0.01,100)\n",
    "ax[1].set_ylim(1e-5,10)\n",
    "ax[1].set_xlim(-1,65)\n",
    "ax[2].set_ylim(0.0,0.13)\n",
    "\n",
    "ax[0].set_xlabel('particle flavor', fontsize=12)\n",
    "ax[1].set_xlabel('particle multiplicity $N$', fontsize=12)\n",
    "ax[1].set_ylabel('density', fontsize=10)\n",
    "ax[2].set_xlabel('jet electric charge', fontsize=12)\n",
    "ax[2].set_ylabel('density', fontsize=10)\n",
    "ax[1].legend(fontsize=12, loc=\"upper right\", handletextpad=0.5, handlelength=1., labelspacing=0.1)\n",
    "\n",
    "plt.tight_layout()\n",
    "plt.savefig(\"particle_discrete_feats.png\", dpi=1000)\n",
    "\n",
    "\n",
    "plt.show()\n",
    "\n"
   ]
  },
  {
   "cell_type": "code",
   "execution_count": null,
   "metadata": {},
   "outputs": [],
   "source": [
    "sets.histplot(\"num_Photon\", fill=False, discrete=True,  stat='density', color='blue', lw=1, label=r'$p_T$')"
   ]
  },
  {
   "cell_type": "code",
   "execution_count": null,
   "metadata": {},
   "outputs": [],
   "source": [
    "particle_sets.histplot(\"numElectrons\", discrete=True,  stat='density', color='blue', lw=1, label=r'$p_T$')"
   ]
  },
  {
   "cell_type": "code",
   "execution_count": null,
   "metadata": {},
   "outputs": [],
   "source": [
    "import numpy as np\n",
    "import torch\n",
    "\n",
    "import matplotlib.pyplot as plt\n",
    "from datamodules.aoj import AspenOpenJets\n",
    "\n",
    "aoj = AspenOpenJets(\n",
    "    data_dir=\"/home/df630/Multimodal-Bridges/data/aoj\", data_files=\"RunG_batch0.h5\"\n",
    ")\n",
    "\n",
    "particle_set, _ = aoj(\n",
    "    num_jets=10_000,\n",
    "    download=False,\n",
    "    features={\"continuous\":None, \"discrete\": \"tokens\"},\n",
    ")\n"
   ]
  }
 ],
 "metadata": {
  "kernelspec": {
   "display_name": "markov_bridges",
   "language": "python",
   "name": "python3"
  },
  "language_info": {
   "codemirror_mode": {
    "name": "ipython",
    "version": 3
   },
   "file_extension": ".py",
   "mimetype": "text/x-python",
   "name": "python",
   "nbconvert_exporter": "python",
   "pygments_lexer": "ipython3",
   "version": "3.11.12"
  },
  "orig_nbformat": 4
 },
 "nbformat": 4,
 "nbformat_minor": 2
}
