{
 "cells": [
  {
   "cell_type": "markdown",
   "metadata": {},
   "source": [
    "# Data"
   ]
  },
  {
   "cell_type": "code",
   "execution_count": 2,
   "metadata": {},
   "outputs": [],
   "source": [
    "import numpy as np\n",
    "import torch\n",
    "import matplotlib.pyplot as plt\n",
    "\n",
    "from utils.tensorclass import TensorMultiModal\n",
    "from utils.aoj import AspenOpenJets \n",
    "\n",
    "aoj = AspenOpenJets(data_dir=\"/home/df630/Multimodal-Bridges/data/aoj\", data_files=\"RunG_batch1.h5\")\n",
    "test, metadata = aoj(num_jets=10_000,\n",
    "                     download=False,\n",
    "                     features={\"continuous\": None, \"discrete\": 'onehot'},\n",
    "                     pt_order=True,\n",
    "                     transform='standardize',\n",
    "                     padding='zeros')"
   ]
  },
  {
   "cell_type": "code",
   "execution_count": 3,
   "metadata": {},
   "outputs": [
    {
     "data": {
      "text/plain": [
       "tensor([ 4.2278e-08,  2.3902e-08, -5.6163e-09, -1.2800e-08, -4.6367e-09,\n",
       "        -8.6531e-09, -4.9633e-09, -3.8204e-09])"
      ]
     },
     "execution_count": 3,
     "metadata": {},
     "output_type": "execute_result"
    }
   ],
   "source": [
    "test.continuous[test.mask.squeeze(-1) > 0].mean(0)"
   ]
  },
  {
   "cell_type": "code",
   "execution_count": 4,
   "metadata": {},
   "outputs": [
    {
     "data": {
      "text/plain": [
       "{'num_jets_sample': 10000,\n",
       " 'num_particles_sample': 467299,\n",
       " 'max_num_particles_per_jet': 150,\n",
       " 'mean': [0.2997909188270569,\n",
       "  0.08278639614582062,\n",
       "  0.3018838167190552,\n",
       "  0.31021466851234436,\n",
       "  0.0015150898834690452,\n",
       "  0.0015664489474147558,\n",
       "  0.0011084979632869363,\n",
       "  0.0011191978119313717],\n",
       " 'std': [0.4581667482852936,\n",
       "  0.27555936574935913,\n",
       "  0.4590756297111511,\n",
       "  0.4625818729400635,\n",
       "  0.03889469802379608,\n",
       "  0.03954742103815079,\n",
       "  0.03327568992972374,\n",
       "  0.033435724675655365],\n",
       " 'min': [0.0, 0.0, 0.0, 0.0, 0.0, 0.0, 0.0, 0.0],\n",
       " 'max': [1.0, 1.0, 1.0, 1.0, 1.0, 1.0, 1.0, 1.0],\n",
       " 'log_pt_mean': [-inf,\n",
       "  0.08278639614582062,\n",
       "  0.3018838167190552,\n",
       "  0.31021466851234436,\n",
       "  0.0015150898834690452,\n",
       "  0.0015664489474147558,\n",
       "  0.0011084979632869363,\n",
       "  0.0011191978119313717],\n",
       " 'log_pt_std': [nan,\n",
       "  0.27555936574935913,\n",
       "  0.4590756297111511,\n",
       "  0.4625818729400635,\n",
       "  0.03889469802379608,\n",
       "  0.03954742103815079,\n",
       "  0.03327568992972374,\n",
       "  0.033435724675655365]}"
      ]
     },
     "execution_count": 4,
     "metadata": {},
     "output_type": "execute_result"
    }
   ],
   "source": [
    "metadata"
   ]
  },
  {
   "cell_type": "code",
   "execution_count": 5,
   "metadata": {},
   "outputs": [
    {
     "data": {
      "text/plain": [
       "tensor([[[-0.3004, -0.6576, -0.6706,  ..., -0.0396, -0.0333, -0.0335],\n",
       "         [-0.3004,  1.5207, -0.6706,  ..., -0.0396, -0.0333, -0.0335],\n",
       "         [-0.3004, -0.6576,  1.4912,  ..., -0.0396, -0.0333, -0.0335],\n",
       "         ...,\n",
       "         [-0.0000,  0.0000,  0.0000,  ...,  0.0000,  0.0000,  0.0000],\n",
       "         [-0.0000,  0.0000,  0.0000,  ...,  0.0000,  0.0000,  0.0000],\n",
       "         [-0.0000,  0.0000,  0.0000,  ...,  0.0000,  0.0000,  0.0000]],\n",
       "\n",
       "        [[-0.3004, -0.6576,  1.4912,  ..., -0.0396, -0.0333, -0.0335],\n",
       "         [-0.3004, -0.6576,  1.4912,  ..., -0.0396, -0.0333, -0.0335],\n",
       "         [-0.3004,  1.5207, -0.6706,  ..., -0.0396, -0.0333, -0.0335],\n",
       "         ...,\n",
       "         [-0.0000,  0.0000,  0.0000,  ...,  0.0000,  0.0000,  0.0000],\n",
       "         [-0.0000,  0.0000,  0.0000,  ...,  0.0000,  0.0000,  0.0000],\n",
       "         [-0.0000,  0.0000,  0.0000,  ...,  0.0000,  0.0000,  0.0000]],\n",
       "\n",
       "        [[-0.3004,  1.5207, -0.6706,  ..., -0.0396, -0.0333, -0.0335],\n",
       "         [-0.3004, -0.6576,  1.4912,  ..., -0.0396, -0.0333, -0.0335],\n",
       "         [-0.3004,  1.5207, -0.6706,  ..., -0.0396, -0.0333, -0.0335],\n",
       "         ...,\n",
       "         [-0.0000,  0.0000,  0.0000,  ...,  0.0000,  0.0000,  0.0000],\n",
       "         [-0.0000,  0.0000,  0.0000,  ...,  0.0000,  0.0000,  0.0000],\n",
       "         [-0.0000,  0.0000,  0.0000,  ...,  0.0000,  0.0000,  0.0000]],\n",
       "\n",
       "        ...,\n",
       "\n",
       "        [[ 3.3286, -0.6576, -0.6706,  ..., -0.0396, -0.0333, -0.0335],\n",
       "         [-0.3004, -0.6576,  1.4912,  ..., -0.0396, -0.0333, -0.0335],\n",
       "         [-0.3004,  1.5207, -0.6706,  ..., -0.0396, -0.0333, -0.0335],\n",
       "         ...,\n",
       "         [-0.0000,  0.0000,  0.0000,  ...,  0.0000,  0.0000,  0.0000],\n",
       "         [-0.0000,  0.0000,  0.0000,  ...,  0.0000,  0.0000,  0.0000],\n",
       "         [-0.0000,  0.0000,  0.0000,  ...,  0.0000,  0.0000,  0.0000]],\n",
       "\n",
       "        [[-0.3004,  1.5207, -0.6706,  ..., -0.0396, -0.0333, -0.0335],\n",
       "         [-0.3004, -0.6576, -0.6706,  ..., -0.0396, -0.0333, -0.0335],\n",
       "         [-0.3004, -0.6576,  1.4912,  ..., -0.0396, -0.0333, -0.0335],\n",
       "         ...,\n",
       "         [-0.0000,  0.0000,  0.0000,  ...,  0.0000,  0.0000,  0.0000],\n",
       "         [-0.0000,  0.0000,  0.0000,  ...,  0.0000,  0.0000,  0.0000],\n",
       "         [-0.0000,  0.0000,  0.0000,  ...,  0.0000,  0.0000,  0.0000]],\n",
       "\n",
       "        [[-0.3004,  1.5207, -0.6706,  ..., -0.0396, -0.0333, -0.0335],\n",
       "         [-0.3004,  1.5207, -0.6706,  ..., -0.0396, -0.0333, -0.0335],\n",
       "         [-0.3004,  1.5207, -0.6706,  ..., -0.0396, -0.0333, -0.0335],\n",
       "         ...,\n",
       "         [-0.0000,  0.0000,  0.0000,  ...,  0.0000,  0.0000,  0.0000],\n",
       "         [-0.0000,  0.0000,  0.0000,  ...,  0.0000,  0.0000,  0.0000],\n",
       "         [-0.0000,  0.0000,  0.0000,  ...,  0.0000,  0.0000,  0.0000]]])"
      ]
     },
     "execution_count": 5,
     "metadata": {},
     "output_type": "execute_result"
    }
   ],
   "source": [
    "X = (test.continuous - test.continuous[test.mask.squeeze(-1) > 0].mean(0) )/ test.continuous[test.mask.squeeze(-1) > 0].std(0)\n",
    "X = X[...,1:] * test.mask\n",
    "X"
   ]
  },
  {
   "cell_type": "code",
   "execution_count": 6,
   "metadata": {},
   "outputs": [
    {
     "data": {
      "text/plain": [
       "tensor([[[-0.3004, -0.6576, -0.6706,  ..., -0.0396, -0.0333, -0.0335],\n",
       "         [-0.3004,  1.5207, -0.6706,  ..., -0.0396, -0.0333, -0.0335],\n",
       "         [-0.3004, -0.6576,  1.4912,  ..., -0.0396, -0.0333, -0.0335],\n",
       "         ...,\n",
       "         [-0.0000, -0.0000, -0.0000,  ..., -0.0000, -0.0000, -0.0000],\n",
       "         [-0.0000, -0.0000, -0.0000,  ..., -0.0000, -0.0000, -0.0000],\n",
       "         [-0.0000, -0.0000, -0.0000,  ..., -0.0000, -0.0000, -0.0000]],\n",
       "\n",
       "        [[-0.3004, -0.6576,  1.4912,  ..., -0.0396, -0.0333, -0.0335],\n",
       "         [-0.3004, -0.6576,  1.4912,  ..., -0.0396, -0.0333, -0.0335],\n",
       "         [-0.3004,  1.5207, -0.6706,  ..., -0.0396, -0.0333, -0.0335],\n",
       "         ...,\n",
       "         [-0.0000, -0.0000, -0.0000,  ..., -0.0000, -0.0000, -0.0000],\n",
       "         [-0.0000, -0.0000, -0.0000,  ..., -0.0000, -0.0000, -0.0000],\n",
       "         [-0.0000, -0.0000, -0.0000,  ..., -0.0000, -0.0000, -0.0000]],\n",
       "\n",
       "        [[-0.3004,  1.5207, -0.6706,  ..., -0.0396, -0.0333, -0.0335],\n",
       "         [-0.3004, -0.6576,  1.4912,  ..., -0.0396, -0.0333, -0.0335],\n",
       "         [-0.3004,  1.5207, -0.6706,  ..., -0.0396, -0.0333, -0.0335],\n",
       "         ...,\n",
       "         [-0.0000, -0.0000, -0.0000,  ..., -0.0000, -0.0000, -0.0000],\n",
       "         [-0.0000, -0.0000, -0.0000,  ..., -0.0000, -0.0000, -0.0000],\n",
       "         [-0.0000, -0.0000, -0.0000,  ..., -0.0000, -0.0000, -0.0000]],\n",
       "\n",
       "        ...,\n",
       "\n",
       "        [[ 3.3286, -0.6576, -0.6706,  ..., -0.0396, -0.0333, -0.0335],\n",
       "         [-0.3004, -0.6576,  1.4912,  ..., -0.0396, -0.0333, -0.0335],\n",
       "         [-0.3004,  1.5207, -0.6706,  ..., -0.0396, -0.0333, -0.0335],\n",
       "         ...,\n",
       "         [-0.0000, -0.0000, -0.0000,  ..., -0.0000, -0.0000, -0.0000],\n",
       "         [-0.0000, -0.0000, -0.0000,  ..., -0.0000, -0.0000, -0.0000],\n",
       "         [-0.0000, -0.0000, -0.0000,  ..., -0.0000, -0.0000, -0.0000]],\n",
       "\n",
       "        [[-0.3004,  1.5207, -0.6706,  ..., -0.0396, -0.0333, -0.0335],\n",
       "         [-0.3004, -0.6576, -0.6706,  ..., -0.0396, -0.0333, -0.0335],\n",
       "         [-0.3004, -0.6576,  1.4912,  ..., -0.0396, -0.0333, -0.0335],\n",
       "         ...,\n",
       "         [-0.0000, -0.0000, -0.0000,  ..., -0.0000, -0.0000, -0.0000],\n",
       "         [-0.0000, -0.0000, -0.0000,  ..., -0.0000, -0.0000, -0.0000],\n",
       "         [-0.0000, -0.0000, -0.0000,  ..., -0.0000, -0.0000, -0.0000]],\n",
       "\n",
       "        [[-0.3004,  1.5207, -0.6706,  ..., -0.0396, -0.0333, -0.0335],\n",
       "         [-0.3004,  1.5207, -0.6706,  ..., -0.0396, -0.0333, -0.0335],\n",
       "         [-0.3004,  1.5207, -0.6706,  ..., -0.0396, -0.0333, -0.0335],\n",
       "         ...,\n",
       "         [-0.0000, -0.0000, -0.0000,  ..., -0.0000, -0.0000, -0.0000],\n",
       "         [-0.0000, -0.0000, -0.0000,  ..., -0.0000, -0.0000, -0.0000],\n",
       "         [-0.0000, -0.0000, -0.0000,  ..., -0.0000, -0.0000, -0.0000]]])"
      ]
     },
     "execution_count": 6,
     "metadata": {},
     "output_type": "execute_result"
    }
   ],
   "source": [
    "test.continuous[...,1:]"
   ]
  },
  {
   "cell_type": "code",
   "execution_count": 7,
   "metadata": {},
   "outputs": [
    {
     "data": {
      "text/plain": [
       "torch.Size([10000, 150, 6])"
      ]
     },
     "execution_count": 7,
     "metadata": {},
     "output_type": "execute_result"
    }
   ],
   "source": [
    "X[..., 1:].shape"
   ]
  },
  {
   "cell_type": "code",
   "execution_count": null,
   "metadata": {},
   "outputs": [],
   "source": []
  },
  {
   "cell_type": "code",
   "execution_count": 8,
   "metadata": {},
   "outputs": [
    {
     "ename": "AttributeError",
     "evalue": "'NoneType' object has no attribute 'squeeze'",
     "output_type": "error",
     "traceback": [
      "\u001b[31m---------------------------------------------------------------------------\u001b[39m",
      "\u001b[31mAttributeError\u001b[39m                            Traceback (most recent call last)",
      "\u001b[36mCell\u001b[39m\u001b[36m \u001b[39m\u001b[32mIn[8]\u001b[39m\u001b[32m, line 3\u001b[39m\n\u001b[32m      1\u001b[39m \u001b[38;5;28;01mimport\u001b[39;00m\u001b[38;5;250m \u001b[39m\u001b[34;01mtorch\u001b[39;00m\u001b[34;01m.\u001b[39;00m\u001b[34;01mnn\u001b[39;00m\u001b[34;01m.\u001b[39;00m\u001b[34;01mfunctional\u001b[39;00m\u001b[38;5;250m \u001b[39m\u001b[38;5;28;01mas\u001b[39;00m\u001b[38;5;250m \u001b[39m\u001b[34;01mF\u001b[39;00m\n\u001b[32m----> \u001b[39m\u001b[32m3\u001b[39m F.one_hot(\u001b[43mtest\u001b[49m\u001b[43m.\u001b[49m\u001b[43mdiscrete\u001b[49m\u001b[43m.\u001b[49m\u001b[43msqueeze\u001b[49m(-\u001b[32m1\u001b[39m), num_classes=\u001b[32m9\u001b[39m)\n",
      "\u001b[31mAttributeError\u001b[39m: 'NoneType' object has no attribute 'squeeze'"
     ]
    }
   ],
   "source": [
    "import torch.nn.functional as F\n",
    "\n",
    "F.one_hot(test.discrete.squeeze(-1), num_classes=9)"
   ]
  },
  {
   "cell_type": "code",
   "execution_count": null,
   "metadata": {},
   "outputs": [],
   "source": []
  },
  {
   "cell_type": "markdown",
   "metadata": {},
   "source": [
    "# Sample CFM"
   ]
  },
  {
   "cell_type": "code",
   "execution_count": 1,
   "metadata": {},
   "outputs": [
    {
     "name": "stderr",
     "output_type": "stream",
     "text": [
      "/home/df630/.conda/envs/multiflows/lib/python3.11/site-packages/torch/nn/utils/weight_norm.py:143: FutureWarning: `torch.nn.utils.weight_norm` is deprecated in favor of `torch.nn.utils.parametrizations.weight_norm`.\n",
      "  WeightNorm.apply(module, name, dim)\n"
     ]
    }
   ],
   "source": [
    "import numpy as np\n",
    "import torch\n",
    "import pytorch_lightning as L\n",
    "import matplotlib.pyplot as plt\n",
    "\n",
    "from utils.tensorclass import TensorMultiModal\n",
    "from utils.aoj import AspenOpenJets \n",
    "from utils.datasets import MultiModalDataset, DataCoupling, data_coupling_collate_fn\n",
    "\n",
    "from model.CFM import  ConditionalFlowMatching\n",
    "from train_cfm import experiment_configs\n",
    "\n",
    "experiment_id = \"06fabc8040c441409690bb994029f2d0\"\n",
    "config = experiment_configs(f'/home/df630/Multimodal-flows/jet_sequences/{experiment_id}')\n",
    "\n",
    "cfm = ConditionalFlowMatching.load_from_checkpoint(f\"/home/df630/Multimodal-flows/jet_sequences/{experiment_id}/checkpoints/best.ckpt\", config=config)\n",
    "cfm.config.num_timesteps = 10\n",
    "cfm.config.num_jets = 20\n",
    "cfm.to('cuda:2')\n",
    "#...dataset & dataloaders:\n",
    "\n",
    "aoj = AspenOpenJets(data_dir=\"/home/df630/Multimodal-Bridges/data/aoj\", data_files=\"RunG_batch1.h5\")\n",
    "test, metadata = aoj(num_jets=cfm.config.num_jets,\n",
    "                     download=False,\n",
    "                     features={\"continuous\": ['pt', 'eta_rel', 'phi_rel'], \"discrete\": None},\n",
    "                     pt_order=True,\n",
    "                     padding='zeros')\n",
    "\n",
    "gauss_noise = torch.randn_like(test.continuous) * test.mask\n",
    "t0 = torch.full((len(test.mask),), cfm.config.time_eps)  # (B) t_0=eps\n",
    "\n",
    "source = TensorMultiModal(continuous=gauss_noise, mask=test.mask.clone(), time=t0)\n",
    "source = source.to(cfm.device)\n",
    "\n",
    "\n",
    "data = DataCoupling(source=source, target=TensorMultiModal())\n",
    "\n",
    "\n"
   ]
  },
  {
   "cell_type": "code",
   "execution_count": 2,
   "metadata": {},
   "outputs": [],
   "source": [
    "sample = cfm.simulate_dynamics(data)\n",
    "\n",
    "mu = torch.tensor(cfm.config.metadata['mean']).to(cfm.device)\n",
    "std = torch.tensor(cfm.config.metadata['std']).to(cfm.device)\n",
    "sample.target.continuous = sample.target.continuous * std + mu\n",
    "sample.target.apply_mask()\n"
   ]
  },
  {
   "cell_type": "code",
   "execution_count": 3,
   "metadata": {},
   "outputs": [
    {
     "data": {
      "text/plain": [
       "<Axes: ylabel='Density'>"
      ]
     },
     "execution_count": 3,
     "metadata": {},
     "output_type": "execute_result"
    },
    {
     "data": {
      "image/png": "[encoded data removed]",
      "text/plain": [
       "<Figure size 1000x500 with 1 Axes>"
      ]
     },
     "metadata": {},
     "output_type": "display_data"
    }
   ],
   "source": [
    "import seaborn as sns\n",
    "pt = sample.target.continuous[...,0][sample.target.mask.squeeze(-1) > 0].cpu()\n",
    "eta = sample.target.continuous[...,1][sample.target.mask.squeeze(-1) > 0].cpu()\n",
    "phi = sample.target.continuous[...,2][sample.target.mask.squeeze(-1) > 0].cpu()\n",
    "\n",
    "plt.figure(figsize=(10, 5))\n",
    "\n",
    "bins = np.linspace(0,200,100)\n",
    "sns.histplot(pt.detach().numpy(), bins=bins, stat='density', element='step', fill=False, log_scale=(False, True))\n",
    "sns.histplot(test.continuous[...,0][test.mask.squeeze(-1) > 0].cpu().numpy(), bins=bins, stat='density', element='step', fill=False, log_scale=(False, True))\n"
   ]
  },
  {
   "cell_type": "code",
   "execution_count": 5,
   "metadata": {},
   "outputs": [
    {
     "data": {
      "text/plain": [
       "<Axes: ylabel='Density'>"
      ]
     },
     "execution_count": 5,
     "metadata": {},
     "output_type": "execute_result"
    },
    {
     "data": {
      "image/png": "[encoded data removed]",
      "text/plain": [
       "<Figure size 1000x500 with 1 Axes>"
      ]
     },
     "metadata": {},
     "output_type": "display_data"
    }
   ],
   "source": [
    "import seaborn as sns\n",
    "pt = sample.target.continuous[...,0][sample.target.mask.squeeze(-1) > 0].cpu()\n",
    "eta = sample.target.continuous[...,1][sample.target.mask.squeeze(-1) > 0].cpu()\n",
    "phi = sample.target.continuous[...,2][sample.target.mask.squeeze(-1) > 0].cpu()\n",
    "\n",
    "plt.figure(figsize=(10, 5))\n",
    "\n",
    "bins = np.linspace(0,200,100)\n",
    "sns.histplot(pt.detach().numpy(), bins=bins, stat='density', element='step', fill=False, log_scale=(False, True))\n",
    "sns.histplot(test.continuous[...,0][test.mask.squeeze(-1) > 0].cpu().numpy(), bins=bins, stat='density', element='step', fill=False, log_scale=(False, True))\n"
   ]
  },
  {
   "cell_type": "markdown",
   "metadata": {},
   "source": [
    "# Sample MMF"
   ]
  },
  {
   "cell_type": "code",
   "execution_count": 1,
   "metadata": {},
   "outputs": [
    {
     "name": "stderr",
     "output_type": "stream",
     "text": [
      "/home/df630/Multimodal-flows/multimodal_flows/utils/aoj.py:98: UserWarning: To copy construct from a tensor, it is recommended to use sourceTensor.detach().clone() or sourceTensor.detach().clone().requires_grad_(True), rather than torch.tensor(sourceTensor).\n",
      "  list_discrete_feats.append(torch.tensor(feats[features[\"discrete\"]]))\n"
     ]
    },
    {
     "data": {
      "text/plain": [
       "MultiModalFlowBridge(\n",
       "  (model): MultiModalParticleFormer(\n",
       "    (transformer): ModuleDict(\n",
       "      (wxe): Sequential(\n",
       "        (0): Linear(in_features=3, out_features=128, bias=True)\n",
       "        (1): GELU(approximate='none')\n",
       "        (2): Linear(in_features=128, out_features=128, bias=True)\n",
       "      )\n",
       "      (wte): Sequential(\n",
       "        (0): Embedding(9, 128)\n",
       "        (1): GELU(approximate='none')\n",
       "        (2): Linear(in_features=128, out_features=128, bias=True)\n",
       "      )\n",
       "      (drop): Dropout(p=0.0, inplace=False)\n",
       "      (attn_blocks): ModuleList(\n",
       "        (0-3): 4 x ConvexAttentionBlock(\n",
       "          (ln1_x): LayerNorm()\n",
       "          (ln1_y): LayerNorm()\n",
       "          (self_attn_x): SelfAttention(\n",
       "            (c_attn): Linear(in_features=128, out_features=384, bias=True)\n",
       "            (c_proj): Linear(in_features=128, out_features=128, bias=True)\n",
       "            (attn_dropout): Dropout(p=0.0, inplace=False)\n",
       "            (resid_dropout): Dropout(p=0.0, inplace=False)\n",
       "            (q_layernorm): LayerNorm()\n",
       "            (k_layernorm): LayerNorm()\n",
       "          )\n",
       "          (self_attn_y): SelfAttention(\n",
       "            (c_attn): Linear(in_features=128, out_features=384, bias=True)\n",
       "            (c_proj): Linear(in_features=128, out_features=128, bias=True)\n",
       "            (attn_dropout): Dropout(p=0.0, inplace=False)\n",
       "            (resid_dropout): Dropout(p=0.0, inplace=False)\n",
       "            (q_layernorm): LayerNorm()\n",
       "            (k_layernorm): LayerNorm()\n",
       "          )\n",
       "          (cross_attn_xy): CrossAttention(\n",
       "            (c_query): Linear(in_features=128, out_features=128, bias=True)\n",
       "            (c_attn): Linear(in_features=128, out_features=256, bias=True)\n",
       "            (c_proj): Linear(in_features=128, out_features=128, bias=True)\n",
       "            (attn_dropout): Dropout(p=0.0, inplace=False)\n",
       "            (resid_dropout): Dropout(p=0.0, inplace=False)\n",
       "            (q_layernorm): LayerNorm()\n",
       "            (k_layernorm): LayerNorm()\n",
       "          )\n",
       "          (cross_attn_yx): CrossAttention(\n",
       "            (c_query): Linear(in_features=128, out_features=128, bias=True)\n",
       "            (c_attn): Linear(in_features=128, out_features=256, bias=True)\n",
       "            (c_proj): Linear(in_features=128, out_features=128, bias=True)\n",
       "            (attn_dropout): Dropout(p=0.0, inplace=False)\n",
       "            (resid_dropout): Dropout(p=0.0, inplace=False)\n",
       "            (q_layernorm): LayerNorm()\n",
       "            (k_layernorm): LayerNorm()\n",
       "          )\n",
       "          (ln2_x): LayerNorm()\n",
       "          (ln2_y): LayerNorm()\n",
       "          (mlp_x): MLP(\n",
       "            (c_fc): Linear(in_features=128, out_features=256, bias=True)\n",
       "            (gelu): GELU(approximate='none')\n",
       "            (c_proj): Linear(in_features=256, out_features=128, bias=True)\n",
       "            (dropout): Dropout(p=0.0, inplace=False)\n",
       "          )\n",
       "          (mlp_y): MLP(\n",
       "            (c_fc): Linear(in_features=128, out_features=256, bias=True)\n",
       "            (gelu): GELU(approximate='none')\n",
       "            (c_proj): Linear(in_features=256, out_features=128, bias=True)\n",
       "            (dropout): Dropout(p=0.0, inplace=False)\n",
       "          )\n",
       "        )\n",
       "      )\n",
       "      (ln_kin): LayerNorm()\n",
       "      (ln_flv): LayerNorm()\n",
       "      (head_kin): Sequential(\n",
       "        (0): Linear(in_features=128, out_features=256, bias=True)\n",
       "        (1): GELU(approximate='none')\n",
       "        (2): Linear(in_features=256, out_features=3, bias=True)\n",
       "      )\n",
       "      (head_flv): Sequential(\n",
       "        (0): Linear(in_features=128, out_features=256, bias=True)\n",
       "        (1): GELU(approximate='none')\n",
       "        (2): Linear(in_features=256, out_features=9, bias=True)\n",
       "      )\n",
       "    )\n",
       "  )\n",
       ")"
      ]
     },
     "execution_count": 1,
     "metadata": {},
     "output_type": "execute_result"
    }
   ],
   "source": [
    "import numpy as np\n",
    "import torch\n",
    "import pytorch_lightning as L\n",
    "import matplotlib.pyplot as plt\n",
    "\n",
    "from utils.tensorclass import TensorMultiModal\n",
    "from utils.aoj import AspenOpenJets \n",
    "from utils.datasets import MultiModalDataset, DataCoupling, data_coupling_collate_fn\n",
    "\n",
    "from model.MMF import  MultiModalFlowBridge\n",
    "from train_mmf import experiment_configs\n",
    "\n",
    "experiment_id = \"a58e828a3d384417b723c6ffd69175d3\"\n",
    "config = experiment_configs(f'/home/df630/Multimodal-flows/jet_sequences/{experiment_id}')\n",
    "\n",
    "mmf = MultiModalFlowBridge.load_from_checkpoint(f\"/home/df630/Multimodal-flows/jet_sequences/{experiment_id}/checkpoints/best.ckpt\", config=config)\n",
    "mmf.config.num_timesteps = 10\n",
    "mmf.config.num_jets = 20\n",
    "mmf.config.top_k = 8\n",
    "mmf.config.top_p = None\n",
    "mmf.config.temperature = 1.0\n",
    "mmf.to('cuda:2')\n",
    "\n",
    "#...dataset & dataloaders:\n",
    "\n",
    "aoj = AspenOpenJets(data_dir=\"/home/df630/Multimodal-Bridges/data/aoj\", data_files=\"RunG_batch1.h5\")\n",
    "test, metadata = aoj(num_jets=mmf.config.num_jets,\n",
    "                     download=False,\n",
    "                     features={\"continuous\": ['pt', 'eta_rel', 'phi_rel'], \"discrete\": 'tokens'},\n",
    "                     pt_order=True,\n",
    "                     padding='zeros')\n",
    "\n",
    "gauss_noise = torch.randn_like(test.continuous) * test.mask\n",
    "cat_noise = torch.randint_like(test.discrete, 1, 9) * test.mask\n",
    "t0 = torch.full((len(test.mask),), mmf.config.time_eps)  # (B) t_0=eps\n",
    "\n",
    "source = TensorMultiModal(continuous=gauss_noise, discrete=cat_noise ,mask=test.mask.clone(), time=t0)\n",
    "source = source.to(mmf.device)\n",
    "\n",
    "\n",
    "data = DataCoupling(source=source, target=TensorMultiModal())\n",
    "mmf"
   ]
  },
  {
   "cell_type": "code",
   "execution_count": 2,
   "metadata": {},
   "outputs": [],
   "source": [
    "sample = mmf.simulate_dynamics(data)\n",
    "\n",
    "mu = torch.tensor(mmf.config.metadata['mean']).to(mmf.device)\n",
    "std = torch.tensor(mmf.config.metadata['std']).to(mmf.device)\n",
    "\n",
    "sample.target.continuous = sample.target.continuous * std + mu\n",
    "\n",
    "sample.target.apply_mask()"
   ]
  },
  {
   "cell_type": "code",
   "execution_count": 3,
   "metadata": {},
   "outputs": [
    {
     "data": {
      "text/plain": [
       "DataCoupling(source=TensorMultiModal(time=tensor([1.0000e-05, 1.0000e-05, 1.0000e-05, 1.0000e-05, 1.0000e-05, 1.0000e-05,\n",
       "        1.0000e-05, 1.0000e-05, 1.0000e-05, 1.0000e-05, 1.0000e-05, 1.0000e-05,\n",
       "        1.0000e-05, 1.0000e-05, 1.0000e-05, 1.0000e-05, 1.0000e-05, 1.0000e-05,\n",
       "        1.0000e-05, 1.0000e-05], device='cuda:2'), continuous=tensor([[[-0.9278,  0.7065, -1.9342],\n",
       "         [ 0.0249, -1.2437, -0.7211],\n",
       "         [-1.0522,  0.3763,  1.1988],\n",
       "         ...,\n",
       "         [ 0.0000,  0.0000,  0.0000],\n",
       "         [-0.0000, -0.0000, -0.0000],\n",
       "         [-0.0000,  0.0000, -0.0000]],\n",
       "\n",
       "        [[ 1.2268,  0.0806,  0.3107],\n",
       "         [-0.6230, -0.2858,  1.5198],\n",
       "         [-0.9915, -1.2185, -1.3515],\n",
       "         ...,\n",
       "         [-0.0000,  0.0000, -0.0000],\n",
       "         [-0.0000, -0.0000, -0.0000],\n",
       "         [ 0.0000, -0.0000,  0.0000]],\n",
       "\n",
       "        [[-0.0703,  0.3856,  0.0197],\n",
       "         [ 0.9757,  0.7063, -0.7049],\n",
       "         [ 0.1611, -0.0867, -0.5430],\n",
       "         ...,\n",
       "         [-0.0000,  0.0000,  0.0000],\n",
       "         [ 0.0000, -0.0000, -0.0000],\n",
       "         [ 0.0000, -0.0000,  0.0000]],\n",
       "\n",
       "        ...,\n",
       "\n",
       "        [[-0.2967,  0.1251, -0.1233],\n",
       "         [-0.6629, -0.8331, -2.2453],\n",
       "         [ 1.6719,  0.0512, -0.3994],\n",
       "         ...,\n",
       "         [ 0.0000, -0.0000, -0.0000],\n",
       "         [ 0.0000, -0.0000,  0.0000],\n",
       "         [ 0.0000, -0.0000,  0.0000]],\n",
       "\n",
       "        [[-0.4401,  0.8685, -0.6338],\n",
       "         [ 2.1819, -0.2424,  0.1854],\n",
       "         [ 0.4109,  0.4327, -0.8420],\n",
       "         ...,\n",
       "         [-0.0000, -0.0000,  0.0000],\n",
       "         [ 0.0000, -0.0000, -0.0000],\n",
       "         [ 0.0000,  0.0000, -0.0000]],\n",
       "\n",
       "        [[ 0.9221,  0.2204, -1.3012],\n",
       "         [ 1.2072, -0.6759, -0.4465],\n",
       "         [ 1.0671, -0.4852,  0.9729],\n",
       "         ...,\n",
       "         [-0.0000, -0.0000, -0.0000],\n",
       "         [ 0.0000, -0.0000, -0.0000],\n",
       "         [-0.0000, -0.0000,  0.0000]]], device='cuda:2'), discrete=tensor([[[5],\n",
       "         [6],\n",
       "         [7],\n",
       "         ...,\n",
       "         [0],\n",
       "         [0],\n",
       "         [0]],\n",
       "\n",
       "        [[5],\n",
       "         [8],\n",
       "         [1],\n",
       "         ...,\n",
       "         [0],\n",
       "         [0],\n",
       "         [0]],\n",
       "\n",
       "        [[1],\n",
       "         [4],\n",
       "         [1],\n",
       "         ...,\n",
       "         [0],\n",
       "         [0],\n",
       "         [0]],\n",
       "\n",
       "        ...,\n",
       "\n",
       "        [[6],\n",
       "         [2],\n",
       "         [3],\n",
       "         ...,\n",
       "         [0],\n",
       "         [0],\n",
       "         [0]],\n",
       "\n",
       "        [[8],\n",
       "         [8],\n",
       "         [3],\n",
       "         ...,\n",
       "         [0],\n",
       "         [0],\n",
       "         [0]],\n",
       "\n",
       "        [[4],\n",
       "         [5],\n",
       "         [2],\n",
       "         ...,\n",
       "         [0],\n",
       "         [0],\n",
       "         [0]]], device='cuda:2'), mask=tensor([[[1],\n",
       "         [1],\n",
       "         [1],\n",
       "         ...,\n",
       "         [0],\n",
       "         [0],\n",
       "         [0]],\n",
       "\n",
       "        [[1],\n",
       "         [1],\n",
       "         [1],\n",
       "         ...,\n",
       "         [0],\n",
       "         [0],\n",
       "         [0]],\n",
       "\n",
       "        [[1],\n",
       "         [1],\n",
       "         [1],\n",
       "         ...,\n",
       "         [0],\n",
       "         [0],\n",
       "         [0]],\n",
       "\n",
       "        ...,\n",
       "\n",
       "        [[1],\n",
       "         [1],\n",
       "         [1],\n",
       "         ...,\n",
       "         [0],\n",
       "         [0],\n",
       "         [0]],\n",
       "\n",
       "        [[1],\n",
       "         [1],\n",
       "         [1],\n",
       "         ...,\n",
       "         [0],\n",
       "         [0],\n",
       "         [0]],\n",
       "\n",
       "        [[1],\n",
       "         [1],\n",
       "         [1],\n",
       "         ...,\n",
       "         [0],\n",
       "         [0],\n",
       "         [0]]], device='cuda:2')), target=TensorMultiModal(time=tensor([1.0000, 1.0000, 1.0000, 1.0000, 1.0000, 1.0000, 1.0000, 1.0000, 1.0000,\n",
       "        1.0000, 1.0000, 1.0000, 1.0000, 1.0000, 1.0000, 1.0000, 1.0000, 1.0000,\n",
       "        1.0000, 1.0000], device='cuda:2'), continuous=tensor([[[ 1.4119e+00,  1.3210e-01, -6.7775e-01],\n",
       "         [ 1.1783e+00, -2.8218e-01, -2.7260e-01],\n",
       "         [ 1.0107e+00,  5.1792e-02,  2.3771e-01],\n",
       "         ...,\n",
       "         [ 0.0000e+00,  0.0000e+00, -0.0000e+00],\n",
       "         [ 0.0000e+00,  0.0000e+00, -0.0000e+00],\n",
       "         [ 0.0000e+00,  0.0000e+00, -0.0000e+00]],\n",
       "\n",
       "        [[ 2.2178e+01,  3.2276e-02,  5.1522e-03],\n",
       "         [-1.8182e-01, -9.5433e-02,  3.3093e-01],\n",
       "         [-1.1104e-01, -4.4426e-01, -3.7983e-01],\n",
       "         ...,\n",
       "         [ 0.0000e+00,  0.0000e+00, -0.0000e+00],\n",
       "         [ 0.0000e+00,  0.0000e+00, -0.0000e+00],\n",
       "         [ 0.0000e+00,  0.0000e+00, -0.0000e+00]],\n",
       "\n",
       "        [[ 3.9293e+00,  5.1955e-02,  1.5847e-02],\n",
       "         [ 1.3247e+01,  4.8562e-02, -8.9545e-02],\n",
       "         [ 5.0359e+00,  3.6151e-03, -8.3207e-02],\n",
       "         ...,\n",
       "         [ 0.0000e+00,  0.0000e+00, -0.0000e+00],\n",
       "         [ 0.0000e+00,  0.0000e+00, -0.0000e+00],\n",
       "         [ 0.0000e+00,  0.0000e+00, -0.0000e+00]],\n",
       "\n",
       "        ...,\n",
       "\n",
       "        [[ 1.5601e+00,  5.0261e-02,  5.8718e-03],\n",
       "         [ 2.7513e-01, -2.0512e-01, -6.8328e-01],\n",
       "         [ 3.2322e+01, -8.1950e-02, -5.9469e-02],\n",
       "         ...,\n",
       "         [ 0.0000e+00,  0.0000e+00, -0.0000e+00],\n",
       "         [ 0.0000e+00,  0.0000e+00, -0.0000e+00],\n",
       "         [ 0.0000e+00,  0.0000e+00, -0.0000e+00]],\n",
       "\n",
       "        [[ 1.3649e+00,  2.6019e-01, -1.1284e-01],\n",
       "         [ 6.0057e+01, -8.4095e-02, -1.5600e-02],\n",
       "         [ 3.5665e+00,  1.4120e-01, -1.3345e-01],\n",
       "         ...,\n",
       "         [ 0.0000e+00,  0.0000e+00, -0.0000e+00],\n",
       "         [ 0.0000e+00,  0.0000e+00, -0.0000e+00],\n",
       "         [ 0.0000e+00,  0.0000e+00, -0.0000e+00]],\n",
       "\n",
       "        [[ 8.9535e+00,  2.6535e-02, -1.8158e-01],\n",
       "         [ 2.2416e+01, -3.6158e-02, -9.1142e-03],\n",
       "         [ 1.4890e+01, -3.5096e-02,  6.2602e-02],\n",
       "         ...,\n",
       "         [ 0.0000e+00,  0.0000e+00, -0.0000e+00],\n",
       "         [ 0.0000e+00,  0.0000e+00, -0.0000e+00],\n",
       "         [ 0.0000e+00,  0.0000e+00, -0.0000e+00]]], device='cuda:2'), discrete=tensor([[[5],\n",
       "         [7],\n",
       "         [4],\n",
       "         ...,\n",
       "         [0],\n",
       "         [0],\n",
       "         [0]],\n",
       "\n",
       "        [[7],\n",
       "         [1],\n",
       "         [2],\n",
       "         ...,\n",
       "         [0],\n",
       "         [0],\n",
       "         [0]],\n",
       "\n",
       "        [[3],\n",
       "         [4],\n",
       "         [1],\n",
       "         ...,\n",
       "         [0],\n",
       "         [0],\n",
       "         [0]],\n",
       "\n",
       "        ...,\n",
       "\n",
       "        [[5],\n",
       "         [3],\n",
       "         [2],\n",
       "         ...,\n",
       "         [0],\n",
       "         [0],\n",
       "         [0]],\n",
       "\n",
       "        [[8],\n",
       "         [6],\n",
       "         [3],\n",
       "         ...,\n",
       "         [0],\n",
       "         [0],\n",
       "         [0]],\n",
       "\n",
       "        [[7],\n",
       "         [1],\n",
       "         [0],\n",
       "         ...,\n",
       "         [0],\n",
       "         [0],\n",
       "         [0]]], device='cuda:2'), mask=tensor([[[1],\n",
       "         [1],\n",
       "         [1],\n",
       "         ...,\n",
       "         [0],\n",
       "         [0],\n",
       "         [0]],\n",
       "\n",
       "        [[1],\n",
       "         [1],\n",
       "         [1],\n",
       "         ...,\n",
       "         [0],\n",
       "         [0],\n",
       "         [0]],\n",
       "\n",
       "        [[1],\n",
       "         [1],\n",
       "         [1],\n",
       "         ...,\n",
       "         [0],\n",
       "         [0],\n",
       "         [0]],\n",
       "\n",
       "        ...,\n",
       "\n",
       "        [[1],\n",
       "         [1],\n",
       "         [1],\n",
       "         ...,\n",
       "         [0],\n",
       "         [0],\n",
       "         [0]],\n",
       "\n",
       "        [[1],\n",
       "         [1],\n",
       "         [1],\n",
       "         ...,\n",
       "         [0],\n",
       "         [0],\n",
       "         [0]],\n",
       "\n",
       "        [[1],\n",
       "         [1],\n",
       "         [1],\n",
       "         ...,\n",
       "         [0],\n",
       "         [0],\n",
       "         [0]]], device='cuda:2')), context=None)"
      ]
     },
     "execution_count": 3,
     "metadata": {},
     "output_type": "execute_result"
    }
   ],
   "source": [
    "sample"
   ]
  },
  {
   "cell_type": "code",
   "execution_count": 7,
   "metadata": {},
   "outputs": [
    {
     "data": {
      "text/plain": [
       "<Axes: ylabel='Density'>"
      ]
     },
     "execution_count": 7,
     "metadata": {},
     "output_type": "execute_result"
    },
    {
     "data": {
      "image/png": "[encoded data removed]",
      "text/plain": [
       "<Figure size 300x200 with 1 Axes>"
      ]
     },
     "metadata": {},
     "output_type": "display_data"
    },
    {
     "data": {
      "image/png": "[encoded data removed]",
      "text/plain": [
       "<Figure size 300x200 with 1 Axes>"
      ]
     },
     "metadata": {},
     "output_type": "display_data"
    },
    {
     "data": {
      "image/png": "[encoded data removed]",
      "text/plain": [
       "<Figure size 300x200 with 1 Axes>"
      ]
     },
     "metadata": {},
     "output_type": "display_data"
    }
   ],
   "source": [
    "import seaborn as sns\n",
    "pt = sample.target.continuous[...,0][sample.target.mask.squeeze(-1) > 0].cpu()\n",
    "eta = sample.target.continuous[...,1][sample.target.mask.squeeze(-1) > 0].cpu()\n",
    "phi = sample.target.continuous[...,2][sample.target.mask.squeeze(-1) > 0].cpu()\n",
    "\n",
    "plt.figure(figsize=(3, 2))\n",
    "bins = np.linspace(0,200,15)\n",
    "sns.histplot(pt.detach().numpy(), bins=bins, stat='density', element='step', fill=False, log_scale=(False, True))\n",
    "sns.histplot(test.continuous[...,0][test.mask.squeeze(-1) > 0].cpu().numpy(), bins=bins, stat='density', element='step', fill=False, log_scale=(False, True))\n",
    "\n",
    "plt.figure(figsize=(3, 2))\n",
    "bins = np.linspace(-1,1,15)\n",
    "sns.histplot(eta.detach().numpy(), bins=bins, stat='density', element='step', fill=False, log_scale=(False, True))\n",
    "sns.histplot(test.continuous[...,1][test.mask.squeeze(-1) > 0].cpu().numpy(), bins=bins, stat='density', element='step', fill=False, log_scale=(False, True))\n",
    "\n",
    "plt.figure(figsize=(3, 2))\n",
    "bins = np.linspace(-1,1,15)\n",
    "sns.histplot(phi.detach().numpy(), bins=bins, stat='density', element='step', fill=False, log_scale=(False, True))\n",
    "sns.histplot(test.continuous[...,2][test.mask.squeeze(-1) > 0].cpu().numpy(), bins=bins, stat='density', element='step', fill=False, log_scale=(False, True))\n",
    "\n"
   ]
  },
  {
   "cell_type": "code",
   "execution_count": null,
   "metadata": {},
   "outputs": [],
   "source": []
  }
 ],
 "metadata": {
  "kernelspec": {
   "display_name": "markov_bridges",
   "language": "python",
   "name": "python3"
  },
  "language_info": {
   "codemirror_mode": {
    "name": "ipython",
    "version": 3
   },
   "file_extension": ".py",
   "mimetype": "text/x-python",
   "name": "python",
   "nbconvert_exporter": "python",
   "pygments_lexer": "ipython3",
   "version": "3.11.12"
  },
  "orig_nbformat": 4
 },
 "nbformat": 4,
 "nbformat_minor": 2
}
